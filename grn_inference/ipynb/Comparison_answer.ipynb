{
 "cells": [
  {
   "cell_type": "code",
   "execution_count": 1,
   "metadata": {},
   "outputs": [],
   "source": [
    "%matplotlib inline"
   ]
  },
  {
   "cell_type": "code",
   "execution_count": 2,
   "metadata": {},
   "outputs": [],
   "source": [
    "import pandas as pd\n",
    "import numpy as np\n",
    "import matplotlib.pyplot as plt\n",
    "import seaborn as sns"
   ]
  },
  {
   "cell_type": "markdown",
   "metadata": {},
   "source": [
    "# Comparison and assessment of GRN inference methods"
   ]
  },
  {
   "cell_type": "markdown",
   "metadata": {},
   "source": [
    "## Load GRNs inferences\n"
   ]
  },
  {
   "cell_type": "code",
   "execution_count": 5,
   "metadata": {},
   "outputs": [],
   "source": [
    "df = pd.read_csv(\"Concatenation.csv\",index_col=0)"
   ]
  },
  {
   "cell_type": "code",
   "execution_count": 34,
   "metadata": {},
   "outputs": [
    {
     "data": {
      "text/html": [
       "<div>\n",
       "<style scoped>\n",
       "    .dataframe tbody tr th:only-of-type {\n",
       "        vertical-align: middle;\n",
       "    }\n",
       "\n",
       "    .dataframe tbody tr th {\n",
       "        vertical-align: top;\n",
       "    }\n",
       "\n",
       "    .dataframe thead th {\n",
       "        text-align: right;\n",
       "    }\n",
       "</style>\n",
       "<table border=\"1\" class=\"dataframe\">\n",
       "  <thead>\n",
       "    <tr style=\"text-align: right;\">\n",
       "      <th></th>\n",
       "      <th>rank_Fp</th>\n",
       "      <th>score_Fp</th>\n",
       "      <th>rank_Ff</th>\n",
       "      <th>score_Ff</th>\n",
       "      <th>rank_L1</th>\n",
       "      <th>score_L1</th>\n",
       "      <th>rank_genie3</th>\n",
       "      <th>score_genie3</th>\n",
       "      <th>rank_lasso</th>\n",
       "      <th>score_lasso</th>\n",
       "      <th>rank_MU</th>\n",
       "      <th>score_MU</th>\n",
       "    </tr>\n",
       "  </thead>\n",
       "  <tbody>\n",
       "    <tr>\n",
       "      <th>AP-2_128up</th>\n",
       "      <td>697038.0</td>\n",
       "      <td>19.810534</td>\n",
       "      <td>697038.0</td>\n",
       "      <td>19.810534</td>\n",
       "      <td>40.0</td>\n",
       "      <td>0.00</td>\n",
       "      <td>3222376.0</td>\n",
       "      <td>0.000051</td>\n",
       "      <td>224782.0</td>\n",
       "      <td>-0.0</td>\n",
       "      <td>1491542.0</td>\n",
       "      <td>0.095487</td>\n",
       "    </tr>\n",
       "    <tr>\n",
       "      <th>AP-2_14-3-3epsilon</th>\n",
       "      <td>2914431.0</td>\n",
       "      <td>0.891930</td>\n",
       "      <td>2914431.0</td>\n",
       "      <td>0.891930</td>\n",
       "      <td>40.0</td>\n",
       "      <td>0.00</td>\n",
       "      <td>3599075.0</td>\n",
       "      <td>0.000010</td>\n",
       "      <td>224782.0</td>\n",
       "      <td>-0.0</td>\n",
       "      <td>2371660.0</td>\n",
       "      <td>0.036340</td>\n",
       "    </tr>\n",
       "    <tr>\n",
       "      <th>AP-2_14-3-3zeta</th>\n",
       "      <td>1675339.0</td>\n",
       "      <td>5.626692</td>\n",
       "      <td>1675339.0</td>\n",
       "      <td>5.626692</td>\n",
       "      <td>40.0</td>\n",
       "      <td>0.00</td>\n",
       "      <td>403323.0</td>\n",
       "      <td>0.003226</td>\n",
       "      <td>224782.0</td>\n",
       "      <td>0.0</td>\n",
       "      <td>1759208.0</td>\n",
       "      <td>0.076210</td>\n",
       "    </tr>\n",
       "    <tr>\n",
       "      <th>AP-2_140up</th>\n",
       "      <td>639279.0</td>\n",
       "      <td>21.589479</td>\n",
       "      <td>639279.0</td>\n",
       "      <td>21.589479</td>\n",
       "      <td>38.0</td>\n",
       "      <td>0.04</td>\n",
       "      <td>516395.0</td>\n",
       "      <td>0.002409</td>\n",
       "      <td>224782.0</td>\n",
       "      <td>0.0</td>\n",
       "      <td>2106952.0</td>\n",
       "      <td>0.053130</td>\n",
       "    </tr>\n",
       "    <tr>\n",
       "      <th>AP-2_18w</th>\n",
       "      <td>127334.0</td>\n",
       "      <td>66.664716</td>\n",
       "      <td>127334.0</td>\n",
       "      <td>66.664716</td>\n",
       "      <td>40.0</td>\n",
       "      <td>0.00</td>\n",
       "      <td>691518.0</td>\n",
       "      <td>0.001697</td>\n",
       "      <td>224782.0</td>\n",
       "      <td>0.0</td>\n",
       "      <td>463400.0</td>\n",
       "      <td>0.214440</td>\n",
       "    </tr>\n",
       "  </tbody>\n",
       "</table>\n",
       "</div>"
      ],
      "text/plain": [
       "                      rank_Fp   score_Fp    rank_Ff   score_Ff  rank_L1  \\\n",
       "AP-2_128up           697038.0  19.810534   697038.0  19.810534     40.0   \n",
       "AP-2_14-3-3epsilon  2914431.0   0.891930  2914431.0   0.891930     40.0   \n",
       "AP-2_14-3-3zeta     1675339.0   5.626692  1675339.0   5.626692     40.0   \n",
       "AP-2_140up           639279.0  21.589479   639279.0  21.589479     38.0   \n",
       "AP-2_18w             127334.0  66.664716   127334.0  66.664716     40.0   \n",
       "\n",
       "                    score_L1  rank_genie3  score_genie3  rank_lasso  \\\n",
       "AP-2_128up              0.00    3222376.0      0.000051    224782.0   \n",
       "AP-2_14-3-3epsilon      0.00    3599075.0      0.000010    224782.0   \n",
       "AP-2_14-3-3zeta         0.00     403323.0      0.003226    224782.0   \n",
       "AP-2_140up              0.04     516395.0      0.002409    224782.0   \n",
       "AP-2_18w                0.00     691518.0      0.001697    224782.0   \n",
       "\n",
       "                    score_lasso    rank_MU  score_MU  \n",
       "AP-2_128up                 -0.0  1491542.0  0.095487  \n",
       "AP-2_14-3-3epsilon         -0.0  2371660.0  0.036340  \n",
       "AP-2_14-3-3zeta             0.0  1759208.0  0.076210  \n",
       "AP-2_140up                  0.0  2106952.0  0.053130  \n",
       "AP-2_18w                    0.0   463400.0  0.214440  "
      ]
     },
     "execution_count": 34,
     "metadata": {},
     "output_type": "execute_result"
    }
   ],
   "source": [
    "df.head()"
   ]
  },
  {
   "cell_type": "code",
   "execution_count": 35,
   "metadata": {},
   "outputs": [],
   "source": [
    "df_rank = df[[c for c in df.columns if \"rank\" in c]]\n",
    "df_score = df[[c for c in df.columns if \"score\" in c]]"
   ]
  },
  {
   "cell_type": "code",
   "execution_count": 9,
   "metadata": {},
   "outputs": [],
   "source": [
    "df_rank_z = (df_rank - df_rank.mean())/df_rank.std()\n",
    "df_score_z = (df_score - df_score.mean())/df_score.std()"
   ]
  },
  {
   "cell_type": "code",
   "execution_count": 21,
   "metadata": {},
   "outputs": [
    {
     "data": {
      "text/plain": [
       "<matplotlib.image.AxesImage at 0x1a525fb7f0>"
      ]
     },
     "execution_count": 21,
     "metadata": {},
     "output_type": "execute_result"
    },
    {
     "data": {
      "image/png": "[encoded data removed]",
      "text/plain": [
       "<Figure size 432x288 with 1 Axes>"
      ]
     },
     "metadata": {
      "needs_background": "light"
     },
     "output_type": "display_data"
    }
   ],
   "source": [
    "plt.imshow(df_rank_z,aspect=\"auto\")"
   ]
  },
  {
   "cell_type": "markdown",
   "metadata": {},
   "source": [
    "## Load \"High Confidence\" GRN"
   ]
  },
  {
   "cell_type": "code",
   "execution_count": 88,
   "metadata": {},
   "outputs": [
    {
     "data": {
      "text/html": [
       "<div>\n",
       "<style scoped>\n",
       "    .dataframe tbody tr th:only-of-type {\n",
       "        vertical-align: middle;\n",
       "    }\n",
       "\n",
       "    .dataframe tbody tr th {\n",
       "        vertical-align: top;\n",
       "    }\n",
       "\n",
       "    .dataframe thead th {\n",
       "        text-align: right;\n",
       "    }\n",
       "</style>\n",
       "<table border=\"1\" class=\"dataframe\">\n",
       "  <thead>\n",
       "    <tr style=\"text-align: right;\">\n",
       "      <th></th>\n",
       "      <th>TF</th>\n",
       "      <th>TG</th>\n",
       "      <th>confidence</th>\n",
       "    </tr>\n",
       "  </thead>\n",
       "  <tbody>\n",
       "    <tr>\n",
       "      <th>abd-A_2mit</th>\n",
       "      <td>abd-A</td>\n",
       "      <td>2mit</td>\n",
       "      <td>medium</td>\n",
       "    </tr>\n",
       "    <tr>\n",
       "      <th>abd-A_5-HT1A</th>\n",
       "      <td>abd-A</td>\n",
       "      <td>5-HT1A</td>\n",
       "      <td>high</td>\n",
       "    </tr>\n",
       "    <tr>\n",
       "      <th>abd-A_5-HT1A</th>\n",
       "      <td>abd-A</td>\n",
       "      <td>5-HT1A</td>\n",
       "      <td>medium</td>\n",
       "    </tr>\n",
       "    <tr>\n",
       "      <th>abd-A_5-HT7</th>\n",
       "      <td>abd-A</td>\n",
       "      <td>5-HT7</td>\n",
       "      <td>high</td>\n",
       "    </tr>\n",
       "    <tr>\n",
       "      <th>abd-A_5-HT7</th>\n",
       "      <td>abd-A</td>\n",
       "      <td>5-HT7</td>\n",
       "      <td>medium</td>\n",
       "    </tr>\n",
       "  </tbody>\n",
       "</table>\n",
       "</div>"
      ],
      "text/plain": [
       "                 TF      TG confidence\n",
       "abd-A_2mit    abd-A    2mit     medium\n",
       "abd-A_5-HT1A  abd-A  5-HT1A       high\n",
       "abd-A_5-HT1A  abd-A  5-HT1A     medium\n",
       "abd-A_5-HT7   abd-A   5-HT7       high\n",
       "abd-A_5-HT7   abd-A   5-HT7     medium"
      ]
     },
     "execution_count": 88,
     "metadata": {},
     "output_type": "execute_result"
    }
   ],
   "source": [
    "hc = pd.read_csv(\"high_and_medium_confidence_tf_to_predicted_target_genes_cytoscape.tsv\",sep=\"\\t\",header=None)\n",
    "hc.columns = [\"TF\",\"TG\",\"confidence\"]\n",
    "hc.index = hc[\"TF\"]+\"_\"+hc[\"TG\"]\n",
    "hc.head()"
   ]
  },
  {
   "cell_type": "code",
   "execution_count": 97,
   "metadata": {},
   "outputs": [
    {
     "data": {
      "text/plain": [
       "(245, 245)"
      ]
     },
     "execution_count": 97,
     "metadata": {},
     "output_type": "execute_result"
    }
   ],
   "source": [
    "len(np.unique(hc[\"TF\"])),len(set(hc[\"TF\"]).intersection(set([e.split(\"_\")[0] for e in df.index])))"
   ]
  },
  {
   "cell_type": "code",
   "execution_count": 98,
   "metadata": {},
   "outputs": [],
   "source": [
    "possible_links = set(hc.index).intersection(set(df.index))\n",
    "hc = hc.loc[possible_links]"
   ]
  },
  {
   "cell_type": "code",
   "execution_count": 99,
   "metadata": {},
   "outputs": [
    {
     "data": {
      "text/plain": [
       "(122823, 3)"
      ]
     },
     "execution_count": 99,
     "metadata": {},
     "output_type": "execute_result"
    }
   ],
   "source": [
    "hc.shape"
   ]
  },
  {
   "cell_type": "markdown",
   "metadata": {},
   "source": [
    "## Compare methods"
   ]
  },
  {
   "cell_type": "markdown",
   "metadata": {},
   "source": [
    "+ Represent the correlation between the different methods using a heatmap "
   ]
  },
  {
   "cell_type": "code",
   "execution_count": 18,
   "metadata": {},
   "outputs": [
    {
     "data": {
      "text/plain": [
       "<matplotlib.axes._subplots.AxesSubplot at 0x1a52c96128>"
      ]
     },
     "execution_count": 18,
     "metadata": {},
     "output_type": "execute_result"
    },
    {
     "data": {
      "image/png": "[encoded data removed]",
      "text/plain": [
       "<Figure size 432x288 with 2 Axes>"
      ]
     },
     "metadata": {
      "needs_background": "light"
     },
     "output_type": "display_data"
    }
   ],
   "source": [
    "sns.heatmap(df_rank_z.corr())"
   ]
  },
  {
   "cell_type": "code",
   "execution_count": 19,
   "metadata": {},
   "outputs": [
    {
     "data": {
      "text/plain": [
       "<matplotlib.axes._subplots.AxesSubplot at 0x1a5227b2e8>"
      ]
     },
     "execution_count": 19,
     "metadata": {},
     "output_type": "execute_result"
    },
    {
     "data": {
      "image/png": "[encoded data removed]",
      "text/plain": [
       "<Figure size 432x288 with 2 Axes>"
      ]
     },
     "metadata": {
      "needs_background": "light"
     },
     "output_type": "display_data"
    }
   ],
   "source": [
    "sns.heatmap(df_score_z.corr())"
   ]
  },
  {
   "cell_type": "markdown",
   "metadata": {},
   "source": [
    "+ Generate a [dendogram](https://docs.scipy.org/doc/scipy-0.14.0/reference/generated/scipy.cluster.hierarchy.dendrogram.html) or a [clustermap](https://seaborn.pydata.org/generated/seaborn.clustermap.html) using the ranking or the score vectors   "
   ]
  },
  {
   "cell_type": "code",
   "execution_count": 30,
   "metadata": {},
   "outputs": [
    {
     "data": {
      "text/plain": [
       "<seaborn.matrix.ClusterGrid at 0x1a52791f98>"
      ]
     },
     "execution_count": 30,
     "metadata": {},
     "output_type": "execute_result"
    },
    {
     "data": {
      "image/png": "[encoded data removed]",
      "text/plain": [
       "<Figure size 720x720 with 4 Axes>"
      ]
     },
     "metadata": {
      "needs_background": "light"
     },
     "output_type": "display_data"
    }
   ],
   "source": [
    "sns.clustermap(df_score_z.loc[hc.index])"
   ]
  },
  {
   "cell_type": "markdown",
   "metadata": {},
   "source": [
    " + Compare the top $k$ links of each method using the [Jaccard similarity score](https://scikit-learn.org/stable/modules/generated/sklearn.metrics.jaccard_similarity_score.html), represent the results in a matrix"
   ]
  },
  {
   "cell_type": "code",
   "execution_count": 36,
   "metadata": {},
   "outputs": [],
   "source": [
    "from sklearn.metrics import jaccard_similarity_score"
   ]
  },
  {
   "cell_type": "code",
   "execution_count": 56,
   "metadata": {},
   "outputs": [
    {
     "name": "stdout",
     "output_type": "stream",
     "text": [
      "rank_Fp rank_Ff\n",
      "rank_Fp rank_L1\n",
      "rank_Fp rank_genie3\n",
      "rank_Fp rank_lasso\n",
      "rank_Fp rank_MU\n",
      "rank_Ff rank_L1\n",
      "rank_Ff rank_genie3\n",
      "rank_Ff rank_lasso\n",
      "rank_Ff rank_MU\n",
      "rank_L1 rank_genie3\n",
      "rank_L1 rank_lasso\n",
      "rank_L1 rank_MU\n",
      "rank_genie3 rank_lasso\n",
      "rank_genie3 rank_MU\n",
      "rank_lasso rank_MU\n"
     ]
    }
   ],
   "source": [
    "k=10000\n",
    "jaccard_sim = pd.DataFrame(columns=df_rank.columns,index=df_rank.columns)\n",
    "methods = list(jaccard_sim.columns)\n",
    "for i,c in enumerate(methods[:-1]):\n",
    "    top_k_c = list(df_rank[c].sort_values().index)[:k]\n",
    "    for j,b in enumerate(methods[i+1:]):\n",
    "        top_k_i = list(df_rank[b].sort_values().index)[:k]\n",
    "        inter = len(set(top_k_i).intersection(set(top_k_c)))\n",
    "        union = len(set(top_k_i).union(set(top_k_c)))\n",
    "        jaccard_sim.loc[b,c] = inter/union\n",
    "        jaccard_sim.loc[c,b] = jaccard_sim.loc[b,c]\n",
    "        print(c,b)\n",
    "    "
   ]
  },
  {
   "cell_type": "code",
   "execution_count": 57,
   "metadata": {},
   "outputs": [
    {
     "data": {
      "text/html": [
       "<div>\n",
       "<style scoped>\n",
       "    .dataframe tbody tr th:only-of-type {\n",
       "        vertical-align: middle;\n",
       "    }\n",
       "\n",
       "    .dataframe tbody tr th {\n",
       "        vertical-align: top;\n",
       "    }\n",
       "\n",
       "    .dataframe thead th {\n",
       "        text-align: right;\n",
       "    }\n",
       "</style>\n",
       "<table border=\"1\" class=\"dataframe\">\n",
       "  <thead>\n",
       "    <tr style=\"text-align: right;\">\n",
       "      <th></th>\n",
       "      <th>rank_Fp</th>\n",
       "      <th>rank_Ff</th>\n",
       "      <th>rank_L1</th>\n",
       "      <th>rank_genie3</th>\n",
       "      <th>rank_lasso</th>\n",
       "      <th>rank_MU</th>\n",
       "    </tr>\n",
       "  </thead>\n",
       "  <tbody>\n",
       "    <tr>\n",
       "      <th>rank_Fp</th>\n",
       "      <td>NaN</td>\n",
       "      <td>1</td>\n",
       "      <td>0.104545</td>\n",
       "      <td>0.0870156</td>\n",
       "      <td>0.0373444</td>\n",
       "      <td>0.251564</td>\n",
       "    </tr>\n",
       "    <tr>\n",
       "      <th>rank_Ff</th>\n",
       "      <td>1</td>\n",
       "      <td>NaN</td>\n",
       "      <td>0.104545</td>\n",
       "      <td>0.0870156</td>\n",
       "      <td>0.0373444</td>\n",
       "      <td>0.251564</td>\n",
       "    </tr>\n",
       "    <tr>\n",
       "      <th>rank_L1</th>\n",
       "      <td>0.104545</td>\n",
       "      <td>0.104545</td>\n",
       "      <td>NaN</td>\n",
       "      <td>0.0928365</td>\n",
       "      <td>0.0652463</td>\n",
       "      <td>0.0716391</td>\n",
       "    </tr>\n",
       "    <tr>\n",
       "      <th>rank_genie3</th>\n",
       "      <td>0.0870156</td>\n",
       "      <td>0.0870156</td>\n",
       "      <td>0.0928365</td>\n",
       "      <td>NaN</td>\n",
       "      <td>0.074691</td>\n",
       "      <td>0.0894433</td>\n",
       "    </tr>\n",
       "    <tr>\n",
       "      <th>rank_lasso</th>\n",
       "      <td>0.0373444</td>\n",
       "      <td>0.0373444</td>\n",
       "      <td>0.0652463</td>\n",
       "      <td>0.074691</td>\n",
       "      <td>NaN</td>\n",
       "      <td>0.0308747</td>\n",
       "    </tr>\n",
       "    <tr>\n",
       "      <th>rank_MU</th>\n",
       "      <td>0.251564</td>\n",
       "      <td>0.251564</td>\n",
       "      <td>0.0716391</td>\n",
       "      <td>0.0894433</td>\n",
       "      <td>0.0308747</td>\n",
       "      <td>NaN</td>\n",
       "    </tr>\n",
       "  </tbody>\n",
       "</table>\n",
       "</div>"
      ],
      "text/plain": [
       "               rank_Fp    rank_Ff    rank_L1 rank_genie3 rank_lasso    rank_MU\n",
       "rank_Fp            NaN          1   0.104545   0.0870156  0.0373444   0.251564\n",
       "rank_Ff              1        NaN   0.104545   0.0870156  0.0373444   0.251564\n",
       "rank_L1       0.104545   0.104545        NaN   0.0928365  0.0652463  0.0716391\n",
       "rank_genie3  0.0870156  0.0870156  0.0928365         NaN   0.074691  0.0894433\n",
       "rank_lasso   0.0373444  0.0373444  0.0652463    0.074691        NaN  0.0308747\n",
       "rank_MU       0.251564   0.251564  0.0716391   0.0894433  0.0308747        NaN"
      ]
     },
     "execution_count": 57,
     "metadata": {},
     "output_type": "execute_result"
    }
   ],
   "source": [
    "jaccard_sim"
   ]
  },
  {
   "cell_type": "code",
   "execution_count": 58,
   "metadata": {},
   "outputs": [
    {
     "data": {
      "text/plain": [
       "<matplotlib.axes._subplots.AxesSubplot at 0x1a21ef4cf8>"
      ]
     },
     "execution_count": 58,
     "metadata": {},
     "output_type": "execute_result"
    },
    {
     "data": {
      "image/png": "[encoded data removed]",
      "text/plain": [
       "<Figure size 432x288 with 2 Axes>"
      ]
     },
     "metadata": {
      "needs_background": "light"
     },
     "output_type": "display_data"
    }
   ],
   "source": [
    "sns.heatmap(jaccard_sim.fillna(0))"
   ]
  },
  {
   "cell_type": "markdown",
   "metadata": {},
   "source": [
    "+ For each method, keep only the edges that are reported in the \"high confidence\" GRN.\n",
    "+ Apply a [PCA](https://scikit-learn.org/stable/modules/generated/sklearn.decomposition.PCA.html) to the rankings of the methods for the chosen links, keep 3 dimensions, and the location of each method in this new space (you go from $M$ points in a $|E_{HC}|$-th dimensional space to $M$ points in a 3D space ). \n",
    "\n",
    "__Check the following example:__"
   ]
  },
  {
   "cell_type": "code",
   "execution_count": 63,
   "metadata": {},
   "outputs": [
    {
     "name": "stdout",
     "output_type": "stream",
     "text": [
      "                  score_Fp   score_Ff  score_L1  score_genie3  score_lasso  \\\n",
      "lola_clt         -0.395138  -0.395138 -0.210425     -0.166242    -0.043711   \n",
      "Xbp1_Syx5         0.465924   0.465924  0.547407      0.947467     7.452334   \n",
      "E2f_flfl         10.315223  10.315223  1.305238      0.037365    -0.043711   \n",
      "grh_CG32479       2.696419   2.696419  0.547407     -0.115135    -0.043711   \n",
      "srp_BM-40-SPARC   1.904669   1.904669  8.125720     42.921821    16.380173   \n",
      "\n",
      "                 score_MU  \n",
      "lola_clt        -0.895213  \n",
      "Xbp1_Syx5       -0.374862  \n",
      "E2f_flfl         4.819065  \n",
      "grh_CG32479      2.104183  \n",
      "srp_BM-40-SPARC  2.222184  \n",
      "\n",
      "Explained variance ratio for each PC\n",
      "[0.53746059 0.23295944 0.15957145]\n"
     ]
    },
    {
     "data": {
      "image/png": "[encoded data removed]",
      "text/plain": [
       "<Figure size 432x288 with 1 Axes>"
      ]
     },
     "metadata": {
      "needs_background": "light"
     },
     "output_type": "display_data"
    },
    {
     "data": {
      "image/png": "[encoded data removed]",
      "text/plain": [
       "<Figure size 432x288 with 1 Axes>"
      ]
     },
     "metadata": {
      "needs_background": "light"
     },
     "output_type": "display_data"
    }
   ],
   "source": [
    "# create a dummy join ranking of 10 methods and 100 edges\n",
    "rankings = df_score_z.loc[possible_links]\n",
    "print(rankings.head())\n",
    "# transpose the ranking matrix\n",
    "rankingsT = rankings.T\n",
    "# import PCA\n",
    "from sklearn.decomposition import PCA\n",
    "# create PCA object with k principal axis\n",
    "k = 3\n",
    "pca = PCA(n_components=k)\n",
    "# Apply the PCA\n",
    "rankingsT_pca = pca.fit_transform(rankingsT)\n",
    "# Explained variance ratio for each principal axis\n",
    "print(\"\\nExplained variance ratio for each PC\")\n",
    "print(pca.explained_variance_ratio_)\n",
    "# plot the coordinates of each method along the Principal Axis\n",
    "plt.plot(rankingsT_pca[:,0],rankingsT_pca[:,1],\"o\")\n",
    "plt.xlabel(\"$PC_0$\")\n",
    "plt.ylabel(\"$PC_1$\")\n",
    "for i,method in enumerate(rankingsT.index):\n",
    "    plt.text(x=rankingsT_pca[i,0], y=rankingsT_pca[i,1], s=method)\n",
    "plt.figure()  \n",
    "plt.plot(rankingsT_pca[:,1],rankingsT_pca[:,2],\"o\")\n",
    "plt.xlabel(\"$PC_1$\")\n",
    "plt.ylabel(\"$PC_2$\")\n",
    "for i,method in enumerate(rankingsT.index):\n",
    "    plt.text(x=rankingsT_pca[i,1], y=rankingsT_pca[i,2], s=method)\n",
    "    \n",
    "    "
   ]
  },
  {
   "cell_type": "markdown",
   "metadata": {},
   "source": [
    "## Assess the quality of the inferred GRNs\n",
    "In this section we are going to use the following quality measures to evaluate the inferred GRNs with respect to the \"High Confidence\" GRN:\n",
    "\n",
    "+ [Precision](https://scikit-learn.org/stable/modules/generated/sklearn.metrics.precision_score.html)\n",
    "+ [Recall](https://scikit-learn.org/stable/modules/generated/sklearn.metrics.recall_score.html)\n",
    "+ [Accuracy](https://scikit-learn.org/stable/modules/generated/sklearn.metrics.accuracy_score.html)\n",
    "\n",
    "These measures are defined using the __confusion matrix__\n",
    "$$ConfMat=\\begin{pmatrix}& T_{real} & F_{real}\\\\T_{pred}& TP & FP \\\\F_{pred} & FN & TN \\end{pmatrix}$$\n",
    "\n",
    "__Where__:\n",
    "+ $TP$: True positive (correctly predicted as True)\n",
    "+ $FP$: False positive (wrongly predicted as True)\n",
    "+ $FN$: False negative (wrongly predicted as False)\n",
    "+ $TN$: True negative (correctly predicted as False)\n",
    "\n",
    "__Metrics__:\n",
    "+ $Recall = \\frac{TP}{TP + FN}$\n",
    "+ $Precision = \\frac{TP}{TP + FP}$\n",
    "+ $Accuracy = \\frac{TP+TN}{TP+TN+FP+FN}$\n",
    "\n",
    "__Bonus__:\n",
    "You can also use the follwing evaluation criteria:\n",
    "+ [ROC curve](https://scikit-learn.org/stable/modules/generated/sklearn.metrics.roc_curve.html)\n",
    "+ [AUC curve](https://scikit-learn.org/stable/modules/generated/sklearn.metrics.roc_auc_score.html#sklearn.metrics.roc_auc_score)\n",
    "+ [Average Precision Score](https://scikit-learn.org/stable/modules/generated/sklearn.metrics.average_precision_score.html#sklearn.metrics.average_precision_score)"
   ]
  },
  {
   "cell_type": "markdown",
   "metadata": {},
   "source": [
    "+ Select the to $k = |E_{HC}|$ best edges for each method\n",
    "+ Evaluate the different results with respect to the \"High Confidence\" GRN using the previous measures\n",
    "+ Which are the best methods, w.r.t. this dataset? Explain"
   ]
  },
  {
   "cell_type": "code",
   "execution_count": 64,
   "metadata": {},
   "outputs": [],
   "source": [
    "from sklearn.metrics import precision_score,recall_score,accuracy_score"
   ]
  },
  {
   "cell_type": "code",
   "execution_count": 93,
   "metadata": {},
   "outputs": [],
   "source": [
    "k = 16000\n",
    "total_best_links = set(possible_links)\n",
    "top_K = {}\n",
    "for c in df_rank.columns:\n",
    "    top_k_c = list(df_rank[c].sort_values().index)[:k]\n",
    "    total_best_links = total_best_links.union(top_k_c)\n",
    "    top_K[c] = top_k_c"
   ]
  },
  {
   "cell_type": "code",
   "execution_count": 94,
   "metadata": {},
   "outputs": [
    {
     "name": "stdout",
     "output_type": "stream",
     "text": [
      "rank_Fp 2144 122382\n",
      "rank_Ff 2144 122382\n",
      "rank_L1 1512 123014\n",
      "rank_genie3 1906 122620\n",
      "rank_lasso 1045 123481\n",
      "rank_MU 2281 122245\n"
     ]
    }
   ],
   "source": [
    "results = {}\n",
    "for c in top_K:\n",
    "    y_pred = pd.Series(0,index=total_best_links)\n",
    "    y_true = pd.Series(0,index=total_best_links)\n",
    "    y_pred[top_K[c]] = 1\n",
    "    y_true[possible_links] = 1\n",
    "    acc = accuracy_score(y_pred=y_pred,y_true=y_true)\n",
    "    rec = recall_score(y_pred=y_pred,y_true=y_true)\n",
    "    pre = precision_score(y_pred=y_pred,y_true=y_true)\n",
    "    results[c] = {\"accuracy\":acc,\"recall\":rec,\"precision\":pre}\n",
    "    print(c, len(set(top_K[c]).intersection(possible_links)), len(set(top_K[c]).union(possible_links)))\n",
    "results = pd.DataFrame(results)"
   ]
  },
  {
   "cell_type": "code",
   "execution_count": 95,
   "metadata": {},
   "outputs": [
    {
     "data": {
      "text/html": [
       "<div>\n",
       "<style scoped>\n",
       "    .dataframe tbody tr th:only-of-type {\n",
       "        vertical-align: middle;\n",
       "    }\n",
       "\n",
       "    .dataframe tbody tr th {\n",
       "        vertical-align: top;\n",
       "    }\n",
       "\n",
       "    .dataframe thead th {\n",
       "        text-align: right;\n",
       "    }\n",
       "</style>\n",
       "<table border=\"1\" class=\"dataframe\">\n",
       "  <thead>\n",
       "    <tr style=\"text-align: right;\">\n",
       "      <th></th>\n",
       "      <th>rank_Fp</th>\n",
       "      <th>rank_Ff</th>\n",
       "      <th>rank_L1</th>\n",
       "      <th>rank_genie3</th>\n",
       "      <th>rank_lasso</th>\n",
       "      <th>rank_MU</th>\n",
       "    </tr>\n",
       "  </thead>\n",
       "  <tbody>\n",
       "    <tr>\n",
       "      <th>accuracy</th>\n",
       "      <td>0.256312</td>\n",
       "      <td>0.256312</td>\n",
       "      <td>0.248494</td>\n",
       "      <td>0.253368</td>\n",
       "      <td>0.242717</td>\n",
       "      <td>0.258007</td>\n",
       "    </tr>\n",
       "    <tr>\n",
       "      <th>precision</th>\n",
       "      <td>0.134000</td>\n",
       "      <td>0.134000</td>\n",
       "      <td>0.094500</td>\n",
       "      <td>0.119125</td>\n",
       "      <td>0.065312</td>\n",
       "      <td>0.142563</td>\n",
       "    </tr>\n",
       "    <tr>\n",
       "      <th>recall</th>\n",
       "      <td>0.019756</td>\n",
       "      <td>0.019756</td>\n",
       "      <td>0.013932</td>\n",
       "      <td>0.017563</td>\n",
       "      <td>0.009629</td>\n",
       "      <td>0.021018</td>\n",
       "    </tr>\n",
       "  </tbody>\n",
       "</table>\n",
       "</div>"
      ],
      "text/plain": [
       "            rank_Fp   rank_Ff   rank_L1  rank_genie3  rank_lasso   rank_MU\n",
       "accuracy   0.256312  0.256312  0.248494     0.253368    0.242717  0.258007\n",
       "precision  0.134000  0.134000  0.094500     0.119125    0.065312  0.142563\n",
       "recall     0.019756  0.019756  0.013932     0.017563    0.009629  0.021018"
      ]
     },
     "execution_count": 95,
     "metadata": {},
     "output_type": "execute_result"
    }
   ],
   "source": [
    "results"
   ]
  },
  {
   "cell_type": "markdown",
   "metadata": {},
   "source": [
    "# Build a meta learner\n",
    "In [Marbach et al. 2012](https://www.ncbi.nlm.nih.gov/pmc/articles/PMC3512113/), the authors have suggest that \"no single inference method performs optimally across all datasets. In contrast, integration of predictions from multiple inference methods shows robust and high performance across diverse datasets\"\n",
    "\n",
    "+ Compute a new GRN by averaging the ranks of the different methods. "
   ]
  },
  {
   "cell_type": "code",
   "execution_count": 106,
   "metadata": {},
   "outputs": [
    {
     "name": "stderr",
     "output_type": "stream",
     "text": [
      "/anaconda3/lib/python3.6/site-packages/ipykernel_launcher.py:1: SettingWithCopyWarning: \n",
      "A value is trying to be set on a copy of a slice from a DataFrame.\n",
      "Try using .loc[row_indexer,col_indexer] = value instead\n",
      "\n",
      "See the caveats in the documentation: http://pandas.pydata.org/pandas-docs/stable/indexing.html#indexing-view-versus-copy\n",
      "  \"\"\"Entry point for launching an IPython kernel.\n"
     ]
    },
    {
     "name": "stdout",
     "output_type": "stream",
     "text": [
      "rank_Fp 1390 117136\n",
      "rank_Ff 1390 117136\n",
      "rank_L1 981 117545\n",
      "rank_genie3 1323 117203\n",
      "rank_lasso 719 117807\n",
      "rank_MU 1456 117070\n",
      "rank_average 1548 116978\n"
     ]
    }
   ],
   "source": [
    "df_rank[\"rank_average\"] = df_rank.mean(axis=1)\n",
    "k = 10000\n",
    "total_best_links = set(possible_links)\n",
    "top_K = {}\n",
    "for c in df_rank.columns:\n",
    "    top_k_c = list(df_rank[c].sort_values().index)[:k]\n",
    "    total_best_links = total_best_links.union(top_k_c)\n",
    "    top_K[c] = top_k_c\n",
    "results = {}\n",
    "for c in top_K:\n",
    "    y_pred = pd.Series(0,index=total_best_links)\n",
    "    y_true = pd.Series(0,index=total_best_links)\n",
    "    y_pred[top_K[c]] = 1\n",
    "    y_true[possible_links] = 1\n",
    "    acc = accuracy_score(y_pred=y_pred,y_true=y_true)\n",
    "    rec = recall_score(y_pred=y_pred,y_true=y_true)\n",
    "    pre = precision_score(y_pred=y_pred,y_true=y_true)\n",
    "    results[c] = {\"accuracy\":acc,\"recall\":rec,\"precision\":pre}\n",
    "    print(c, len(set(top_K[c]).intersection(possible_links)), len(set(top_K[c]).union(possible_links)))\n",
    "results = pd.DataFrame(results)"
   ]
  },
  {
   "cell_type": "code",
   "execution_count": 107,
   "metadata": {},
   "outputs": [
    {
     "data": {
      "text/html": [
       "<div>\n",
       "<style scoped>\n",
       "    .dataframe tbody tr th:only-of-type {\n",
       "        vertical-align: middle;\n",
       "    }\n",
       "\n",
       "    .dataframe tbody tr th {\n",
       "        vertical-align: top;\n",
       "    }\n",
       "\n",
       "    .dataframe thead th {\n",
       "        text-align: right;\n",
       "    }\n",
       "</style>\n",
       "<table border=\"1\" class=\"dataframe\">\n",
       "  <thead>\n",
       "    <tr style=\"text-align: right;\">\n",
       "      <th></th>\n",
       "      <th>rank_Fp</th>\n",
       "      <th>rank_Ff</th>\n",
       "      <th>rank_L1</th>\n",
       "      <th>rank_genie3</th>\n",
       "      <th>rank_lasso</th>\n",
       "      <th>rank_MU</th>\n",
       "      <th>rank_average</th>\n",
       "    </tr>\n",
       "  </thead>\n",
       "  <tbody>\n",
       "    <tr>\n",
       "      <th>accuracy</th>\n",
       "      <td>0.196744</td>\n",
       "      <td>0.196744</td>\n",
       "      <td>0.191067</td>\n",
       "      <td>0.195814</td>\n",
       "      <td>0.187431</td>\n",
       "      <td>0.197660</td>\n",
       "      <td>0.198937</td>\n",
       "    </tr>\n",
       "    <tr>\n",
       "      <th>precision</th>\n",
       "      <td>0.139000</td>\n",
       "      <td>0.139000</td>\n",
       "      <td>0.098100</td>\n",
       "      <td>0.132300</td>\n",
       "      <td>0.071900</td>\n",
       "      <td>0.145600</td>\n",
       "      <td>0.154800</td>\n",
       "    </tr>\n",
       "    <tr>\n",
       "      <th>recall</th>\n",
       "      <td>0.012808</td>\n",
       "      <td>0.012808</td>\n",
       "      <td>0.009039</td>\n",
       "      <td>0.012191</td>\n",
       "      <td>0.006625</td>\n",
       "      <td>0.013416</td>\n",
       "      <td>0.014264</td>\n",
       "    </tr>\n",
       "  </tbody>\n",
       "</table>\n",
       "</div>"
      ],
      "text/plain": [
       "            rank_Fp   rank_Ff   rank_L1  rank_genie3  rank_lasso   rank_MU  \\\n",
       "accuracy   0.196744  0.196744  0.191067     0.195814    0.187431  0.197660   \n",
       "precision  0.139000  0.139000  0.098100     0.132300    0.071900  0.145600   \n",
       "recall     0.012808  0.012808  0.009039     0.012191    0.006625  0.013416   \n",
       "\n",
       "           rank_average  \n",
       "accuracy       0.198937  \n",
       "precision      0.154800  \n",
       "recall         0.014264  "
      ]
     },
     "execution_count": 107,
     "metadata": {},
     "output_type": "execute_result"
    }
   ],
   "source": [
    "results"
   ]
  },
  {
   "cell_type": "markdown",
   "metadata": {},
   "source": [
    "+ Compute the similarity of this new GRN w.r.t. the previous ones"
   ]
  },
  {
   "cell_type": "code",
   "execution_count": 109,
   "metadata": {},
   "outputs": [
    {
     "data": {
      "text/plain": [
       "<matplotlib.axes._subplots.AxesSubplot at 0x1a24a87a90>"
      ]
     },
     "execution_count": 109,
     "metadata": {},
     "output_type": "execute_result"
    },
    {
     "data": {
      "image/png": "[encoded data removed]",
      "text/plain": [
       "<Figure size 432x288 with 2 Axes>"
      ]
     },
     "metadata": {
      "needs_background": "light"
     },
     "output_type": "display_data"
    }
   ],
   "source": [
    "sns.heatmap(df_rank.corr())"
   ]
  },
  {
   "cell_type": "markdown",
   "metadata": {},
   "source": [
    "+ Let $X^{rank}$ be a matrix with $E$ rows (one for each edge) and $M$ columns (one for each method). The value $X^{rank}_{i,j}$ is the rank that method $j$ has attributed to edge $i$. \n",
    "+ Let $y$ be a binary label vector with $E$ rows (one for each edge), s.t. $y_e=1$ if $e \\in E_{HC}$ and $y_e=0$ otherwise\n",
    "+ Train a Random Forest classifier to predict $y$, from the values $X_{rank}$\n",
    "+ Extract the feature importance from this classifier to infer which are the better methods\n",
    "\n",
    "__Check the following example:__"
   ]
  },
  {
   "cell_type": "code",
   "execution_count": 123,
   "metadata": {},
   "outputs": [],
   "source": [
    "from sklearn.model_selection import cross_validate\n",
    "from sklearn.model_selection import StratifiedKFold"
   ]
  },
  {
   "cell_type": "code",
   "execution_count": 110,
   "metadata": {},
   "outputs": [
    {
     "data": {
      "text/plain": [
       "array([0.0689658 , 0.06933868, 0.17540625, 0.22551546, 0.23318317,\n",
       "       0.08801744, 0.1395732 ])"
      ]
     },
     "execution_count": 110,
     "metadata": {},
     "output_type": "execute_result"
    }
   ],
   "source": [
    "rankings = df_rank.loc[total_best_links]\n",
    "y = pd.DataFrame()\n",
    "y[\"labels\"] = y_true"
   ]
  },
  {
   "cell_type": "code",
   "execution_count": 112,
   "metadata": {},
   "outputs": [],
   "source": [
    "# Train the RF classifier\n",
    "from sklearn.ensemble import RandomForestClassifier\n",
    "rf = RandomForestClassifier(n_estimators=100)"
   ]
  },
  {
   "cell_type": "code",
   "execution_count": 124,
   "metadata": {},
   "outputs": [],
   "source": [
    "skf = StratifiedKFold(n_splits=5, shuffle=False, random_state=None)"
   ]
  },
  {
   "cell_type": "code",
   "execution_count": 125,
   "metadata": {},
   "outputs": [],
   "source": [
    "scores = cross_validate(rf, rankings, y[\"labels\"], cv=skf,scoring=['f1','recall','precision','accuracy'])\n"
   ]
  },
  {
   "cell_type": "code",
   "execution_count": 126,
   "metadata": {},
   "outputs": [
    {
     "name": "stderr",
     "output_type": "stream",
     "text": [
      "/anaconda3/lib/python3.6/site-packages/sklearn/utils/deprecation.py:125: FutureWarning: You are accessing a training score ('train_f1'), which will not be available by default any more in 0.21. If you need training scores, please set return_train_score=True\n",
      "  warnings.warn(*warn_args, **warn_kwargs)\n",
      "/anaconda3/lib/python3.6/site-packages/sklearn/utils/deprecation.py:125: FutureWarning: You are accessing a training score ('train_recall'), which will not be available by default any more in 0.21. If you need training scores, please set return_train_score=True\n",
      "  warnings.warn(*warn_args, **warn_kwargs)\n",
      "/anaconda3/lib/python3.6/site-packages/sklearn/utils/deprecation.py:125: FutureWarning: You are accessing a training score ('train_precision'), which will not be available by default any more in 0.21. If you need training scores, please set return_train_score=True\n",
      "  warnings.warn(*warn_args, **warn_kwargs)\n",
      "/anaconda3/lib/python3.6/site-packages/sklearn/utils/deprecation.py:125: FutureWarning: You are accessing a training score ('train_accuracy'), which will not be available by default any more in 0.21. If you need training scores, please set return_train_score=True\n",
      "  warnings.warn(*warn_args, **warn_kwargs)\n"
     ]
    },
    {
     "data": {
      "text/plain": [
       "{'fit_time': array([13.40377903, 11.63035178, 13.84735227, 15.5873313 , 13.51631999]),\n",
       " 'score_time': array([1.29449987, 0.92264795, 1.06069398, 0.97042775, 0.99701929]),\n",
       " 'test_f1': array([0.97895825, 0.97918624, 0.98013462, 0.97835844, 0.97924103]),\n",
       " 'train_f1': array([0.99997696, 1.        , 0.99998272, 0.99998848, 1.        ]),\n",
       " 'test_recall': array([0.96024141, 0.9601935 , 0.96268141, 0.95913384, 0.96060815]),\n",
       " 'train_recall': array([0.99995393, 1.        , 0.99996545, 0.99997696, 1.        ]),\n",
       " 'test_precision': array([0.99841924, 0.9989455 , 0.99823237, 0.99836946, 0.99861104]),\n",
       " 'train_precision': array([1., 1., 1., 1., 1.]),\n",
       " 'test_accuracy': array([0.96891048, 0.96925639, 0.97060967, 0.96804192, 0.96932579]),\n",
       " 'train_accuracy': array([0.9999653 , 1.        , 0.99997398, 0.99998265, 1.        ])}"
      ]
     },
     "execution_count": 126,
     "metadata": {},
     "output_type": "execute_result"
    }
   ],
   "source": [
    "scores"
   ]
  },
  {
   "cell_type": "code",
   "execution_count": null,
   "metadata": {},
   "outputs": [],
   "source": []
  }
 ],
 "metadata": {
  "kernelspec": {
   "display_name": "Python 3",
   "language": "python",
   "name": "python3"
  },
  "language_info": {
   "codemirror_mode": {
    "name": "ipython",
    "version": 3
   },
   "file_extension": ".py",
   "mimetype": "text/x-python",
   "name": "python",
   "nbconvert_exporter": "python",
   "pygments_lexer": "ipython3",
   "version": "3.6.8"
  }
 },
 "nbformat": 4,
 "nbformat_minor": 2
}
