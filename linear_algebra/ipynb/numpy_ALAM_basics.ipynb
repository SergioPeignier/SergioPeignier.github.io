{
  "cells": [
    {
      "cell_type": "markdown",
      "source": [
        "# Objective of this notebook\n",
        "The goal of this notebook  is to provide you with a simple and minimal set of examples, so you can start using the `numpy` library and the `matplotlib` library to tackle some Linear Algebra and Matrix Analysis problems.\n",
        "We strongly suggest you to read the [numpy quick start tutorial](https://docs.scipy.org/doc/numpy-1.15.1/user/quickstart.html)"
      ],
      "metadata": {}
    },
    {
      "cell_type": "markdown",
      "source": [
        "The following line allows to show plots inside the Jupyter notebook"
      ],
      "metadata": {}
    },
    {
      "cell_type": "code",
      "source": [
        "%matplotlib inline"
      ],
      "outputs": [],
      "execution_count": 1,
      "metadata": {}
    },
    {
      "cell_type": "markdown",
      "source": [
        "Import the requiered libraries\n",
        "+ `numpy` to create and manipulate vectors and matrices, with the name `np`\n",
        "+ `matplotlib.pyplot` to plot the results with the name `plt`"
      ],
      "metadata": {}
    },
    {
      "cell_type": "code",
      "source": [
        "import numpy as np\n",
        "import matplotlib.pyplot as plt"
      ],
      "outputs": [],
      "execution_count": 2,
      "metadata": {}
    },
    {
      "cell_type": "markdown",
      "source": [
        "### Arrays\n",
        "The main object of NumPy is the `np.array`, an homogeneous multidimensional array. \n",
        "An array is simply is table of elements having the same type.\n",
        "The elements of an array are indexed using positive integers.\n",
        "It is possible to convert a python list (or a list of lists ...) into a `np.array`, using the `np.array` or the `np.asarray` functions.\n",
        "\nIn our case __vectors__ and __matrices__ will be represented as `np.array` instances"
      ],
      "metadata": {}
    },
    {
      "cell_type": "code",
      "source": [
        "# encoding a matrix\n",
        "M = np.asarray([[1,2,3],\n",
        "                [4,5,6]])\n",
        "# encoding a vector\n",
        "v = np.asarray([10.,11.,12.])"
      ],
      "outputs": [],
      "execution_count": 3,
      "metadata": {}
    },
    {
      "cell_type": "code",
      "source": [
        "M"
      ],
      "outputs": [
        {
          "output_type": "execute_result",
          "execution_count": 4,
          "data": {
            "text/plain": [
              "array([[1, 2, 3],\n",
              "       [4, 5, 6]])"
            ]
          },
          "metadata": {}
        }
      ],
      "execution_count": 4,
      "metadata": {}
    },
    {
      "cell_type": "code",
      "source": [
        "v"
      ],
      "outputs": [
        {
          "output_type": "execute_result",
          "execution_count": 5,
          "data": {
            "text/plain": [
              "array([10., 11., 12.])"
            ]
          },
          "metadata": {}
        }
      ],
      "execution_count": 5,
      "metadata": {}
    },
    {
      "cell_type": "markdown",
      "source": [
        "The size of a matrix (or vector) represented as a `np.array` can be seen using through the `ndarray.shape` attribute, and the type of the elements inside the array can be seen using through the `ndarray.dtype` attribute\n",
        "\n",
        "In this example:\n",
        "+ $M$ is a $2\\times 3$ matrix of integers (`int64`)\n",
        "+ $v$ is a vector with size $3$ of flats (`float64`)"
      ],
      "metadata": {}
    },
    {
      "cell_type": "code",
      "source": [
        "print(M.shape, v.shape)\n",
        "print(M.dtype, v.dtype)"
      ],
      "outputs": [
        {
          "output_type": "stream",
          "name": "stdout",
          "text": [
            "(2, 3) (3,)\n",
            "int64 float64\n"
          ]
        }
      ],
      "execution_count": 6,
      "metadata": {}
    },
    {
      "cell_type": "markdown",
      "source": [
        "## Array creation\n",
        "+ As we have seen previously, you can create a `np.array` using a python list.\n",
        "+ You can also initialize arrays full of zeros (using `np.zeros`) or ones (using `np.ones`), specifying the size of the array.\n",
        "+ It is also possible to generate vectors regularly spaced between two boundaries using `np.linspace` (similarly to the `range` function)"
      ],
      "metadata": {}
    },
    {
      "cell_type": "code",
      "source": [
        "M0 = np.zeros( (3,4) )\n",
        "print(M0)"
      ],
      "outputs": [
        {
          "output_type": "stream",
          "name": "stdout",
          "text": [
            "[[0. 0. 0. 0.]\n",
            " [0. 0. 0. 0.]\n",
            " [0. 0. 0. 0.]]\n"
          ]
        }
      ],
      "execution_count": 7,
      "metadata": {}
    },
    {
      "cell_type": "code",
      "source": [
        "M1 = np.ones( (2,3) )\n",
        "print(M1)"
      ],
      "outputs": [
        {
          "output_type": "stream",
          "name": "stdout",
          "text": [
            "[[1. 1. 1.]\n",
            " [1. 1. 1.]]\n"
          ]
        }
      ],
      "execution_count": 8,
      "metadata": {}
    },
    {
      "cell_type": "code",
      "source": [
        "start = 0\n",
        "stop = 10\n",
        "size_of_vector = 30\n",
        "v_arange = np.linspace(start, stop, size_of_vector)\n",
        "print(v_arange)"
      ],
      "outputs": [
        {
          "output_type": "stream",
          "name": "stdout",
          "text": [
            "[ 0.          0.34482759  0.68965517  1.03448276  1.37931034  1.72413793\n",
            "  2.06896552  2.4137931   2.75862069  3.10344828  3.44827586  3.79310345\n",
            "  4.13793103  4.48275862  4.82758621  5.17241379  5.51724138  5.86206897\n",
            "  6.20689655  6.55172414  6.89655172  7.24137931  7.5862069   7.93103448\n",
            "  8.27586207  8.62068966  8.96551724  9.31034483  9.65517241 10.        ]\n"
          ]
        }
      ],
      "execution_count": 9,
      "metadata": {}
    },
    {
      "cell_type": "markdown",
      "source": [
        "It is also possible to use the `np.arange` function providing the start, stop and step instead \n",
        "\n(but using the linspace you have a better control regarding the final size of the array)"
      ],
      "metadata": {}
    },
    {
      "cell_type": "code",
      "source": [
        "start = 0\n",
        "stop = 10\n",
        "step = 0.5\n",
        "v_arange = np.arange(start, stop, step)\n",
        "print(v_arange)"
      ],
      "outputs": [
        {
          "output_type": "stream",
          "name": "stdout",
          "text": [
            "[0.  0.5 1.  1.5 2.  2.5 3.  3.5 4.  4.5 5.  5.5 6.  6.5 7.  7.5 8.  8.5\n",
            " 9.  9.5]\n"
          ]
        }
      ],
      "execution_count": 10,
      "metadata": {}
    },
    {
      "cell_type": "markdown",
      "source": [
        "## Random elements\n",
        "It is possible to create arrays filled with random values.\n",
        "\n",
        "Hereafter we only give some examples, but you can check the [numpy.random documentation](https://docs.scipy.org/doc/numpy-1.14.1/reference/routines.random.html) for more functions\n",
        "\n",
        "+ $M^g$ is a $2\\times 3$ matrix, such that $\\forall i,j\\quad M^g_{i,j} \\sim \\mathcal{N}(\\mu = 0,\\sigma = 1)$\n",
        "+ $M_u$ is a $2\\times 3$ matrix, such that $\\forall i,j\\quad M^u_{i,j} \\sim \\mathcal{U}(min= 0,max= 1)$"
      ],
      "metadata": {}
    },
    {
      "cell_type": "code",
      "source": [
        "Mg = np.random.randn(2,3)\n",
        "print(Mg)"
      ],
      "outputs": [
        {
          "output_type": "stream",
          "name": "stdout",
          "text": [
            "[[-0.18254748 -0.21966096 -0.96717866]\n",
            " [ 0.03045396 -0.27915735  1.12344191]]\n"
          ]
        }
      ],
      "execution_count": 11,
      "metadata": {}
    },
    {
      "cell_type": "code",
      "source": [
        "Mu = np.random.random((2,3))\n",
        "print(Mu)"
      ],
      "outputs": [
        {
          "output_type": "stream",
          "name": "stdout",
          "text": [
            "[[0.12627397 0.13512465 0.72767853]\n",
            " [0.51473231 0.01210307 0.62848211]]\n"
          ]
        }
      ],
      "execution_count": 12,
      "metadata": {}
    },
    {
      "cell_type": "markdown",
      "source": [
        "## Basic operations\n",
        "Arithmetic operators are applied __elementwise__ on arrays: the result is output in a new array"
      ],
      "metadata": {}
    },
    {
      "cell_type": "markdown",
      "source": [
        "+ Multiply each element of $M_u$ by 10"
      ],
      "metadata": {}
    },
    {
      "cell_type": "code",
      "source": [
        "Mu_x10 = Mu * 10\n",
        "print(Mu_x10)"
      ],
      "outputs": [
        {
          "output_type": "stream",
          "name": "stdout",
          "text": [
            "[[1.26273966 1.3512465  7.27678532]\n",
            " [5.14732309 0.12103074 6.28482109]]\n"
          ]
        }
      ],
      "execution_count": 13,
      "metadata": {}
    },
    {
      "cell_type": "markdown",
      "source": [
        "+ Add 10 to each element of $M_g$ "
      ],
      "metadata": {}
    },
    {
      "cell_type": "code",
      "source": [
        "Mg_p10 = Mg + 10\n",
        "print(Mg_p10)"
      ],
      "outputs": [
        {
          "output_type": "stream",
          "name": "stdout",
          "text": [
            "[[ 9.81745252  9.78033904  9.03282134]\n",
            " [10.03045396  9.72084265 11.12344191]]\n"
          ]
        }
      ],
      "execution_count": 14,
      "metadata": {}
    },
    {
      "cell_type": "markdown",
      "source": [
        "+ Multiply __elementwise__ $M_u$ and $M_g$\n",
        "+ This is different from a dot product!!!"
      ],
      "metadata": {}
    },
    {
      "cell_type": "code",
      "source": [
        "Mu_x_Mg = Mu * Mg\n",
        "print(Mu_x_Mg)"
      ],
      "outputs": [
        {
          "output_type": "stream",
          "name": "stdout",
          "text": [
            "[[-0.02305099 -0.02968161 -0.70379515]\n",
            " [ 0.01567564 -0.00337866  0.70606314]]\n"
          ]
        }
      ],
      "execution_count": 15,
      "metadata": {}
    },
    {
      "cell_type": "markdown",
      "source": [
        "+ Take the square of each element of $M_u$"
      ],
      "metadata": {}
    },
    {
      "cell_type": "code",
      "source": [
        "Mu_square = Mu**2\n",
        "print(Mu_square)"
      ],
      "outputs": [
        {
          "output_type": "stream",
          "name": "stdout",
          "text": [
            "[[1.59451144e-02 1.82586710e-02 5.29516046e-01]\n",
            " [2.64949350e-01 1.46484402e-04 3.94989762e-01]]\n"
          ]
        }
      ],
      "execution_count": 16,
      "metadata": {}
    },
    {
      "cell_type": "markdown",
      "source": [
        "Numpy can also to apply basic operations between a matrix and a vector, row by row, such as in this example:"
      ],
      "metadata": {}
    },
    {
      "cell_type": "code",
      "source": [
        "v = np.asarray([-10,1000,-1000])\n",
        "print(Mu)\n",
        "print(Mu * v)"
      ],
      "outputs": [
        {
          "output_type": "stream",
          "name": "stdout",
          "text": [
            "[[0.12627397 0.13512465 0.72767853]\n",
            " [0.51473231 0.01210307 0.62848211]]\n",
            "[[  -1.26273966  135.12464981 -727.67853222]\n",
            " [  -5.14732309   12.10307406 -628.48210944]]\n"
          ]
        }
      ],
      "execution_count": 46,
      "metadata": {}
    },
    {
      "cell_type": "markdown",
      "source": [
        "## Boolean arrays\n",
        "It is possible to apply conditions to arrays to get boolean arrays.\n",
        "\nHere we check __elementwise__ if the values of $M_u$ are greater than 0.5, and we get a boolean matrix (true if the element is greater than 0.5 and false otherwise)"
      ],
      "metadata": {}
    },
    {
      "cell_type": "code",
      "source": [
        "Mu_g05 = Mu>0.5\n",
        "print(Mu)\n",
        "print(Mu_g05)"
      ],
      "outputs": [
        {
          "output_type": "stream",
          "name": "stdout",
          "text": [
            "[[0.12627397 0.13512465 0.72767853]\n",
            " [0.51473231 0.01210307 0.62848211]]\n",
            "[[False False  True]\n",
            " [ True False  True]]\n"
          ]
        }
      ],
      "execution_count": 17,
      "metadata": {}
    },
    {
      "cell_type": "markdown",
      "source": [
        "Here we check __elementwise__ if the values of $M_g$ are greater than 0, and we get a boolean matrix (true if the element is greater than 0 and false otherwise)"
      ],
      "metadata": {}
    },
    {
      "cell_type": "code",
      "source": [
        "Mg_g0 = Mg>0\n",
        "print(Mg)\n",
        "print(Mg_g0)"
      ],
      "outputs": [
        {
          "output_type": "stream",
          "name": "stdout",
          "text": [
            "[[-0.18254748 -0.21966096 -0.96717866]\n",
            " [ 0.03045396 -0.27915735  1.12344191]]\n",
            "[[False False False]\n",
            " [ True False  True]]\n"
          ]
        }
      ],
      "execution_count": 18,
      "metadata": {}
    },
    {
      "cell_type": "markdown",
      "source": [
        "It is also possible to apply boolean operations, for instance:\n",
        "+ `np.logical_and` will apply the \"and\" logical operator to two arrays elementwise\n",
        "+ `np.logical_or` will apply the \"or\" logical operator to two arrays elementwise\n",
        "+ ...\n",
        "\nHereafter we apply the and operator to the results of the two previous steps "
      ],
      "metadata": {}
    },
    {
      "cell_type": "code",
      "source": [
        "Mu_g05_AND_Mg_g0 = np.logical_and(Mu_g05, Mg_g0)\n",
        "print(Mu_g05_AND_Mg_g0)"
      ],
      "outputs": [
        {
          "output_type": "stream",
          "name": "stdout",
          "text": [
            "[[False False False]\n",
            " [ True False  True]]\n"
          ]
        }
      ],
      "execution_count": 19,
      "metadata": {}
    },
    {
      "cell_type": "markdown",
      "source": [
        "## Universal functions\n",
        "`numpy` provides many universal functions such as :\n",
        "+ `np.exp` and `np.log` (exponential and logarithm)\n",
        "+ `np.sin` and `np.cos` (sine and cosine)\n",
        "+ `np.sqrt` (square root)\n",
        "+ `np.abs` (absolute value)\n",
        "+ `np.max` and `np.min` (maximum and minimum)\n",
        "+ `np.sum` (sum)\n",
        "+ `np.mean` and `np.std` (mean and standard deviation)\n",
        "+ ...\n",
        "\nThis functions can also be applied __elementwise__ to an array"
      ],
      "metadata": {}
    },
    {
      "cell_type": "markdown",
      "source": [
        "compute the exponential of each element of $M_u$"
      ],
      "metadata": {}
    },
    {
      "cell_type": "code",
      "source": [
        "exp_Mu = np.exp(Mu)\n",
        "print(exp_Mu)"
      ],
      "outputs": [
        {
          "output_type": "stream",
          "name": "stdout",
          "text": [
            "[[1.13459297 1.14467946 2.07026896]\n",
            " [1.67319054 1.01217661 1.87476273]]\n"
          ]
        }
      ],
      "execution_count": 20,
      "metadata": {}
    },
    {
      "cell_type": "markdown",
      "source": [
        "Some functions, that aggregate many elements can be applied to each row or each column of a matrix.\n",
        "\nHereafter we sum the elements of the matrix $M_u$ along each row and then along each column"
      ],
      "metadata": {}
    },
    {
      "cell_type": "code",
      "source": [
        "# tell axis = 1 to apply the function to each row\n",
        "# Mu has two rows\n",
        "Mu.sum(axis=1)"
      ],
      "outputs": [
        {
          "output_type": "execute_result",
          "execution_count": 41,
          "data": {
            "text/plain": [
              "array([0.98907715, 1.15531749])"
            ]
          },
          "metadata": {}
        }
      ],
      "execution_count": 41,
      "metadata": {}
    },
    {
      "cell_type": "code",
      "source": [
        "# tell axis = 0 to apply the function to each column\n",
        "# Mu has three  columns\n",
        "Mu.sum(axis=0)"
      ],
      "outputs": [
        {
          "output_type": "execute_result",
          "execution_count": 42,
          "data": {
            "text/plain": [
              "array([0.64100627, 0.14722772, 1.35616064])"
            ]
          },
          "metadata": {}
        }
      ],
      "execution_count": 42,
      "metadata": {}
    },
    {
      "cell_type": "markdown",
      "source": [
        "## Indexing the elements of an array\n"
      ],
      "metadata": {}
    },
    {
      "cell_type": "markdown",
      "source": [
        "Get the element in row 0 and column 1 from $M_u$"
      ],
      "metadata": {}
    },
    {
      "cell_type": "code",
      "source": [
        "Mu[0,1]"
      ],
      "outputs": [
        {
          "output_type": "execute_result",
          "execution_count": 21,
          "data": {
            "text/plain": [
              "0.1351246498065396"
            ]
          },
          "metadata": {}
        }
      ],
      "execution_count": 21,
      "metadata": {}
    },
    {
      "cell_type": "markdown",
      "source": [
        "Get all the elements of row 0 of $M_u$"
      ],
      "metadata": {}
    },
    {
      "cell_type": "code",
      "source": [
        "Mu[0,:]"
      ],
      "outputs": [
        {
          "output_type": "execute_result",
          "execution_count": 22,
          "data": {
            "text/plain": [
              "array([0.12627397, 0.13512465, 0.72767853])"
            ]
          },
          "metadata": {}
        }
      ],
      "execution_count": 22,
      "metadata": {}
    },
    {
      "cell_type": "markdown",
      "source": [
        "Get all the elements of column 2 of $M_u$"
      ],
      "metadata": {}
    },
    {
      "cell_type": "code",
      "source": [
        "Mu[:,2]"
      ],
      "outputs": [
        {
          "output_type": "execute_result",
          "execution_count": 23,
          "data": {
            "text/plain": [
              "array([0.72767853, 0.62848211])"
            ]
          },
          "metadata": {}
        }
      ],
      "execution_count": 23,
      "metadata": {}
    },
    {
      "cell_type": "markdown",
      "source": [
        "Get all the rows for the first 2 columns of $M_u$"
      ],
      "metadata": {}
    },
    {
      "cell_type": "code",
      "source": [
        "Mu[:,:2]"
      ],
      "outputs": [
        {
          "output_type": "execute_result",
          "execution_count": 24,
          "data": {
            "text/plain": [
              "array([[0.12627397, 0.13512465],\n",
              "       [0.51473231, 0.01210307]])"
            ]
          },
          "metadata": {}
        }
      ],
      "execution_count": 24,
      "metadata": {}
    },
    {
      "cell_type": "code",
      "source": [
        "# or\n",
        "Mu[:,[0,1]]"
      ],
      "outputs": [
        {
          "output_type": "execute_result",
          "execution_count": 25,
          "data": {
            "text/plain": [
              "array([[0.12627397, 0.13512465],\n",
              "       [0.51473231, 0.01210307]])"
            ]
          },
          "metadata": {}
        }
      ],
      "execution_count": 25,
      "metadata": {}
    },
    {
      "cell_type": "markdown",
      "source": [
        "It is also possible to get elements applying a boolean mask. In this case we will get the elements for which the correspoing element in the boolean mask is true\n",
        "\nFor instance we will get the elements from $M_u$ s.t. $M_u > 0.5$, using the matrixes previously generated"
      ],
      "metadata": {}
    },
    {
      "cell_type": "code",
      "source": [
        "print(Mu_g05)\n",
        "print(Mu)\n",
        "print(Mu[Mu_g05])"
      ],
      "outputs": [
        {
          "output_type": "stream",
          "name": "stdout",
          "text": [
            "[[False False  True]\n",
            " [ True False  True]]\n",
            "[[0.12627397 0.13512465 0.72767853]\n",
            " [0.51473231 0.01210307 0.62848211]]\n",
            "[0.72767853 0.51473231 0.62848211]\n"
          ]
        }
      ],
      "execution_count": 26,
      "metadata": {}
    },
    {
      "cell_type": "markdown",
      "source": [
        "## Linear Algebra\n",
        "It is possible to apply basic linear algebra operations with arrays:\n",
        "+ Transpositions\n",
        "+ Identity matrix\n",
        "+ Dot product\n",
        "\n",
        "Moreover the `numpy.linalg` package has many linear algebra algorithms ready to use\n",
        "+ SVD\n",
        "+ QR\n",
        "+ Inverse\n",
        "+ ..."
      ],
      "metadata": {}
    },
    {
      "cell_type": "markdown",
      "source": [
        "2 ways to compute $M_u^*$ the transpose of $M_u$"
      ],
      "metadata": {}
    },
    {
      "cell_type": "code",
      "source": [
        "print(Mu)\n",
        "print(Mu.T)\n",
        "print(Mu.transpose())"
      ],
      "outputs": [
        {
          "output_type": "stream",
          "name": "stdout",
          "text": [
            "[[0.12627397 0.13512465 0.72767853]\n",
            " [0.51473231 0.01210307 0.62848211]]\n",
            "[[0.12627397 0.51473231]\n",
            " [0.13512465 0.01210307]\n",
            " [0.72767853 0.62848211]]\n",
            "[[0.12627397 0.51473231]\n",
            " [0.13512465 0.01210307]\n",
            " [0.72767853 0.62848211]]\n"
          ]
        }
      ],
      "execution_count": 27,
      "metadata": {}
    },
    {
      "cell_type": "markdown",
      "source": [
        "Compute $M_u^* \\cdot M_g$\n",
        "\n$M_u$ is $2\\times 3$, so $M_u^*$ is $3 \\times 2$, and $M_g$ is $2 \\times 3$, so the resulting matrix is $3 \\times 3$"
      ],
      "metadata": {}
    },
    {
      "cell_type": "code",
      "source": [
        "Mu_t_Mg = (Mu.T).dot(Mg)\n",
        "print(Mu_t_Mg) "
      ],
      "outputs": [
        {
          "output_type": "stream",
          "name": "stdout",
          "text": [
            "[[-0.00737536 -0.17142877  0.45614236]\n",
            " [-0.02429808 -0.03306027 -0.11709258]\n",
            " [-0.11369611 -0.33528797  0.00226799]]\n"
          ]
        }
      ],
      "execution_count": 28,
      "metadata": {}
    },
    {
      "cell_type": "markdown",
      "source": [
        "Compute the inverse of $M_u^* \\cdot M_g$"
      ],
      "metadata": {}
    },
    {
      "cell_type": "code",
      "source": [
        "np.linalg.inv(Mu_t_Mg)"
      ],
      "outputs": [
        {
          "output_type": "execute_result",
          "execution_count": 29,
          "data": {
            "text/plain": [
              "array([[-1.66551811e+17, -6.45931243e+17,  1.48846484e+17],\n",
              "       [ 5.66033805e+16,  2.19522632e+17, -5.05861454e+16],\n",
              "       [ 1.85798766e+16,  7.20575940e+16, -1.66047387e+16]])"
            ]
          },
          "metadata": {}
        }
      ],
      "execution_count": 29,
      "metadata": {}
    },
    {
      "cell_type": "markdown",
      "source": [
        "Get a $4\\times 4$ identity matrix"
      ],
      "metadata": {}
    },
    {
      "cell_type": "code",
      "source": [
        "I = np.eye(4)\n",
        "print(I)"
      ],
      "outputs": [
        {
          "output_type": "stream",
          "name": "stdout",
          "text": [
            "[[1. 0. 0. 0.]\n",
            " [0. 1. 0. 0.]\n",
            " [0. 0. 1. 0.]\n",
            " [0. 0. 0. 1.]]\n"
          ]
        }
      ],
      "execution_count": 30,
      "metadata": {}
    },
    {
      "cell_type": "markdown",
      "source": [
        "# Plots\n",
        "It is possible to plot matrices using the `plt.imshow` function\n",
        "\nBeware, this function cannot plot a __vector__ !!!"
      ],
      "metadata": {}
    },
    {
      "cell_type": "code",
      "source": [
        "plt.imshow(Mu)"
      ],
      "outputs": [
        {
          "output_type": "execute_result",
          "execution_count": 31,
          "data": {
            "text/plain": [
              "<matplotlib.image.AxesImage at 0x122226710>"
            ]
          },
          "metadata": {}
        },
        {
          "output_type": "display_data",
          "data": {
            "image/png": "[encoded data removed]",
            "text/plain": [
              "<Figure size 432x288 with 1 Axes>"
            ]
          },
          "metadata": {
            "needs_background": "light"
          }
        }
      ],
      "execution_count": 31,
      "metadata": {}
    },
    {
      "cell_type": "markdown",
      "source": [
        "In order to plot vectors you can use the `plt.plot` function"
      ],
      "metadata": {}
    },
    {
      "cell_type": "code",
      "source": [
        "x = np.linspace(3,13,10)\n",
        "y = np.random.randn(10)\n",
        "# plot y as a function of x\n",
        "plt.plot(x,y,\"o-\",color=\"red\")\n",
        "# plot y as a function of the index of its elements\n",
        "plt.plot(y,\"--\",color=\"blue\")\n",
        "# Change the label of the x and y axis\n",
        "plt.xlabel(\"X\", fontsize=10)\n",
        "plt.ylabel(\"Y\", fontsize=10)"
      ],
      "outputs": [
        {
          "output_type": "execute_result",
          "execution_count": 32,
          "data": {
            "text/plain": [
              "Text(0, 0.5, 'Y')"
            ]
          },
          "metadata": {}
        },
        {
          "output_type": "display_data",
          "data": {
            "image/png": "[encoded data removed]",
            "text/plain": [
              "<Figure size 432x288 with 1 Axes>"
            ]
          },
          "metadata": {
            "needs_background": "light"
          }
        }
      ],
      "execution_count": 32,
      "metadata": {}
    },
    {
      "cell_type": "markdown",
      "source": [
        "## Much more\n",
        "It is also possible to stack different arrays, to split an array in small arrays, to reshape arrays ... but we are not going to see these features here"
      ],
      "metadata": {}
    },
    {
      "cell_type": "code",
      "source": [],
      "outputs": [],
      "execution_count": null,
      "metadata": {}
    }
  ],
  "metadata": {
    "kernelspec": {
      "name": "python3",
      "language": "python",
      "display_name": "Python 3"
    },
    "language_info": {
      "name": "python",
      "version": "3.6.8",
      "mimetype": "text/x-python",
      "codemirror_mode": {
        "name": "ipython",
        "version": 3
      },
      "pygments_lexer": "ipython3",
      "nbconvert_exporter": "python",
      "file_extension": ".py"
    },
    "kernel_info": {
      "name": "python3"
    },
    "nteract": {
      "version": "0.12.3"
    }
  },
  "nbformat": 4,
  "nbformat_minor": 2
}