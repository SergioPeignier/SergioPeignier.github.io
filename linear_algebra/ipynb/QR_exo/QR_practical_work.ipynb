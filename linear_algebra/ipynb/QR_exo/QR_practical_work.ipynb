{
 "cells": [
  {
   "cell_type": "code",
   "execution_count": 1,
   "metadata": {},
   "outputs": [],
   "source": [
    "%matplotlib inline\n",
    "import numpy as np\n",
    "import matplotlib.pyplot as plt"
   ]
  },
  {
   "cell_type": "markdown",
   "metadata": {},
   "source": [
    "# Read the dataset\n",
    "To read the dataset we are going to use the function `read_csv` from the [pandas library](https://pandas.pydata.org/). In the following box the dataset is first loaded as a \"dataframe\" (similar to those from R), each column correspond to a variable (dimension) and each row to a point.\n",
    "\n",
    "This dataset consist of $n=9$ __physiological and medical variables (columns)__ measured for $m=768$ __patients (rows)__\n",
    "\n",
    "Each column represents the following variables:\n",
    "\n",
    "+ column 0:  *Pregnancies*: Number of times pregnant\n",
    "+ column 1:  *Glucose*: Plasma glucose concentration a 2 hours in an oral glucose tolerance test\n",
    "+ column 2:  *BloodPressure*: Diastolic blood pressure (mm Hg)\n",
    "+ column 3:  *SkinThickness*: Triceps skin fold thickness (mm)\n",
    "+ column 4:  *Insulin*: 2-Hour serum insulin (mu U/ml)\n",
    "+ column 5:  *BMI*: Body mass index (weight in kg/(height in m)^2)\n",
    "+ column 6:  *DiabetesPedigreeFunction*: Diabetes pedigree function\n",
    "+ column 7:  *Age*: Age (years)\n",
    "+ column 8:  *Outcome*: The person is diabetic or not (1 or 0)\n"
   ]
  },
  {
   "cell_type": "code",
   "execution_count": 3,
   "metadata": {},
   "outputs": [],
   "source": [
    "import pandas as pd\n",
    "dataset = pd.read_csv('diabetes.csv',header=0)"
   ]
  },
  {
   "cell_type": "markdown",
   "metadata": {},
   "source": [
    "To see the first 3 lines of the dataset we use the `head` method with a parameter `3`"
   ]
  },
  {
   "cell_type": "code",
   "execution_count": 5,
   "metadata": {},
   "outputs": [
    {
     "data": {
      "text/html": [
       "<div>\n",
       "<style scoped>\n",
       "    .dataframe tbody tr th:only-of-type {\n",
       "        vertical-align: middle;\n",
       "    }\n",
       "\n",
       "    .dataframe tbody tr th {\n",
       "        vertical-align: top;\n",
       "    }\n",
       "\n",
       "    .dataframe thead th {\n",
       "        text-align: right;\n",
       "    }\n",
       "</style>\n",
       "<table border=\"1\" class=\"dataframe\">\n",
       "  <thead>\n",
       "    <tr style=\"text-align: right;\">\n",
       "      <th></th>\n",
       "      <th>Pregnancies</th>\n",
       "      <th>Glucose</th>\n",
       "      <th>BloodPressure</th>\n",
       "      <th>SkinThickness</th>\n",
       "      <th>Insulin</th>\n",
       "      <th>BMI</th>\n",
       "      <th>DiabetesPedigreeFunction</th>\n",
       "      <th>Age</th>\n",
       "      <th>Outcome</th>\n",
       "    </tr>\n",
       "  </thead>\n",
       "  <tbody>\n",
       "    <tr>\n",
       "      <th>0</th>\n",
       "      <td>6</td>\n",
       "      <td>148</td>\n",
       "      <td>72</td>\n",
       "      <td>35</td>\n",
       "      <td>0</td>\n",
       "      <td>33.6</td>\n",
       "      <td>0.627</td>\n",
       "      <td>50</td>\n",
       "      <td>1</td>\n",
       "    </tr>\n",
       "    <tr>\n",
       "      <th>1</th>\n",
       "      <td>1</td>\n",
       "      <td>85</td>\n",
       "      <td>66</td>\n",
       "      <td>29</td>\n",
       "      <td>0</td>\n",
       "      <td>26.6</td>\n",
       "      <td>0.351</td>\n",
       "      <td>31</td>\n",
       "      <td>0</td>\n",
       "    </tr>\n",
       "    <tr>\n",
       "      <th>2</th>\n",
       "      <td>8</td>\n",
       "      <td>183</td>\n",
       "      <td>64</td>\n",
       "      <td>0</td>\n",
       "      <td>0</td>\n",
       "      <td>23.3</td>\n",
       "      <td>0.672</td>\n",
       "      <td>32</td>\n",
       "      <td>1</td>\n",
       "    </tr>\n",
       "  </tbody>\n",
       "</table>\n",
       "</div>"
      ],
      "text/plain": [
       "   Pregnancies  Glucose  BloodPressure  SkinThickness  Insulin   BMI  \\\n",
       "0            6      148             72             35        0  33.6   \n",
       "1            1       85             66             29        0  26.6   \n",
       "2            8      183             64              0        0  23.3   \n",
       "\n",
       "   DiabetesPedigreeFunction  Age  Outcome  \n",
       "0                     0.627   50        1  \n",
       "1                     0.351   31        0  \n",
       "2                     0.672   32        1  "
      ]
     },
     "execution_count": 5,
     "metadata": {},
     "output_type": "execute_result"
    }
   ],
   "source": [
    "dataset.head(3)"
   ]
  },
  {
   "cell_type": "markdown",
   "metadata": {},
   "source": [
    "# Description of the regression problem \n",
    "\n",
    "For this project, we will consider a reduced dataset with the following 5 columns as the __conditions__:\n",
    "+ Pregancies\n",
    "+ BloodPressure\n",
    "+ SkinThinkness\n",
    "+ BMI\n",
    "+ Age\n",
    "\n",
    "Let $X$ be a $m\\times 5$ matrix corresponding to the values of each one of these condition variable for each patient. \n",
    "\n",
    "And We are going to consider the following column as our __observation__:\n",
    "+ Glucose\n",
    "\n",
    "Let $y$ be the vector of observations for each patient\n",
    "\n",
    "### Goal (Least Squares):\n",
    "Our goal is to find $c$ a vector of __parameters__ such that:\n",
    "$$X\\cdot c +r = y \\quad \\text{and}\\quad ||r||_2 \\text{ is minimized }$$\n",
    "\n",
    "### Construction of $X$ and $y$\n",
    "In the following box we construct our matrix $X$ and vector $y$ as `np.array`, so you do not need to bother understanding the structure of the dataframe. \n"
   ]
  },
  {
   "cell_type": "code",
   "execution_count": 37,
   "metadata": {},
   "outputs": [],
   "source": [
    "# Get only the requiered variables\n",
    "dataset_X = dataset[[\"Pregnancies\",\n",
    "                    \"BloodPressure\",\n",
    "                    \"SkinThickness\",\n",
    "                    \"BMI\",\n",
    "                    \"Age\"]]\n",
    "# Get only the observation variable\n",
    "dataset_y = dataset[\"Glucose\"]\n",
    "# Get only np.array out of the dataset\n",
    "X = dataset_X.values\n",
    "y = dataset_y.values"
   ]
  },
  {
   "cell_type": "code",
   "execution_count": 38,
   "metadata": {},
   "outputs": [
    {
     "name": "stdout",
     "output_type": "stream",
     "text": [
      "type of X:  <class 'numpy.ndarray'>\n",
      "shape of X:  (768, 5)\n",
      "type of y:  <class 'numpy.ndarray'>\n",
      "shape of y:  (768,)\n"
     ]
    }
   ],
   "source": [
    "print(\"type of X: \",type(X))\n",
    "print(\"shape of X: \",X.shape)\n",
    "print(\"type of y: \",type(y))\n",
    "print(\"shape of y: \",y.shape)"
   ]
  },
  {
   "cell_type": "markdown",
   "metadata": {},
   "source": [
    "# Questions\n",
    "+ Plot $y$ as a function of the values of each column of $X$\n",
    "+ Compute a $QR$ factorization of $X$\n",
    "+ Use the factorization to compute the vector $c$"
   ]
  },
  {
   "cell_type": "code",
   "execution_count": null,
   "metadata": {},
   "outputs": [],
   "source": []
  }
 ],
 "metadata": {
  "kernelspec": {
   "display_name": "Python 3",
   "language": "python",
   "name": "python3"
  },
  "language_info": {
   "codemirror_mode": {
    "name": "ipython",
    "version": 3
   },
   "file_extension": ".py",
   "mimetype": "text/x-python",
   "name": "python",
   "nbconvert_exporter": "python",
   "pygments_lexer": "ipython3",
   "version": "3.7.4"
  }
 },
 "nbformat": 4,
 "nbformat_minor": 2
}
