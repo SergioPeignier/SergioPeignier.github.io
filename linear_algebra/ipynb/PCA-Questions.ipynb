{
 "cells": [
  {
   "cell_type": "code",
   "execution_count": 1,
   "metadata": {},
   "outputs": [],
   "source": [
    "%matplotlib inline"
   ]
  },
  {
   "cell_type": "code",
   "execution_count": 2,
   "metadata": {},
   "outputs": [],
   "source": [
    "import pandas as pd\n",
    "import numpy as np\n",
    "import matplotlib.pyplot as plt"
   ]
  },
  {
   "cell_type": "markdown",
   "metadata": {},
   "source": [
    "# Principal Component Analysis (PCA): Toy Example\n",
    "### Build the dataset\n",
    "Build $X \\in \\mathbb{R}^{m \\times n}$, $m$ data points $\\in \\mathbb{R^n}$.\n",
    "\n",
    "Let $m = 400$ et $n=2$ (i.e., each row $A$ represents a point in $\\mathbb{R}^2$).\n",
    "\n",
    "+ To build $X$ we first create a matrix $A \\in \\mathbb{R}^{m \\times n}$ such that $\\forall i,j A_{i,j}\\sim \\mathcal{N}(0,1)$ \n",
    "+ Then we transform $A$ by applying a matrix $T$ (rotation, and scaling)"
   ]
  },
  {
   "cell_type": "code",
   "execution_count": 3,
   "metadata": {},
   "outputs": [],
   "source": [
    "m = 400\n",
    "n = 2\n",
    "# Build a matrix with m columns and n rows, such that each element follows a normal distribution\n",
    "A = np.random.randn(m,n) \n",
    "# Create a matrix that will modify the initial matrix (rotation, scale change)\n",
    "T = np.array([[-0.5,0.3],\n",
    "              [1,2]])\n",
    "# Apply the linear transformation matrix T to the data matrix A\n",
    "X = np.dot(A,T)"
   ]
  },
  {
   "cell_type": "code",
   "execution_count": 4,
   "metadata": {},
   "outputs": [
    {
     "data": {
      "text/plain": [
       "<matplotlib.legend.Legend at 0x1217a7278>"
      ]
     },
     "execution_count": 4,
     "metadata": {},
     "output_type": "execute_result"
    },
    {
     "data": {
      "image/png": "[encoded data removed]",
      "text/plain": [
       "<Figure size 432x288 with 1 Axes>"
      ]
     },
     "metadata": {
      "needs_background": "light"
     },
     "output_type": "display_data"
    }
   ],
   "source": [
    "# Plot the 1st column vector of A vs. the 2nd column vector of A\n",
    "plt.plot(A[:,0],A[:,1],\"o\",alpha=0.1,label=\"$A$\")\n",
    "# Plot the 1st column vector of A vs. the 2nd column vector of X\n",
    "plt.plot(X[:,0],X[:,1],\"o\",alpha=0.1,label=\"$X$\")\n",
    "# Set limits to x and y axis\n",
    "plt.xlim(-15, 15)\n",
    "plt.ylim(-15, 15)\n",
    "# Plot the legend\n",
    "plt.legend()"
   ]
  },
  {
   "cell_type": "markdown",
   "metadata": {},
   "source": [
    "### Center the dataset\n",
    "+ Let $E[ X_{.,i} ]$ be the mean of $X$ along column $i$.\n",
    "+ Let us center each column $i$ of $X$ by computing $X_{.,i} \\leftarrow X_{.,i} - E[X_{.,i}]$"
   ]
  },
  {
   "cell_type": "code",
   "execution_count": 5,
   "metadata": {},
   "outputs": [
    {
     "name": "stdout",
     "output_type": "stream",
     "text": [
      "[-0.03486125 -0.01405511] [-1.31838984e-17  3.27515792e-17]\n"
     ]
    }
   ],
   "source": [
    "# Compute the mean of each column vector of X. Notice that X.mean(axis=1) would compute the mean of each row, and X.mean() the overall mean\n",
    "col_mean = X.mean(axis=0)\n",
    "# Numpy will subtract the mean vector to each row\n",
    "Xc = X - col_mean\n",
    "print(X.mean(axis=0), Xc.mean(axis=0))"
   ]
  },
  {
   "cell_type": "markdown",
   "metadata": {},
   "source": [
    "### Covariance Matrix\n",
    "\n",
    "\n",
    "\n",
    "+ The covariance between column vectors $X_{.,i}$ and $X_{.,j}$ is defined as:\n",
    "\n",
    "$cov [X_{.,i},X_{.,j}]= \\sum_{k=1}^m \\frac{(X_{k,i}-E[X_{.,i}])(X_{k,j}-{E}[X_{.,j}])}{m}$\n",
    "\n",
    "+ Since we have centered our dataset: $\\forall i, \\; E[X_{.,i}] = 0$, then:\n",
    "\n",
    "$cov [X_{.,i},X_{.,j}]= \\sum_{k=1}^m \\frac{X_{k,i}X_{k,j}}{m}$\n",
    "\n",
    "+ In matrix notation \n",
    "\n",
    "$cov [X_{.,i},X_{.,j}] = \\frac{1}{m} X_{.,i}^* \\cdot X_{.,j}$\n",
    "\n",
    "+ Therefore matrix $Q = X^* \\cdot X$ is proportional to the covariance matrix (by a factor $\\frac{1}{m}$)\n",
    "\n"
   ]
  },
  {
   "cell_type": "markdown",
   "metadata": {},
   "source": [
    "+ __Question 1__: Compute the covariance matrix of $X$"
   ]
  },
  {
   "cell_type": "code",
   "execution_count": 6,
   "metadata": {},
   "outputs": [
    {
     "name": "stdout",
     "output_type": "stream",
     "text": [
      "(400, 2)\n"
     ]
    },
    {
     "data": {
      "text/plain": [
       "array([[1.22187866, 1.66809185],\n",
       "       [1.66809185, 3.64005625]])"
      ]
     },
     "execution_count": 6,
     "metadata": {},
     "output_type": "execute_result"
    }
   ],
   "source": [
    "# If Xc is a numpy array, you can obtain its transpose by typing Xc.T or Xc.transpose()\n",
    "Xc_transpose = Xc.T\n",
    "# Xc_transpose.dot(Xc) computes the dot product between Xc_transpose and Xc\n",
    "Q = Xc_transpose.dot(Xc)\n",
    "# Xc.shape is a tuple containing the size of the matrix, the 1st element is the number of rows and the 2nd the nb. of cols.\n",
    "print(Xc.shape)\n",
    "# Here we simply multiply by 1/m to get the variances and covariances\n",
    "Q*1/Xc.shape[0]"
   ]
  },
  {
   "cell_type": "markdown",
   "metadata": {},
   "source": [
    "+ __Question 2.A__: Compute the eigen vectors $V$ and eigen values $\\lambda$ of matrix $Q = X^*\\cdot X$\n",
    "\n",
    "(recall: $Q\\cdot V_{.,i} = \\lambda_i V_{.,i} \\$)"
   ]
  },
  {
   "cell_type": "code",
   "execution_count": 7,
   "metadata": {},
   "outputs": [],
   "source": [
    "# np.linalg.eig returns a tuple with 2 elements, the first one is a np.array with the eigen values, and the 2nd a matrix with the eigen vectors (in columns)\n",
    "lamb,V = np.linalg.eig(Q)"
   ]
  },
  {
   "cell_type": "code",
   "execution_count": 8,
   "metadata": {},
   "outputs": [
    {
     "data": {
      "text/plain": [
       "(array([[ -132.10459719,  -816.47488325],\n",
       "        [   67.40382437, -1600.2072074 ]]),\n",
       " array([[ -132.10459719,  -816.47488325],\n",
       "        [   67.40382437, -1600.2072074 ]]))"
      ]
     },
     "execution_count": 8,
     "metadata": {},
     "output_type": "execute_result"
    }
   ],
   "source": [
    "# Check the property of eigen vectors and eigen values\n",
    "Q.dot(V), V*lamb"
   ]
  },
  {
   "cell_type": "markdown",
   "metadata": {},
   "source": [
    "+ __Question 2.B__: The eigen values in numpy are not always sorted, sort them in descending order:\n"
   ]
  },
  {
   "cell_type": "code",
   "execution_count": 10,
   "metadata": {},
   "outputs": [
    {
     "name": "stdout",
     "output_type": "stream",
     "text": [
      "[1796.46718356  148.30677712]\n",
      "[[-0.45448917 -0.89075226]\n",
      " [-0.89075226  0.45448917]]\n"
     ]
    }
   ],
   "source": [
    "# lamb.argsort() sorts the index of lamb, according to their elements' values (ascending order)\n",
    "idx = lamb.argsort()  \n",
    "# We want to order themin descending order, so we invert the list\n",
    "idx = idx[::-1] \n",
    "# We get the eigen values in the right order\n",
    "lamb = lamb[idx]\n",
    "# We get the eigen vectors in the right order\n",
    "V = V[:,idx]\n",
    "print(lamb)\n",
    "print(V)"
   ]
  },
  {
   "cell_type": "markdown",
   "metadata": {},
   "source": [
    "### Principal Component Analysis\n",
    "\n",
    "+ Let $PC_i = X \\cdot V_{.,i}$ be the $i$-th Principal Component.\n",
    "\n",
    "+ Compute the covariance between $PC_j$ and $PC_k$ \n",
    "\n",
    "$\\begin{aligned} cov[PC_j,PC_k] &\\propto (X \\cdot V_{.,j})^{*} \\cdot (X \\cdot  V_{.,k})\\\\&= V_{.,j}^*\\cdot X^*\\cdot X\\cdot  V_{.,k}\\\\&=V_{.,j}^*\\cdot (\\lambda_k V_{.,k})\\\\&=\\lambda_k V_{.,j}^{*}\\cdot V_{.,k}\\end{aligned}$\n",
    "\n",
    "\n",
    "+ If $j=k$: \n",
    "\n",
    "$cov[PC_j,PC_k] = cov[PC_k,PC_k] \\propto \\lambda_k$\n",
    "\n",
    "+ Otherwise:\n",
    "\n",
    "$cov[PC_j,PC_k] = 0$\n",
    "\n"
   ]
  },
  {
   "cell_type": "markdown",
   "metadata": {},
   "source": [
    "+ __Question 3.A:__ Plot the variance explained along each Principal Axis."
   ]
  },
  {
   "cell_type": "code",
   "execution_count": 11,
   "metadata": {},
   "outputs": [
    {
     "data": {
      "text/plain": [
       "Text(0, 0.5, 'Variance explained')"
      ]
     },
     "execution_count": 11,
     "metadata": {},
     "output_type": "execute_result"
    },
    {
     "data": {
      "image/png": "[encoded data removed]",
      "text/plain": [
       "<Figure size 432x288 with 1 Axes>"
      ]
     },
     "metadata": {
      "needs_background": "light"
     },
     "output_type": "display_data"
    }
   ],
   "source": [
    "# lamb is equal to the sum of coordinates to the square in the principal axis space. We need to devide these values by the number of rows, to get the variance\n",
    "plt.plot(lamb/Xc.shape[0], \"o\")\n",
    "plt.xlabel(\"Principal Axis\",fontsize=15)\n",
    "plt.ylabel('Variance explained')"
   ]
  },
  {
   "cell_type": "markdown",
   "metadata": {},
   "source": [
    "+ __Question 3.B:__ Plot the percentage of variance explained along each Principal Axis."
   ]
  },
  {
   "cell_type": "code",
   "execution_count": 12,
   "metadata": {},
   "outputs": [
    {
     "data": {
      "text/plain": [
       "Text(0, 0.5, 'Variance explained (%)')"
      ]
     },
     "execution_count": 12,
     "metadata": {},
     "output_type": "execute_result"
    },
    {
     "data": {
      "image/png": "[encoded data removed]",
      "text/plain": [
       "<Figure size 432x288 with 1 Axes>"
      ]
     },
     "metadata": {
      "needs_background": "light"
     },
     "output_type": "display_data"
    }
   ],
   "source": [
    "# lamb.sum() returns the sum of the lambda values. \n",
    "plt.plot(lamb/lamb.sum()*100, \"o\")\n",
    "plt.xlabel(\"Principal Axis\",fontsize=15)\n",
    "plt.ylabel('Variance explained (%)')"
   ]
  },
  {
   "cell_type": "markdown",
   "metadata": {},
   "source": [
    "+ __Question 3.C__: Explain the role of the Principal Component Analysis"
   ]
  },
  {
   "cell_type": "code",
   "execution_count": null,
   "metadata": {},
   "outputs": [],
   "source": []
  },
  {
   "cell_type": "markdown",
   "metadata": {},
   "source": [
    "__Question 3.D__\n",
    "+ Apply the matrix $V$ to $X$ and plot the Principal Components\n",
    "+ Apply the matrix $V$ to the cardinal basis and plot them"
   ]
  },
  {
   "cell_type": "code",
   "execution_count": 13,
   "metadata": {},
   "outputs": [],
   "source": [
    "# Compute the principal components\n",
    "PC = Xc.dot(V)\n",
    "# Canonical axis (2D idendity matrix)\n",
    "cannonical_axis = np.eye(2)\n",
    "# Project the canonical using matrix V\n",
    "axis_proj = cannonical_axis.dot(V)"
   ]
  },
  {
   "cell_type": "code",
   "execution_count": 14,
   "metadata": {},
   "outputs": [
    {
     "data": {
      "text/plain": [
       "(-5, 5)"
      ]
     },
     "execution_count": 14,
     "metadata": {},
     "output_type": "execute_result"
    },
    {
     "data": {
      "image/png": "[encoded data removed]",
      "text/plain": [
       "<Figure size 432x288 with 1 Axes>"
      ]
     },
     "metadata": {
      "needs_background": "light"
     },
     "output_type": "display_data"
    }
   ],
   "source": [
    "plt.plot(PC[:,0],PC[:,1],\"o\",alpha=0.1)\n",
    "plt.quiver(*axis_proj[:,0],color=\"y\",angles='xy', scale_units='xy', scale=1)\n",
    "plt.quiver(*axis_proj[:,1],color=\"k\",angles='xy', scale_units='xy', scale=1)\n",
    "plt.xlim(-5,5)\n",
    "plt.ylim(-5,5)"
   ]
  },
  {
   "cell_type": "code",
   "execution_count": 15,
   "metadata": {},
   "outputs": [
    {
     "data": {
      "text/plain": [
       "(-5, 5)"
      ]
     },
     "execution_count": 15,
     "metadata": {},
     "output_type": "execute_result"
    },
    {
     "data": {
      "image/png": "[encoded data removed]",
      "text/plain": [
       "<Figure size 432x288 with 1 Axes>"
      ]
     },
     "metadata": {
      "needs_background": "light"
     },
     "output_type": "display_data"
    }
   ],
   "source": [
    "plt.plot(Xc[:,0],Xc[:,1],\"o\",alpha=0.1)\n",
    "plt.quiver(*V.T[0,:],color=\"r\",angles='xy', scale_units='xy', scale=1)\n",
    "plt.quiver(*V.T[1,:],color=\"g\",angles='xy', scale_units='xy', scale=1)\n",
    "plt.xlim(-5,5)\n",
    "plt.ylim(-5,5)"
   ]
  },
  {
   "cell_type": "markdown",
   "metadata": {},
   "source": [
    "__Question 3.E:__ Given the structure of the dataset in the new space, and the percentage of variance explained along each principal axis, does it seem necessary to keep a a 2D space representation?"
   ]
  },
  {
   "cell_type": "code",
   "execution_count": null,
   "metadata": {},
   "outputs": [],
   "source": []
  },
  {
   "cell_type": "markdown",
   "metadata": {},
   "source": [
    "## Principal Component Analysis and SVD\n",
    "\n",
    "The singular value decomposition (SVD) of $X$ is:\n",
    "\n",
    "$X = U \\cdot \\Sigma \\cdot \\mathbf{V}^*$\n",
    "\n",
    "+ $U$ is a $m\\times m$ unit orthogonal matrix (called left singular vectors of X)\n",
    "+ $V$ is a $n\\times n$ unit orthogonal matrix (called right singular vectors of X)\n",
    "+ $\\Sigma$ is an $m\\times n$ positive rectangular diagonal matrix (singular values of X)\n",
    "\n",
    "\n",
    "Using the SVD, $X^* X$ can be written as:\n",
    "\n",
    "$\\begin{aligned}X^*X &=V \\Sigma^* U^* U \\Sigma V^*\\\\&= V \\Sigma^*\\Sigma V^* \\\\&= V \\hat {\\Sigma}^{2}V^*\\end{aligned}$\n",
    "\n",
    "Therefore: \n",
    "\n",
    "+ The __right singular vectors__ $V$ of $X$ and the __eigenvectors__ of $X^*X$ are equivalent.\n",
    "+ The __singular values__  of $X$ are equal to the sqrt of the the __eigenvalues__ of $X^*X$.\n",
    "\n",
    "$$PC = U\\cdot \\Sigma = X\\cdot V$$\n",
    "\n",
    "__Question 4:__ Compute the Principal Components of $X$ using the SVD"
   ]
  },
  {
   "cell_type": "code",
   "execution_count": 16,
   "metadata": {},
   "outputs": [],
   "source": [
    "# Compute the SVD of Xc, this function returns a tuple with 3 elements: matrix U, an array with the singular values, and matrix V transposed\n",
    "U,s,Vt = np.linalg.svd(Xc)"
   ]
  },
  {
   "cell_type": "code",
   "execution_count": 17,
   "metadata": {},
   "outputs": [],
   "source": [
    "# Compute the principal components\n",
    "V = Vt.T\n",
    "PC = Xc.dot(V)"
   ]
  },
  {
   "cell_type": "code",
   "execution_count": 18,
   "metadata": {},
   "outputs": [
    {
     "data": {
      "text/plain": [
       "(-5, 5)"
      ]
     },
     "execution_count": 18,
     "metadata": {},
     "output_type": "execute_result"
    },
    {
     "data": {
      "image/png": "[encoded data removed]",
      "text/plain": [
       "<Figure size 432x288 with 1 Axes>"
      ]
     },
     "metadata": {
      "needs_background": "light"
     },
     "output_type": "display_data"
    }
   ],
   "source": [
    "plt.plot(PC[:,0],PC[:,1],\"o\", alpha=0.1)\n",
    "plt.xlim(-5,5)\n",
    "plt.ylim(-5,5)"
   ]
  },
  {
   "cell_type": "markdown",
   "metadata": {},
   "source": [
    "# Principal Component Analysis (PCA): Faces dataset\n",
    "## Load the dataset"
   ]
  },
  {
   "cell_type": "code",
   "execution_count": 19,
   "metadata": {},
   "outputs": [],
   "source": [
    "# Load the dataset from a library\n",
    "from sklearn.datasets import fetch_olivetti_faces\n",
    "dataset = fetch_olivetti_faces(shuffle=True)\n",
    "faces = dataset.data"
   ]
  },
  {
   "cell_type": "code",
   "execution_count": 20,
   "metadata": {},
   "outputs": [],
   "source": [
    "#If the sklearn library is not installed, you can load the faces dataset (attached to the email) uncommenting and running the following commands:\n",
    "#import pandas as pd\n",
    "#faces = pd.read_csv(\"faces.csv\",header=0,index_col=0)\n",
    "#faces = faces.values"
   ]
  },
  {
   "cell_type": "markdown",
   "metadata": {},
   "source": [
    "Each row of the `faces` dataset represents a human face picture in gray scale.\n",
    "The dataset contains 400 pictures in total.\n",
    "\n",
    "In practice, the size of a picture is $64 \\times 64$ pixels, and in order to fill the matrix, each picture has been flattened in a row vector with 4096 ($=64 \\times 64$) elements.\n",
    "\n",
    "Therefore the faces image represents 400 pictures described in a 4096 dimensional space of pixels.\n",
    "\n",
    "If we transpose the faces dataset, we have 4096 pixels described in a 400 dimensional space of human faces.\n",
    "\n",
    "In this practical work we are going to use the SVD to find the \"Principal Faces\" in the dataset"
   ]
  },
  {
   "cell_type": "markdown",
   "metadata": {},
   "source": [
    "__Question 1__: Reshape the first row of the dataset, to create a $64\\times 64$ image, and plot the first face, using the `plt.imshow`"
   ]
  },
  {
   "cell_type": "code",
   "execution_count": 21,
   "metadata": {},
   "outputs": [
    {
     "data": {
      "text/plain": [
       "<matplotlib.image.AxesImage at 0x1a25531e80>"
      ]
     },
     "execution_count": 21,
     "metadata": {},
     "output_type": "execute_result"
    },
    {
     "data": {
      "image/png": "[encoded data removed]",
      "text/plain": [
       "<Figure size 432x288 with 1 Axes>"
      ]
     },
     "metadata": {
      "needs_background": "light"
     },
     "output_type": "display_data"
    }
   ],
   "source": [
    "# We get the first row (the first face)\n",
    "first_face = faces[0,:]\n",
    "# We reshape it, to have a 64x64 matrix \n",
    "reshaped_first_face = first_face.reshape(64,64)\n",
    "# We plot it\n",
    "plt.imshow(reshaped_first_face)"
   ]
  },
  {
   "cell_type": "markdown",
   "metadata": {},
   "source": [
    "__Question 4__: Transpose the `faces` matrix (we are going to work with the transpose only) and center each column"
   ]
  },
  {
   "cell_type": "code",
   "execution_count": 22,
   "metadata": {},
   "outputs": [],
   "source": []
  },
  {
   "cell_type": "markdown",
   "metadata": {},
   "source": [
    "__Question 3__: Compute its SVD"
   ]
  },
  {
   "cell_type": "code",
   "execution_count": 23,
   "metadata": {},
   "outputs": [],
   "source": []
  },
  {
   "cell_type": "markdown",
   "metadata": {},
   "source": [
    "__Question 4:__ Plot the percentage of standard deviation explained along the 20 first principal axis"
   ]
  },
  {
   "cell_type": "code",
   "execution_count": null,
   "metadata": {},
   "outputs": [],
   "source": []
  },
  {
   "cell_type": "markdown",
   "metadata": {},
   "source": [
    "__Question 5:__ Compute the principal components"
   ]
  },
  {
   "cell_type": "code",
   "execution_count": null,
   "metadata": {},
   "outputs": [],
   "source": []
  },
  {
   "cell_type": "markdown",
   "metadata": {},
   "source": [
    "__Question 6:__ Plot the first and the last 4 \"Principal Faces\" "
   ]
  },
  {
   "cell_type": "code",
   "execution_count": null,
   "metadata": {},
   "outputs": [],
   "source": []
  },
  {
   "cell_type": "code",
   "execution_count": null,
   "metadata": {},
   "outputs": [],
   "source": []
  },
  {
   "cell_type": "markdown",
   "metadata": {},
   "source": [
    "Let $V^k$ be a matrix containing the first $k$ columns of matrix $V$.\n",
    "\n",
    "Let $\\hat X = X \\cdot V^k \\cdot (V^k)^*$ be an approximation of $X$ using only the first $k$ principal axis\n",
    "\n",
    "__Question 7:__ Compute $\\hat X$ for the `face` dataset (for k = 3 and k = 50) and plot the first 4 faces of the new dataset"
   ]
  },
  {
   "cell_type": "code",
   "execution_count": null,
   "metadata": {},
   "outputs": [],
   "source": []
  },
  {
   "cell_type": "markdown",
   "metadata": {},
   "source": [
    "__Question 8:__ Let $|| X - \\hat X ||_2$ be the approximation error. Compute the error for k = 2 to 400"
   ]
  },
  {
   "cell_type": "code",
   "execution_count": 31,
   "metadata": {},
   "outputs": [],
   "source": [
    "def SSE(X,X_hat):\n",
    "    return(((X - X_hat)**2).sum().sum())"
   ]
  },
  {
   "cell_type": "code",
   "execution_count": 32,
   "metadata": {},
   "outputs": [],
   "source": []
  }
 ],
 "metadata": {
  "kernelspec": {
   "display_name": "Python 3",
   "language": "python",
   "name": "python3"
  },
  "language_info": {
   "codemirror_mode": {
    "name": "ipython",
    "version": 3
   },
   "file_extension": ".py",
   "mimetype": "text/x-python",
   "name": "python",
   "nbconvert_exporter": "python",
   "pygments_lexer": "ipython3",
   "version": "3.6.8"
  }
 },
 "nbformat": 4,
 "nbformat_minor": 2
}
