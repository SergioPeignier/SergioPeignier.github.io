{
 "cells": [
  {
   "cell_type": "code",
   "execution_count": 3,
   "metadata": {},
   "outputs": [],
   "source": [
    "%matplotlib inline"
   ]
  },
  {
   "cell_type": "markdown",
   "metadata": {},
   "source": [
    "# Rayleigh quotient\n",
    "\n",
    "+ $M$: Hermitian matrix \n",
    "+ $x$: nonzero vector \n",
    "\n",
    "+ __Rayleigh quotient__: $R(M,x)={x^{*}Mx \\over x^{*}x}$\n",
    "\n",
    "If $x$ is an eigenvector of $A$ then $R(M,x)$ is its eigenvalue.\n",
    "Otherwise, $R(M,x)$ is the closest scalar to an eigenvalue (in least squares): "
   ]
  },
  {
   "cell_type": "markdown",
   "metadata": {},
   "source": [
    "__Exercise 1__:\n",
    "\n",
    "Which is the value $\\alpha$ that minimizes $||Ax - \\alpha x||_2^2$?\n",
    "\n",
    "__hint__: Compute the derivative of $||Ax - \\alpha x||_2^2$ w.r.t. $\\alpha$"
   ]
  },
  {
   "cell_type": "markdown",
   "metadata": {},
   "source": [
    "__Exercise 2__:\n",
    "    \n",
    "+ Set numpy's random generator to 0 (use the `np.random.seed` function)\n",
    "+ Generate $A$, a $2 \\times 2$ random matrix (use `np.random.randn`)\n",
    "+ Compute $M = A^* A$. Is this matrix Hermitian?\n",
    "+ Compute its eigenvalues and eigenvectors (use `np.linalg.eig`)\n",
    "+ Choose one of the eigenvectors and compute its Rayleigh quotient\n",
    "+ Write a function that compute the Rayleigh quotient of a vector, w.r.t. a matrix, both sent as parameters\n",
    "+ Generate 1000 random vectors $\\sim \\mathcal{N}(\\mu = 0,\\sigma = 10)$\n",
    "+ For each vector compute its Rayleigh quotient\n",
    "+ Plot the histogram of the resulting Rayleigh quotients (use `matplotlib.pyplot.hist`)"
   ]
  },
  {
   "cell_type": "code",
   "execution_count": 1,
   "metadata": {},
   "outputs": [],
   "source": [
    "import numpy as np\n",
    "import matplotlib.pyplot as plt\n",
    "np.random.seed(0)"
   ]
  },
  {
   "cell_type": "code",
   "execution_count": 2,
   "metadata": {},
   "outputs": [],
   "source": [
    "def rayleigh_quotient(x,A):\n",
    "    return(x.T.dot(A).dot(x)/x.T.dot(x))"
   ]
  },
  {
   "cell_type": "code",
   "execution_count": 3,
   "metadata": {},
   "outputs": [],
   "source": [
    "A = np.random.randn(2,2)\n",
    "A = A.T.dot(A)"
   ]
  },
  {
   "cell_type": "code",
   "execution_count": 4,
   "metadata": {},
   "outputs": [],
   "source": [
    "l,X = np.linalg.eig(A)"
   ]
  },
  {
   "cell_type": "code",
   "execution_count": 5,
   "metadata": {},
   "outputs": [
    {
     "name": "stdout",
     "output_type": "stream",
     "text": [
      "[[-1.29020049 -4.82739792]\n",
      " [ 1.06629199 -5.84109345]]\n",
      "[[-1.29020049 -4.82739792]\n",
      " [ 1.06629199 -5.84109345]]\n"
     ]
    }
   ],
   "source": [
    "print(A.dot(X))\n",
    "print(X.dot(np.eye(2)*l))"
   ]
  },
  {
   "cell_type": "code",
   "execution_count": 7,
   "metadata": {},
   "outputs": [
    {
     "data": {
      "text/plain": [
       "7.577739988681693"
      ]
     },
     "execution_count": 7,
     "metadata": {},
     "output_type": "execute_result"
    }
   ],
   "source": [
    "rayleigh_quotient(X[:,1],A)"
   ]
  },
  {
   "cell_type": "code",
   "execution_count": 9,
   "metadata": {},
   "outputs": [],
   "source": [
    "eigs = []\n",
    "for i in range(1000):\n",
    "    random_vectors = np.random.randn(2)*10\n",
    "    eigs.append(rayleigh_quotient(random_vectors,A))"
   ]
  },
  {
   "cell_type": "code",
   "execution_count": 10,
   "metadata": {},
   "outputs": [
    {
     "data": {
      "image/png": "[encoded data removed]",
      "text/plain": [
       "<Figure size 432x288 with 1 Axes>"
      ]
     },
     "metadata": {
      "needs_background": "light"
     },
     "output_type": "display_data"
    }
   ],
   "source": [
    "_= plt.hist(eigs,bins=10)"
   ]
  },
  {
   "cell_type": "code",
   "execution_count": 11,
   "metadata": {},
   "outputs": [],
   "source": [
    "n = 4\n",
    "A = np.random.randn(n,n)\n",
    "A = A.T.dot(A)\n",
    "l,X = np.linalg.eig(A)"
   ]
  },
  {
   "cell_type": "code",
   "execution_count": 12,
   "metadata": {},
   "outputs": [
    {
     "data": {
      "text/plain": [
       "array([1.52776302e+01, 4.02664493e+00, 1.22315756e-03, 2.38407897e-01])"
      ]
     },
     "execution_count": 12,
     "metadata": {},
     "output_type": "execute_result"
    }
   ],
   "source": [
    "l"
   ]
  },
  {
   "cell_type": "code",
   "execution_count": 13,
   "metadata": {},
   "outputs": [
    {
     "data": {
      "text/plain": [
       "array([[ 0.81171995, -0.32852188, -0.38049182, -0.29733832],\n",
       "       [-0.22739047, -0.52398333, -0.52545801,  0.63057825],\n",
       "       [ 0.52307017,  0.43870594,  0.18461059,  0.70700327],\n",
       "       [-0.12570561,  0.65196008, -0.73826742, -0.11877444]])"
      ]
     },
     "execution_count": 13,
     "metadata": {},
     "output_type": "execute_result"
    }
   ],
   "source": [
    "X"
   ]
  },
  {
   "cell_type": "code",
   "execution_count": 18,
   "metadata": {},
   "outputs": [],
   "source": [
    "eigs = []\n",
    "for i in range(100000):\n",
    "    random_vectors = np.random.uniform(-1,1,n)\n",
    "    eigs.append(rayleigh_quotient(random_vectors,A))"
   ]
  },
  {
   "cell_type": "code",
   "execution_count": 19,
   "metadata": {},
   "outputs": [
    {
     "data": {
      "text/plain": [
       "(0.005040824213282836, 15.260591948758542)"
      ]
     },
     "execution_count": 19,
     "metadata": {},
     "output_type": "execute_result"
    }
   ],
   "source": [
    "min(eigs),max(eigs)"
   ]
  },
  {
   "cell_type": "code",
   "execution_count": 20,
   "metadata": {},
   "outputs": [
    {
     "data": {
      "image/png": "[encoded data removed]",
      "text/plain": [
       "<Figure size 432x288 with 1 Axes>"
      ]
     },
     "metadata": {
      "needs_background": "light"
     },
     "output_type": "display_data"
    }
   ],
   "source": [
    "_=plt.hist(eigs,bins=100)\n",
    "for ll in l:\n",
    "    plt.vlines(x=ll,ymax=1600,ymin=0)"
   ]
  },
  {
   "cell_type": "markdown",
   "metadata": {},
   "source": [
    "# Power iteration\n",
    "A well known method to compute eigenvalues is the power iteration method (also known as the Von Mises iteration).\n",
    "\n",
    "This method takes $A$ a diagonalizable matrix as an input, and it outputs its greatest eigenvalue $\\lambda$ (in absolute value), and its corresponding eigenvector $v$ (i.e., $Av=\\lambda v$).\n",
    "\n",
    "__Power iteration__($A$):\n",
    "+ __initialization__: create $b$ a random vector s.t. $||b||_2 = 1$ \n",
    "+ __Repeat__:\n",
    "    + $w \\leftarrow Ab$\n",
    "    + $b \\leftarrow w/||w||$\n",
    "    + $\\lambda = b^T A b$\n",
    "    \n",
    "This method does not converge if:\n",
    "+ The initial vector $b$ is orthogonal with the eigenvector of $\\lambda$\n",
    "+ The eigenvalue is not unique\n",
    "\n",
    "__Exercise 3__ How does this method work?\n",
    "+ Write $b^{(k)}$ ($b$ at iteration $k$) as a function of $b^{(0)}$ ($b$ at iteration 0) and $A$\n",
    "+ Let us assume that the initial vector is s.t.:\n",
    "$b^{0}=c_{1}v_{1}+c_{2}v_{2}+\\cdots +c_{m}v_{m}$, with $v_i$ the $i$-th eigenvector.\n",
    "+ Decompose $A^k b^{(0)}$ according to the previous equation.\n",
    "+ Factorize by $\\lambda_1$, i.e., the largest eigenvalue.\n",
    "+ When $k$ is large to which value does the previous expression converge?\n",
    "\n",
    "__Exercise 4__ \n",
    "+ Write the Power iteration method\n",
    "+ In order to analyze the algorithm compute:\n",
    "    + The eigenvalues and eigenvectors using `np.linalg.eig`\n",
    "    + Compute the difference between the two largest eigenvalues\n",
    "    + At each iteration compute the difference between the largest eigenvalues output by `np.linalg.eig`, and the current value estimated by the power iteration method.\n",
    "+ For different random matrices $M$ generated as in the previous exercise:\n",
    "    + Run 10 iterations of the power iteration method\n",
    "    + Record and plot the evolution of the error\n",
    " "
   ]
  },
  {
   "cell_type": "code",
   "execution_count": 18,
   "metadata": {},
   "outputs": [],
   "source": [
    "def power_iteration(A, num_simulations):\n",
    "    # choose a random vector\n",
    "    b_k = np.random.rand(A.shape[1])\n",
    "    b_k = b_k/np.linalg.norm(b_k)\n",
    "    # Compute the eigenvalues\n",
    "    l,X = np.linalg.eig(A)\n",
    "    diff_l1_l2 = np.abs(l[0] - l[1])\n",
    "    error = []\n",
    "    for _ in range(num_simulations):\n",
    "        # calculate the matrix-by-vector product Ab\n",
    "        b_k1 = np.dot(A, b_k)\n",
    "        # calculate the norm\n",
    "        b_k1_norm = np.linalg.norm(b_k1)\n",
    "        # re normalize the vector\n",
    "        b_k = b_k1 / b_k1_norm\n",
    "        lambda_ = b_k.T.dot(A).dot(b_k)\n",
    "        error.append(np.abs(lambda_ - l[0]))\n",
    "    return b_k,lambda_,error, diff_l1_l2"
   ]
  },
  {
   "cell_type": "code",
   "execution_count": 19,
   "metadata": {},
   "outputs": [],
   "source": [
    "diff = []\n",
    "err = []\n",
    "A = np.random.randn(10,10)\n",
    "A = A.T.dot(A)\n",
    "b_k,lambda_,error, diff_l1_l2 = power_iteration(A,30)"
   ]
  },
  {
   "cell_type": "code",
   "execution_count": 20,
   "metadata": {},
   "outputs": [
    {
     "data": {
      "text/plain": [
       "[<matplotlib.lines.Line2D at 0x1247f4a58>]"
      ]
     },
     "execution_count": 20,
     "metadata": {},
     "output_type": "execute_result"
    },
    {
     "data": {
      "image/png": "[encoded data removed]",
      "text/plain": [
       "<Figure size 432x288 with 1 Axes>"
      ]
     },
     "metadata": {
      "needs_background": "light"
     },
     "output_type": "display_data"
    }
   ],
   "source": [
    "plt.plot(error)"
   ]
  },
  {
   "cell_type": "markdown",
   "metadata": {},
   "source": [
    "# Inverse iteration method\n",
    "+ $A$: square matrix, $\\forall i, \\;\\lambda_i$ are eigenvalues of $A$\n",
    "+ Let $\\mu \\in \\mathbb{R}$ s.t. $\\mu \\neq \\lambda_i$\n",
    "\n",
    "Matrix $(A − \\mu I)^{−1}$ and $A$ have the same eigenvectors, \n",
    "and the eigenvalues of $(A − \\mu I)^{−1}$ are $(\\lambda - \\mu)^{-1}$\n",
    "\n",
    "__Exercise 5__: Prove the previous statement.\n",
    "\n",
    "$AX = X \\Lambda$\n",
    "\n",
    "$A = X \\Lambda X^{-1}$\n",
    "\n",
    "$A-\\mu \\mathbf{I} = X \\Lambda X^{-1} - \\mu \\mathbf{I}$\n",
    "\n",
    "$A-\\mu \\mathbf{I} = X \\Lambda X^{-1} - \\mu X X^{-1}$\n",
    "\n",
    "$A-\\mu \\mathbf{I} = X \\Lambda X^{-1} - \\mu X \\mathbf{I} X^{-1}$\n",
    "\n",
    "$A-\\mu \\mathbf{I} = X \\Lambda X^{-1} -  X (\\mu \\mathbf{I}) X^{-1}$\n",
    "\n",
    "$A-\\mu \\mathbf{I} = X (\\Lambda - \\mu \\mathbf{I}) X^{-1}$\n",
    "\n",
    "$(A-\\mu \\mathbf{I})^{-1} = (X (\\Lambda - \\mu \\mathbf{I}) X^{-1})^{-1}$\n",
    "\n",
    "$(A-\\mu \\mathbf{I})^{-1} = X (\\Lambda - \\mu \\mathbf{I})^{-1} X^{-1}$\n"
   ]
  },
  {
   "cell_type": "markdown",
   "metadata": {},
   "source": [
    "If $\\mu$ is close to the eigenvalue $\\lambda_j$ then $(\\lambda_j - \\mu \\mathbf{I})^{-1}$ is a larger eigenvalue than $(\\lambda_i - \\mu \\mathbf{I})^{-1}, \\; \\forall j \\neq i$. \n",
    "\n",
    "The power iteration method applied to $(\\lambda_i - \\mu \\mathbf{I})^{-1}$ converges quickly.\n",
    "\n",
    "__Inverse Iteration Algorithm__ ($A$, $\\mu$):\n",
    "+ __Initialization__: Generate $v$ a random vector with norm 1\n",
    "+ __Repeat__:\n",
    "    + $w \\leftarrow (A-\\mu I)^{-1}v$\n",
    "    + $v \\leftarrow w/||w||$\n",
    "    + $\\lambda \\leftarrow v^TAv$ \n",
    "    \n",
    "__Exercise 6__: \n",
    "+ Program the inverse iteration algorithm\n",
    "+ Generate a random matrix $M$ like in the previous exercises\n",
    "+ Test the algorithm setting $\\mu = 10$ and iterating for 100 steps, and compare to the output of the `np.linalg.eig` function.\n",
    "+ For 100 random values of $\\mu ~\\mathcal{N}(0,\\sigma=10)$, compute an eigenvalue with the inverse iteration algorithm.\n",
    "+ Print the eigenvalues found with 2 decimals precision (use the `np.round` function)\n"
   ]
  },
  {
   "cell_type": "code",
   "execution_count": 71,
   "metadata": {},
   "outputs": [],
   "source": [
    "def inverse_iteration(A,mu,nb_iterations):\n",
    "    n = A.shape[0]\n",
    "    v = np.random.randn(n)\n",
    "    v = v/np.linalg.norm(v)\n",
    "    for i in range(nb_iterations):\n",
    "        w = np.linalg.inv(A-mu*np.eye(n)).dot(v)\n",
    "        v  = w / np.linalg.norm(w)\n",
    "        l = v.T.dot(A).dot(v)\n",
    "    return(v,l)"
   ]
  },
  {
   "cell_type": "code",
   "execution_count": 78,
   "metadata": {},
   "outputs": [
    {
     "data": {
      "text/plain": [
       "(array([-0.36527646,  0.12533622, -0.02266217, -0.3116428 ,  0.08346497,\n",
       "        -0.37139218, -0.06325856,  0.67819925,  0.24750015, -0.28830261]),\n",
       " 7.944303840320273)"
      ]
     },
     "execution_count": 78,
     "metadata": {},
     "output_type": "execute_result"
    }
   ],
   "source": [
    "A = np.random.randn(10,10)\n",
    "A = A.T.dot(A)\n",
    "inverse_iteration(A,10,100)"
   ]
  },
  {
   "cell_type": "code",
   "execution_count": 79,
   "metadata": {},
   "outputs": [],
   "source": [
    "lambdas,V = np.linalg.eig(A)"
   ]
  },
  {
   "cell_type": "code",
   "execution_count": 80,
   "metadata": {},
   "outputs": [],
   "source": [
    "ls = []\n",
    "for i in range(100):\n",
    "    v,l = inverse_iteration(A,np.random.randn(1)[0]*10,500)\n",
    "    ls.append(np.round(l,decimals=2))"
   ]
  },
  {
   "cell_type": "code",
   "execution_count": 81,
   "metadata": {},
   "outputs": [
    {
     "data": {
      "text/plain": [
       "array([1.000e-02, 5.900e-01, 2.430e+00, 3.790e+00, 5.500e+00, 5.570e+00,\n",
       "       7.940e+00, 1.373e+01, 1.565e+01, 1.757e+01, 4.312e+01])"
      ]
     },
     "execution_count": 81,
     "metadata": {},
     "output_type": "execute_result"
    }
   ],
   "source": [
    "np.unique(ls)"
   ]
  },
  {
   "cell_type": "code",
   "execution_count": 82,
   "metadata": {},
   "outputs": [
    {
     "data": {
      "text/plain": [
       "array([4.31203451e+01, 1.75654706e+01, 1.56481394e+01, 1.37257454e+01,\n",
       "       7.94430384e+00, 8.09727741e-03, 5.94688059e-01, 5.49781003e+00,\n",
       "       2.43104897e+00, 3.79461178e+00])"
      ]
     },
     "execution_count": 82,
     "metadata": {},
     "output_type": "execute_result"
    }
   ],
   "source": [
    "lambdas"
   ]
  },
  {
   "cell_type": "markdown",
   "metadata": {},
   "source": [
    "# Iteration of Rayleigh quotient\n",
    "Instead of using a random value $\\mu$ as initial guess, we can use the Rayleigh quotient instead.\n",
    "\n",
    "Moreover updating $\\mu$ at each iteration allows a faster convergence.\n",
    "\n",
    "These ideas give birth to the Rayleigh quotient iteration method\n",
    "\n",
    "__Rayleigh quotient iteration__($A$):\n",
    "\n",
    "+ __Initialization__: Generate $v$ a random vector with norm 1\n",
    "+ $\\lambda \\leftarrow v^T A v$ (Rayleigh quotient)\n",
    "+ __Repeat__:\n",
    "    + $w = (A-\\lambda)^{-1}v$\n",
    "    + $v = w/||w||$\n",
    "    + $\\lambda = v^T A v$\n",
    "    \n",
    "__Exercise 7__: \n",
    "+ Program the Rayleigh quotient iteration algorithm\n",
    "+ Generate a random matrix $M$ like in the previous exercises\n",
    "+ Test the algorithm, and compare to the output of the `np.linalg.eig` function.\n",
    "+ Compute 100 eigenvalues with the inverse iteration algorithm.\n",
    "+ Print the eigenvalues found with 2 decimals precision (use the `np.round` function)"
   ]
  },
  {
   "cell_type": "code",
   "execution_count": 113,
   "metadata": {},
   "outputs": [],
   "source": [
    "def rayleigh_quotient_iteration(A,nb_iterations):\n",
    "    n = A.shape[0]\n",
    "    v = np.random.randn(n)\n",
    "    v = v/np.linalg.norm(v)\n",
    "    l = v.T.dot(A.dot(v))\n",
    "    for i in range(nb_iterations):\n",
    "        w = np.linalg.inv(A-l*np.eye(n)).dot(v)\n",
    "        v  = w / np.linalg.norm(w)\n",
    "        l = v.T.dot(A).dot(v)\n",
    "    return(v,l)"
   ]
  },
  {
   "cell_type": "code",
   "execution_count": 114,
   "metadata": {},
   "outputs": [
    {
     "data": {
      "text/plain": [
       "(array([-0.35912701, -0.16723015, -0.36407796,  0.16235815, -0.15638406,\n",
       "        -0.67775991,  0.04843764,  0.42576309, -0.0641809 , -0.11222683]),\n",
       " 12.586669819092068)"
      ]
     },
     "execution_count": 114,
     "metadata": {},
     "output_type": "execute_result"
    }
   ],
   "source": [
    "A = np.random.randn(10,10)\n",
    "A = A.T.dot(A)\n",
    "rayleigh_quotient_iteration(A,100)"
   ]
  },
  {
   "cell_type": "code",
   "execution_count": 115,
   "metadata": {},
   "outputs": [],
   "source": [
    "lambdas,V = np.linalg.eig(A)"
   ]
  },
  {
   "cell_type": "code",
   "execution_count": 116,
   "metadata": {},
   "outputs": [
    {
     "data": {
      "text/plain": [
       "array([3.09915542e+01, 2.54393582e+01, 1.90032924e+01, 1.25866698e+01,\n",
       "       8.39664278e+00, 4.93746942e+00, 2.78809334e+00, 1.66122112e+00,\n",
       "       2.86074927e-01, 9.09068012e-03])"
      ]
     },
     "execution_count": 116,
     "metadata": {},
     "output_type": "execute_result"
    }
   ],
   "source": [
    "lambdas"
   ]
  },
  {
   "cell_type": "code",
   "execution_count": 123,
   "metadata": {},
   "outputs": [],
   "source": [
    "ls = []\n",
    "for i in range(100):\n",
    "    v,l = rayleigh_quotient_iteration(A,100)\n",
    "    ls.append(np.round(l,decimals=2))"
   ]
  },
  {
   "cell_type": "code",
   "execution_count": 124,
   "metadata": {},
   "outputs": [
    {
     "data": {
      "text/plain": [
       "array([ 2.79,  4.94,  8.4 , 12.59, 19.  , 25.44])"
      ]
     },
     "execution_count": 124,
     "metadata": {},
     "output_type": "execute_result"
    }
   ],
   "source": [
    "np.unique(ls)"
   ]
  },
  {
   "cell_type": "markdown",
   "metadata": {},
   "source": [
    "# Schur factorization\n",
    "__Goal__: Factorize $A$ in order to reveal the eigenvalues.\n",
    "\n",
    "$$A = Q T Q^*$$\n",
    "\n",
    "+ $Q$: unitary matrix\n",
    "+ $T$: Upper triangular matrix\n",
    "+ $T$ and $A$ are similar matrices, so they have the same eigenvalues\n",
    "\n",
    "__Theorem__: Every square matrix has a Schur decomposition\n",
    "\n",
    "__Method__: This factorization is computed iteratively using the $QR$ factorization\n",
    "\n",
    "__Schur factorization__(A):\n",
    "+ Let $A_0 = A$\n",
    "+ __Repeat__ for k=0 to $NbIterations$:\n",
    "    + Compute the factorization $A_k = Q_k R_k$\n",
    "    + Define $A_{k+1} \\leftarrow R_k Q_k = Q_k^* A_k Q_k$\n",
    "    \n",
    "    \n",
    "__Exercise 8__:\n",
    "+ Program the Schur factorization algorithm \n",
    "+ Generate a matrix $M$ like in the previous exercises/.\n",
    "+ Compute the matrix $T$ and compare the diagonal of $T$ with the eigenvalues computed with the `np.linalg.eig` function"
   ]
  },
  {
   "cell_type": "code",
   "execution_count": 166,
   "metadata": {},
   "outputs": [],
   "source": [
    "def schur_factorization(A,nb_iterations):\n",
    "    for i in range(nb_iterations):\n",
    "        Q,R = np.linalg.qr(A)\n",
    "        A = R.dot(Q)\n",
    "    return Q.T,A,Q"
   ]
  },
  {
   "cell_type": "code",
   "execution_count": 167,
   "metadata": {},
   "outputs": [],
   "source": [
    "A = np.random.randn(10,10)\n",
    "A = A.T.dot(A)\n",
    "Q,T,Q_t = schur_factorization(A,1000)"
   ]
  },
  {
   "cell_type": "code",
   "execution_count": 168,
   "metadata": {},
   "outputs": [
    {
     "data": {
      "text/plain": [
       "<matplotlib.image.AxesImage at 0x1258360b8>"
      ]
     },
     "execution_count": 168,
     "metadata": {},
     "output_type": "execute_result"
    },
    {
     "data": {
      "image/png": "[encoded data removed]",
      "text/plain": [
       "<Figure size 432x288 with 1 Axes>"
      ]
     },
     "metadata": {
      "needs_background": "light"
     },
     "output_type": "display_data"
    }
   ],
   "source": [
    "plt.imshow(T)"
   ]
  },
  {
   "cell_type": "code",
   "execution_count": 169,
   "metadata": {},
   "outputs": [
    {
     "data": {
      "text/plain": [
       "array([4.19897624e+01, 2.31319269e+01, 1.97425552e+01, 1.31557566e+01,\n",
       "       7.18370535e+00, 2.52868909e+00, 1.83486023e+00, 8.55768459e-01,\n",
       "       2.52216803e-01, 2.11416479e-03])"
      ]
     },
     "execution_count": 169,
     "metadata": {},
     "output_type": "execute_result"
    }
   ],
   "source": [
    "np.diag(T)"
   ]
  },
  {
   "cell_type": "code",
   "execution_count": 178,
   "metadata": {},
   "outputs": [
    {
     "data": {
      "text/plain": [
       "array([4.19897624e+01, 2.31319269e+01, 1.97425552e+01, 1.31557566e+01,\n",
       "       7.18370535e+00, 2.52868909e+00, 1.83486023e+00, 8.55768459e-01,\n",
       "       2.52216803e-01, 2.11416479e-03])"
      ]
     },
     "execution_count": 178,
     "metadata": {},
     "output_type": "execute_result"
    }
   ],
   "source": [
    "l,V = np.linalg.eig(A)\n",
    "l"
   ]
  },
  {
   "cell_type": "code",
   "execution_count": null,
   "metadata": {},
   "outputs": [],
   "source": []
  }
 ],
 "metadata": {
  "kernelspec": {
   "display_name": "Python 3",
   "language": "python",
   "name": "python3"
  },
  "language_info": {
   "codemirror_mode": {
    "name": "ipython",
    "version": 3
   },
   "file_extension": ".py",
   "mimetype": "text/x-python",
   "name": "python",
   "nbconvert_exporter": "python",
   "pygments_lexer": "ipython3",
   "version": "3.7.4"
  }
 },
 "nbformat": 4,
 "nbformat_minor": 2
}
