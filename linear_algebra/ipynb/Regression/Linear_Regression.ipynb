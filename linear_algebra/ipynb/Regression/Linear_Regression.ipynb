{
 "cells": [
  {
   "cell_type": "code",
   "execution_count": 1,
   "metadata": {},
   "outputs": [],
   "source": [
    "%matplotlib inline"
   ]
  },
  {
   "cell_type": "code",
   "execution_count": 2,
   "metadata": {},
   "outputs": [],
   "source": [
    "import numpy as np\n",
    "import matplotlib.pyplot as plt"
   ]
  },
  {
   "cell_type": "markdown",
   "metadata": {},
   "source": [
    "## Linear Least-Square Regression\n",
    "+ Write a function that computes the pseudo-inverse of a matrix $X$ \n",
    "\n",
    "(Hint: you can use the `np.linalg.inv` function)\n",
    "\n",
    "$X^+ = (X^T \\cdot X)^{-1} \\cdot X^T$\n"
   ]
  },
  {
   "cell_type": "code",
   "execution_count": 3,
   "metadata": {},
   "outputs": [],
   "source": [
    "def pseudo_inverse(X):\n",
    "    return(np.linalg.inv(X.T.dot(X)).dot(X.T))"
   ]
  },
  {
   "cell_type": "markdown",
   "metadata": {},
   "source": [
    "+ Write a function that computes the Least-Square coefficients vector $c$ given a matrix $X$ and a vector $y$\n",
    "\n",
    "     $c = X^+ \\cdot y$\n"
   ]
  },
  {
   "cell_type": "code",
   "execution_count": 4,
   "metadata": {},
   "outputs": [],
   "source": [
    "def least_square_coefficients(X,y):\n",
    "    X_p_inv = pseudo_inverse(X)\n",
    "    c = X_p_inv.dot(y)\n",
    "    return(c)"
   ]
  },
  {
   "cell_type": "markdown",
   "metadata": {},
   "source": [
    "\n",
    "+ Write a function that computes the Least-Square coefficients vector $c$ given a matrix $X$ and a vector $y$ using the SVD decomposition $X = U\\cdot \\Sigma \\cdot V^T$\n",
    " \n",
    "    (Hint: you can use the `np.linalg.svd` function)\n",
    "\n",
    "    $c=V \\cdot \\Sigma^{-1} \\cdot U^* \\cdot y$"
   ]
  },
  {
   "cell_type": "code",
   "execution_count": 5,
   "metadata": {},
   "outputs": [],
   "source": [
    "def least_square_coefficients_svd(X,y):\n",
    "    U, s, Vs = np.linalg.svd(X, full_matrices=False)\n",
    "    V = Vs.T\n",
    "    U_y = U.T.dot(y)\n",
    "    U_y_div_sigma = U_y*1./s\n",
    "    c = V.dot(U_y_div_sigma)\n",
    "    return(c)"
   ]
  },
  {
   "cell_type": "markdown",
   "metadata": {},
   "source": [
    "+ Compute parameter vector $c$ using the QR factorization\n",
    "\n",
    "normal equation : $X^* X c = X^* y$ \n",
    "\n",
    "QR factorization: $X = QR$\n",
    "\n",
    "Then: $(QR)^*(QR) c = (QR)^* y$\n",
    "\n",
    "$R^* Q^* Q R c = R^* Q^* y$\n",
    "\n",
    "$R^* R c = R^* Q^* y$\n",
    "\n",
    "If $X$ is full rank then $R$ is invertible\n",
    "\n",
    "$Rc = Q^* y$\n",
    "\n",
    "$c = R^{-1} Q^* y$"
   ]
  },
  {
   "cell_type": "markdown",
   "metadata": {},
   "source": [
    "+ Write a function that computes the Least Squares parameter vector using the QR factorization"
   ]
  },
  {
   "cell_type": "code",
   "execution_count": 6,
   "metadata": {},
   "outputs": [],
   "source": [
    "def least_squares_coefficients_qr(X,y):\n",
    "    Q,R = np.linalg.qr(X)\n",
    "    c = np.linalg.inv(R).dot(Q.T).dot(y)\n",
    "    return c"
   ]
  },
  {
   "cell_type": "markdown",
   "metadata": {},
   "source": [
    "## Toy dataset\n",
    "+ Generate a toy dataset $x$ and $y$ s.t.:\n",
    "    + $x = (0,0.001,0.002, ..., 1)$ (hint: use the `np.arange` function)\n",
    "    + $y = c_0 + c_1 x + c_2 x^2 + c_3 x^3 + r$ with:\n",
    "        + $c_0 = 2$ \n",
    "        + $c_1 = 20$\n",
    "        + $c_2 = 100$ \n",
    "        + $c_3 = 100$\n",
    "        + $r \\sim \\mathcal{N}(0,10)$ (hint: use the `np.random.randn` function)\n",
    "    + Generate $X = [x^0 | x^1 | x^2 | \\dots | x^k]$ the truncated Vandermonde matrix (for $k$=3) (hint: use the `np.linalg.vander` function)"
   ]
  },
  {
   "cell_type": "code",
   "execution_count": 7,
   "metadata": {},
   "outputs": [],
   "source": [
    "x = np.arange(0,1.001,0.001)\n",
    "y = 2 + 20*x + 100*x**2 + 100*x**3 + np.random.randn(len(x))\n",
    "X = np.vander(x,N=31, increasing=True)"
   ]
  },
  {
   "cell_type": "markdown",
   "metadata": {},
   "source": [
    "+ Compute the least square vector $c$ with each one of the previous functions\n",
    "+ Compute $\\hat{y} = X^+ \\cdot c$ the least-square model with each vector $c$\n",
    "+ Plot $y = f(\\hat{y})$ for each method\n",
    "+ Test the same experiment for a Vandermonde matrix with $k=30$"
   ]
  },
  {
   "cell_type": "code",
   "execution_count": 8,
   "metadata": {},
   "outputs": [],
   "source": [
    "c = least_square_coefficients(X,y)\n",
    "c_svd = least_square_coefficients_svd(X,y)\n",
    "c_qr = least_squares_coefficients_qr(X,y)\n",
    "\n",
    "y_hat = X.dot(c)\n",
    "y_hat_svd = X.dot(c_svd)\n",
    "y_hat_qr = X.dot(c_qr)\n"
   ]
  },
  {
   "cell_type": "code",
   "execution_count": 9,
   "metadata": {},
   "outputs": [
    {
     "data": {
      "text/plain": [
       "Text(0, 0.5, '$\\\\hat{y}$ (pseudo-inverse)')"
      ]
     },
     "execution_count": 9,
     "metadata": {},
     "output_type": "execute_result"
    },
    {
     "data": {
      "image/png": "[encoded data removed]",
      "text/plain": [
       "<Figure size 432x288 with 1 Axes>"
      ]
     },
     "metadata": {
      "needs_background": "light"
     },
     "output_type": "display_data"
    }
   ],
   "source": [
    "plt.plot(y,y_hat,\".\",label=\"Pseudo-Inverse\")\n",
    "plt.xlabel(\"$y$\")\n",
    "plt.ylabel(\"$\\hat{y}$ (pseudo-inverse)\")"
   ]
  },
  {
   "cell_type": "code",
   "execution_count": 10,
   "metadata": {},
   "outputs": [
    {
     "data": {
      "text/plain": [
       "Text(0, 0.5, '$\\\\hat{y}$ (SVD method)')"
      ]
     },
     "execution_count": 10,
     "metadata": {},
     "output_type": "execute_result"
    },
    {
     "data": {
      "image/png": "[encoded data removed]",
      "text/plain": [
       "<Figure size 432x288 with 1 Axes>"
      ]
     },
     "metadata": {
      "needs_background": "light"
     },
     "output_type": "display_data"
    }
   ],
   "source": [
    "plt.plot(y,y_hat_svd,\".\",label=\"SVD\")\n",
    "plt.xlabel(\"$y$\")\n",
    "plt.ylabel(\"$\\hat{y}$ (SVD method)\")"
   ]
  },
  {
   "cell_type": "code",
   "execution_count": 11,
   "metadata": {},
   "outputs": [
    {
     "data": {
      "text/plain": [
       "Text(0, 0.5, '$\\\\hat{y}$ (QR method)')"
      ]
     },
     "execution_count": 11,
     "metadata": {},
     "output_type": "execute_result"
    },
    {
     "data": {
      "image/png": "[encoded data removed]",
      "text/plain": [
       "<Figure size 432x288 with 1 Axes>"
      ]
     },
     "metadata": {
      "needs_background": "light"
     },
     "output_type": "display_data"
    }
   ],
   "source": [
    "plt.plot(y,y_hat_qr,\".\",label=\"QR\")\n",
    "plt.xlabel(\"$y$\")\n",
    "plt.ylabel(\"$\\hat{y}$ (QR method)\")"
   ]
  },
  {
   "cell_type": "markdown",
   "metadata": {},
   "source": [
    "+ Compute the runtimes for each method that aims at computing $c$"
   ]
  },
  {
   "cell_type": "code",
   "execution_count": 12,
   "metadata": {},
   "outputs": [
    {
     "name": "stdout",
     "output_type": "stream",
     "text": [
      "185 µs ± 8.25 µs per loop (mean ± std. dev. of 7 runs, 10000 loops each)\n"
     ]
    }
   ],
   "source": [
    "%timeit least_square_coefficients(X,y)\n"
   ]
  },
  {
   "cell_type": "code",
   "execution_count": 13,
   "metadata": {},
   "outputs": [
    {
     "name": "stdout",
     "output_type": "stream",
     "text": [
      "809 µs ± 10.6 µs per loop (mean ± std. dev. of 7 runs, 1000 loops each)\n"
     ]
    }
   ],
   "source": [
    "%timeit least_square_coefficients_svd(X,y)"
   ]
  },
  {
   "cell_type": "code",
   "execution_count": 14,
   "metadata": {},
   "outputs": [
    {
     "name": "stdout",
     "output_type": "stream",
     "text": [
      "642 µs ± 15.7 µs per loop (mean ± std. dev. of 7 runs, 1000 loops each)\n"
     ]
    }
   ],
   "source": [
    "%timeit least_squares_coefficients_qr(X,y)"
   ]
  },
  {
   "cell_type": "code",
   "execution_count": 15,
   "metadata": {},
   "outputs": [
    {
     "name": "stdout",
     "output_type": "stream",
     "text": [
      "813 µs ± 37.6 µs per loop (mean ± std. dev. of 7 runs, 1000 loops each)\n"
     ]
    }
   ],
   "source": [
    "%timeit np.linalg.svd(X, full_matrices=False)"
   ]
  },
  {
   "cell_type": "code",
   "execution_count": 16,
   "metadata": {},
   "outputs": [
    {
     "name": "stdout",
     "output_type": "stream",
     "text": [
      "525 µs ± 32.1 µs per loop (mean ± std. dev. of 7 runs, 1000 loops each)\n"
     ]
    }
   ],
   "source": [
    "%timeit np.linalg.qr(X)"
   ]
  },
  {
   "cell_type": "markdown",
   "metadata": {},
   "source": [
    "# Transcription Factors gene expression"
   ]
  },
  {
   "cell_type": "markdown",
   "metadata": {},
   "source": [
    "## Load dataset"
   ]
  },
  {
   "cell_type": "code",
   "execution_count": 226,
   "metadata": {},
   "outputs": [],
   "source": [
    "import pandas as pd\n",
    "import numpy as np\n",
    "import matplotlib.pyplot as plt"
   ]
  },
  {
   "cell_type": "markdown",
   "metadata": {},
   "source": [
    "+ Load the \"TFs_gene_expression_normalized.csv\" dataset, as a matrix $X$, using the `pd.read_csv` function.\n",
    "\n",
    "Each row represents a condition (groups of cells from a given tissues from different patients), and each column represents a gene encoding a transcription factor, and the value $X_{i,j}$ at row $i$ and column $j$ is simply the gene expression of gene $j$ in condition $i$"
   ]
  },
  {
   "cell_type": "code",
   "execution_count": 227,
   "metadata": {},
   "outputs": [
    {
     "name": "stdout",
     "output_type": "stream",
     "text": [
      "(10000, 500)\n"
     ]
    },
    {
     "data": {
      "text/html": [
       "<div>\n",
       "<style scoped>\n",
       "    .dataframe tbody tr th:only-of-type {\n",
       "        vertical-align: middle;\n",
       "    }\n",
       "\n",
       "    .dataframe tbody tr th {\n",
       "        vertical-align: top;\n",
       "    }\n",
       "\n",
       "    .dataframe thead th {\n",
       "        text-align: right;\n",
       "    }\n",
       "</style>\n",
       "<table border=\"1\" class=\"dataframe\">\n",
       "  <thead>\n",
       "    <tr style=\"text-align: right;\">\n",
       "      <th></th>\n",
       "      <th>ZBTB7A</th>\n",
       "      <th>ZNF248</th>\n",
       "      <th>GTF2IRD2</th>\n",
       "      <th>CENPB</th>\n",
       "      <th>ZNF705G</th>\n",
       "      <th>MYCL</th>\n",
       "      <th>HNF4G</th>\n",
       "      <th>ZNF440</th>\n",
       "      <th>ADNP2</th>\n",
       "      <th>PAX5</th>\n",
       "      <th>...</th>\n",
       "      <th>TFE3</th>\n",
       "      <th>PBX4</th>\n",
       "      <th>GMEB1</th>\n",
       "      <th>FOXI3</th>\n",
       "      <th>ZNF704</th>\n",
       "      <th>ZNF773</th>\n",
       "      <th>NFKB1</th>\n",
       "      <th>ZBTB47</th>\n",
       "      <th>SPIB</th>\n",
       "      <th>MYB</th>\n",
       "    </tr>\n",
       "  </thead>\n",
       "  <tbody>\n",
       "    <tr>\n",
       "      <th>GTEX-1F6RS-0226-SM-9MQKO</th>\n",
       "      <td>0.75</td>\n",
       "      <td>0.55</td>\n",
       "      <td>0.65</td>\n",
       "      <td>0.63</td>\n",
       "      <td>0.44</td>\n",
       "      <td>-0.79</td>\n",
       "      <td>-0.41</td>\n",
       "      <td>0.43</td>\n",
       "      <td>0.51</td>\n",
       "      <td>-0.27</td>\n",
       "      <td>...</td>\n",
       "      <td>1.47</td>\n",
       "      <td>0.53</td>\n",
       "      <td>1.14</td>\n",
       "      <td>-0.29</td>\n",
       "      <td>0.68</td>\n",
       "      <td>0.74</td>\n",
       "      <td>1.01</td>\n",
       "      <td>0.58</td>\n",
       "      <td>-0.48</td>\n",
       "      <td>-0.27</td>\n",
       "    </tr>\n",
       "    <tr>\n",
       "      <th>GTEX-1269C-2826-SM-5EQ5O</th>\n",
       "      <td>0.58</td>\n",
       "      <td>0.63</td>\n",
       "      <td>0.02</td>\n",
       "      <td>-0.49</td>\n",
       "      <td>-0.25</td>\n",
       "      <td>-0.83</td>\n",
       "      <td>-0.45</td>\n",
       "      <td>-1.12</td>\n",
       "      <td>0.17</td>\n",
       "      <td>-0.32</td>\n",
       "      <td>...</td>\n",
       "      <td>0.62</td>\n",
       "      <td>-1.03</td>\n",
       "      <td>-0.29</td>\n",
       "      <td>-0.29</td>\n",
       "      <td>1.59</td>\n",
       "      <td>-1.33</td>\n",
       "      <td>0.37</td>\n",
       "      <td>0.53</td>\n",
       "      <td>-0.32</td>\n",
       "      <td>-0.73</td>\n",
       "    </tr>\n",
       "    <tr>\n",
       "      <th>GTEX-14LZ3-0011-R1a-SM-69LP5</th>\n",
       "      <td>-0.90</td>\n",
       "      <td>-0.63</td>\n",
       "      <td>-1.09</td>\n",
       "      <td>0.62</td>\n",
       "      <td>1.62</td>\n",
       "      <td>-0.59</td>\n",
       "      <td>-0.40</td>\n",
       "      <td>-1.47</td>\n",
       "      <td>-1.68</td>\n",
       "      <td>-0.32</td>\n",
       "      <td>...</td>\n",
       "      <td>-2.24</td>\n",
       "      <td>-0.94</td>\n",
       "      <td>-1.91</td>\n",
       "      <td>-0.29</td>\n",
       "      <td>-0.20</td>\n",
       "      <td>-1.80</td>\n",
       "      <td>-1.67</td>\n",
       "      <td>0.47</td>\n",
       "      <td>-0.50</td>\n",
       "      <td>-0.72</td>\n",
       "    </tr>\n",
       "    <tr>\n",
       "      <th>GTEX-17HG3-2926-SM-79ON8</th>\n",
       "      <td>1.23</td>\n",
       "      <td>0.48</td>\n",
       "      <td>-0.94</td>\n",
       "      <td>-0.13</td>\n",
       "      <td>-0.25</td>\n",
       "      <td>-0.42</td>\n",
       "      <td>-0.14</td>\n",
       "      <td>-0.45</td>\n",
       "      <td>-0.49</td>\n",
       "      <td>-0.26</td>\n",
       "      <td>...</td>\n",
       "      <td>-0.06</td>\n",
       "      <td>-0.17</td>\n",
       "      <td>-0.98</td>\n",
       "      <td>0.08</td>\n",
       "      <td>0.10</td>\n",
       "      <td>-0.31</td>\n",
       "      <td>-1.57</td>\n",
       "      <td>0.63</td>\n",
       "      <td>-0.49</td>\n",
       "      <td>-0.49</td>\n",
       "    </tr>\n",
       "    <tr>\n",
       "      <th>GTEX-147F3-0726-SM-5NQ9U</th>\n",
       "      <td>-0.22</td>\n",
       "      <td>-0.42</td>\n",
       "      <td>0.31</td>\n",
       "      <td>0.61</td>\n",
       "      <td>-0.25</td>\n",
       "      <td>0.40</td>\n",
       "      <td>-0.37</td>\n",
       "      <td>0.88</td>\n",
       "      <td>0.86</td>\n",
       "      <td>-0.03</td>\n",
       "      <td>...</td>\n",
       "      <td>0.29</td>\n",
       "      <td>1.07</td>\n",
       "      <td>0.39</td>\n",
       "      <td>-0.29</td>\n",
       "      <td>0.69</td>\n",
       "      <td>0.41</td>\n",
       "      <td>0.21</td>\n",
       "      <td>-0.18</td>\n",
       "      <td>-0.30</td>\n",
       "      <td>0.13</td>\n",
       "    </tr>\n",
       "  </tbody>\n",
       "</table>\n",
       "<p>5 rows × 500 columns</p>\n",
       "</div>"
      ],
      "text/plain": [
       "                              ZBTB7A  ZNF248  GTF2IRD2  CENPB  ZNF705G  MYCL  \\\n",
       "GTEX-1F6RS-0226-SM-9MQKO        0.75    0.55      0.65   0.63     0.44 -0.79   \n",
       "GTEX-1269C-2826-SM-5EQ5O        0.58    0.63      0.02  -0.49    -0.25 -0.83   \n",
       "GTEX-14LZ3-0011-R1a-SM-69LP5   -0.90   -0.63     -1.09   0.62     1.62 -0.59   \n",
       "GTEX-17HG3-2926-SM-79ON8        1.23    0.48     -0.94  -0.13    -0.25 -0.42   \n",
       "GTEX-147F3-0726-SM-5NQ9U       -0.22   -0.42      0.31   0.61    -0.25  0.40   \n",
       "\n",
       "                              HNF4G  ZNF440  ADNP2  PAX5  ...  TFE3  PBX4  \\\n",
       "GTEX-1F6RS-0226-SM-9MQKO      -0.41    0.43   0.51 -0.27  ...  1.47  0.53   \n",
       "GTEX-1269C-2826-SM-5EQ5O      -0.45   -1.12   0.17 -0.32  ...  0.62 -1.03   \n",
       "GTEX-14LZ3-0011-R1a-SM-69LP5  -0.40   -1.47  -1.68 -0.32  ... -2.24 -0.94   \n",
       "GTEX-17HG3-2926-SM-79ON8      -0.14   -0.45  -0.49 -0.26  ... -0.06 -0.17   \n",
       "GTEX-147F3-0726-SM-5NQ9U      -0.37    0.88   0.86 -0.03  ...  0.29  1.07   \n",
       "\n",
       "                              GMEB1  FOXI3  ZNF704  ZNF773  NFKB1  ZBTB47  \\\n",
       "GTEX-1F6RS-0226-SM-9MQKO       1.14  -0.29    0.68    0.74   1.01    0.58   \n",
       "GTEX-1269C-2826-SM-5EQ5O      -0.29  -0.29    1.59   -1.33   0.37    0.53   \n",
       "GTEX-14LZ3-0011-R1a-SM-69LP5  -1.91  -0.29   -0.20   -1.80  -1.67    0.47   \n",
       "GTEX-17HG3-2926-SM-79ON8      -0.98   0.08    0.10   -0.31  -1.57    0.63   \n",
       "GTEX-147F3-0726-SM-5NQ9U       0.39  -0.29    0.69    0.41   0.21   -0.18   \n",
       "\n",
       "                              SPIB   MYB  \n",
       "GTEX-1F6RS-0226-SM-9MQKO     -0.48 -0.27  \n",
       "GTEX-1269C-2826-SM-5EQ5O     -0.32 -0.73  \n",
       "GTEX-14LZ3-0011-R1a-SM-69LP5 -0.50 -0.72  \n",
       "GTEX-17HG3-2926-SM-79ON8     -0.49 -0.49  \n",
       "GTEX-147F3-0726-SM-5NQ9U     -0.30  0.13  \n",
       "\n",
       "[5 rows x 500 columns]"
      ]
     },
     "execution_count": 227,
     "metadata": {},
     "output_type": "execute_result"
    }
   ],
   "source": [
    "X = pd.read_csv(\"TFs_gene_expression_normalized.csv\",index_col=0)\n",
    "print(X.shape)\n",
    "X.head()\n"
   ]
  },
  {
   "cell_type": "markdown",
   "metadata": {},
   "source": [
    "+ In this work we will extract one of the gene expression vectors from a transcription (for example 'ZBTB7A', the so-called \"pokemon\") to form an observations vector $y$, and we will try to model its expression as a linear combination of the expression levels of other transcription factors in matrix $X$."
   ]
  },
  {
   "cell_type": "code",
   "execution_count": 228,
   "metadata": {},
   "outputs": [],
   "source": [
    "y = X[\"ZBTB7A\"]\n",
    "del X[\"ZBTB7A\"]\n"
   ]
  },
  {
   "cell_type": "code",
   "execution_count": 229,
   "metadata": {},
   "outputs": [],
   "source": [
    "TF_names = X.columns"
   ]
  },
  {
   "cell_type": "code",
   "execution_count": 230,
   "metadata": {},
   "outputs": [],
   "source": [
    "X = X.values\n",
    "y = y.values"
   ]
  },
  {
   "cell_type": "markdown",
   "metadata": {},
   "source": [
    "+ Select randomly:\n",
    "    + A fraction $\\delta$ of the rows as training dataset to infer the coefficients\n",
    "    + The remaining fraction $1-\\delta$  of the rows as test set to compute the prediction error\n",
    "    \n",
    "Hint: use the `np.random.shuffle` function to shuffle a list containing the indexes of rows in $X$, and then simply take the first $2/3$ (respectively the last $1/3$) of this vector to build the training set (respectively the test set)."
   ]
  },
  {
   "cell_type": "code",
   "execution_count": 231,
   "metadata": {},
   "outputs": [],
   "source": [
    "index = list(range(X.shape[0]))\n",
    "np.random.shuffle(index)"
   ]
  },
  {
   "cell_type": "code",
   "execution_count": 232,
   "metadata": {},
   "outputs": [],
   "source": [
    "L = len(index)\n",
    "delta = 0.01#2/3\n",
    "\n",
    "y_train = y[index[:int(L*delta)]]\n",
    "y_test = y[index[int(L*delta):]]\n",
    "\n",
    "X_train = X[index[:int(L*delta)],:]\n",
    "X_test = X[index[int(L*delta):],:]"
   ]
  },
  {
   "cell_type": "code",
   "execution_count": 233,
   "metadata": {},
   "outputs": [
    {
     "data": {
      "text/plain": [
       "((9900, 499), (100, 499), (10000, 499))"
      ]
     },
     "execution_count": 233,
     "metadata": {},
     "output_type": "execute_result"
    }
   ],
   "source": [
    "X_test.shape,X_train.shape,X.shape"
   ]
  },
  {
   "cell_type": "markdown",
   "metadata": {},
   "source": [
    "## Linear Regression \n"
   ]
  },
  {
   "cell_type": "markdown",
   "metadata": {},
   "source": [
    "+ Compute the linear least-square coefficients for the training set "
   ]
  },
  {
   "cell_type": "code",
   "execution_count": 234,
   "metadata": {},
   "outputs": [],
   "source": [
    "c = least_square_coefficients(X_train, y_train)"
   ]
  },
  {
   "cell_type": "markdown",
   "metadata": {},
   "source": [
    "+ Compute the predictions on the training and test sets and plot them with respect to the real observations"
   ]
  },
  {
   "cell_type": "code",
   "execution_count": 235,
   "metadata": {},
   "outputs": [
    {
     "data": {
      "text/plain": [
       "Text(0, 0.5, '$\\\\hat{y}$')"
      ]
     },
     "execution_count": 235,
     "metadata": {},
     "output_type": "execute_result"
    },
    {
     "data": {
      "image/png": "[encoded data removed]",
      "text/plain": [
       "<Figure size 432x288 with 1 Axes>"
      ]
     },
     "metadata": {
      "needs_background": "light"
     },
     "output_type": "display_data"
    }
   ],
   "source": [
    "y_test_pred = X_test.dot(c)\n",
    "y_train_pred = X_train.dot(c)\n",
    "\n",
    "plt.plot(y_train, y_train_pred,\"X\",alpha=0.5)\n",
    "plt.plot(y_test,y_test_pred,'.',alpha=0.1)\n",
    "\n",
    "plt.xlabel(\"$y$\")\n",
    "plt.ylabel(\"$\\hat{y}$\")\n"
   ]
  },
  {
   "cell_type": "markdown",
   "metadata": {},
   "source": [
    "Make a function that returns the prediction error: $||X_{test}\\cdot c− y_{test}||_2^2$"
   ]
  },
  {
   "cell_type": "code",
   "execution_count": 236,
   "metadata": {},
   "outputs": [],
   "source": [
    "def error(X,y,c):\n",
    "    return np.sum((X.dot(c) - y)**2)"
   ]
  },
  {
   "cell_type": "code",
   "execution_count": 237,
   "metadata": {},
   "outputs": [
    {
     "data": {
      "text/plain": [
       "(7623537187.5078945, 3772224.350037357)"
      ]
     },
     "execution_count": 237,
     "metadata": {},
     "output_type": "execute_result"
    }
   ],
   "source": [
    "error(X_test,y_test,c),error(X_train,y_train,c)"
   ]
  },
  {
   "cell_type": "markdown",
   "metadata": {},
   "source": [
    "+ Plot the distribution of coefficients"
   ]
  },
  {
   "cell_type": "code",
   "execution_count": 238,
   "metadata": {},
   "outputs": [
    {
     "data": {
      "text/plain": [
       "(array([  1.,   2.,   5.,   4.,  25., 241., 183.,  25.,   8.,   5.]),\n",
       " array([-743.99605957, -619.4227691 , -494.84947864, -370.27618817,\n",
       "        -245.70289771, -121.12960724,    3.44368323,  128.01697369,\n",
       "         252.59026416,  377.16355463,  501.73684509]),\n",
       " <BarContainer object of 10 artists>)"
      ]
     },
     "execution_count": 238,
     "metadata": {},
     "output_type": "execute_result"
    },
    {
     "data": {
      "image/png": "[encoded data removed]",
      "text/plain": [
       "<Figure size 432x288 with 1 Axes>"
      ]
     },
     "metadata": {
      "needs_background": "light"
     },
     "output_type": "display_data"
    }
   ],
   "source": [
    "plt.hist(c)"
   ]
  },
  {
   "cell_type": "markdown",
   "metadata": {},
   "source": [
    "## Tikhonov regularization (ridge regression)\n",
    "\n",
    "\n",
    "In some real world cases, solving the least square linear regression problem by minimizing the residuals squared norm $Argmin_c || Xc - y ||^2_2$, may lead to undesirable solutions due to a tendency of amplifying noise.\n",
    "In this context, a regularization term can be included in the to give preference to a particular solution with desirable properties.\n",
    "\n",
    "$$Argmin_c || Xc - y ||^2_2 + ||\\Gamma c||^2_2$$\n",
    "\n",
    "Here $\\Gamma$ is called the Tikhonov regularization matrix (often $\\Gamma = \\alpha I$).\n",
    "\n",
    "+ Calculate the analytical solution for $c$\n"
   ]
  },
  {
   "cell_type": "markdown",
   "metadata": {},
   "source": [
    "\n",
    "\n",
    "$$ c = (X^TX + \\Gamma^T\\Gamma)^{-1}X^T y$$\n",
    "\n",
    "\n",
    "\n",
    "$$c = (X^TX + \\alpha^2 I)^{-1}X^T y \\quad , \\text{if} \\; \\Gamma = \\alpha I$$"
   ]
  },
  {
   "cell_type": "markdown",
   "metadata": {},
   "source": [
    "+ Replace the matrix $X$ by its SVD and compute the previous analytical solution"
   ]
  },
  {
   "cell_type": "markdown",
   "metadata": {},
   "source": [
    "$$c = V\\Sigma(\\Sigma^2 +\\alpha^2I)^{-1}U^Ty \\quad \\text{if more rows than cols.}$$\n",
    "\n",
    "$$c = (V\\Sigma^2V^T + \\alpha I)^{-1} V \\Sigma U^T \\quad \\text{otherwise}$$\n",
    "\n"
   ]
  },
  {
   "cell_type": "markdown",
   "metadata": {},
   "source": [
    "+ Make a function that receives as an input observations $y_{train}$ and conditions $X_{train}$ and compute the coefficients $c$ that minimizes\n",
    "\n",
    "$$||X_{train}\\cdot c - y_{train}||_2^2 + ||\\alpha c||_2^2$$"
   ]
  },
  {
   "cell_type": "code",
   "execution_count": 239,
   "metadata": {},
   "outputs": [],
   "source": [
    "def regression_tikhonov(X, y, alpha):\n",
    "    c = np.linalg.inv((X.T.dot(X) + np.eye(X.shape[1])*alpha**2)).dot(X.T).dot(y)\n",
    "    return(c)\n",
    "\n",
    "def regression_tikhonov_svd(X, y, alpha):\n",
    "    U, s, Vs = np.linalg.svd(X, full_matrices=False)\n",
    "    V = Vs.T\n",
    "    c = V.dot(np.eye(V.shape[0])*(s/(s**2 + alpha**2))).dot(U.T).dot(y)\n",
    "    return(c)"
   ]
  },
  {
   "cell_type": "code",
   "execution_count": 240,
   "metadata": {},
   "outputs": [
    {
     "data": {
      "text/plain": [
       "((100, 100), (100,), (100, 499))"
      ]
     },
     "execution_count": 240,
     "metadata": {},
     "output_type": "execute_result"
    }
   ],
   "source": [
    "u,s,v= np.linalg.svd(X_train, full_matrices=False)\n",
    "u.shape,s.shape,v.shape"
   ]
  },
  {
   "cell_type": "markdown",
   "metadata": {},
   "source": [
    "+ Run the previous study using the Tikhonov regularization for different values of $\\alpha$"
   ]
  },
  {
   "cell_type": "code",
   "execution_count": 241,
   "metadata": {},
   "outputs": [],
   "source": [
    "c = regression_tikhonov(X_train, y_train, alpha=10)"
   ]
  },
  {
   "cell_type": "code",
   "execution_count": 242,
   "metadata": {},
   "outputs": [
    {
     "data": {
      "text/plain": [
       "Text(0, 0.5, '$\\\\hat{y}$')"
      ]
     },
     "execution_count": 242,
     "metadata": {},
     "output_type": "execute_result"
    },
    {
     "data": {
      "image/png": "[encoded data removed]",
      "text/plain": [
       "<Figure size 432x288 with 1 Axes>"
      ]
     },
     "metadata": {
      "needs_background": "light"
     },
     "output_type": "display_data"
    }
   ],
   "source": [
    "y_train_pred = X_train.dot(c)\n",
    "y_test_pred = X_test.dot(c)\n",
    "plt.plot(y_train, y_train_pred,\"X\",alpha=0.5)\n",
    "plt.plot(y_test, y_test_pred,\".\",alpha=0.05)\n",
    "plt.xlabel(\"$y$\")\n",
    "plt.ylabel(\"$\\hat{y}$\")"
   ]
  },
  {
   "cell_type": "code",
   "execution_count": 243,
   "metadata": {},
   "outputs": [
    {
     "data": {
      "text/plain": [
       "(986.001693859274, 2.5770043183618863)"
      ]
     },
     "execution_count": 243,
     "metadata": {},
     "output_type": "execute_result"
    }
   ],
   "source": [
    "error(X_test,y_test,c),error(X_train,y_train,c)"
   ]
  },
  {
   "cell_type": "markdown",
   "metadata": {},
   "source": [
    "+ Plot the distribution of coefficients"
   ]
  },
  {
   "cell_type": "code",
   "execution_count": 244,
   "metadata": {},
   "outputs": [
    {
     "data": {
      "text/plain": [
       "(array([  6.,  21.,  65., 130., 135.,  69.,  44.,  21.,   6.,   2.]),\n",
       " array([-0.02519586, -0.01882091, -0.01244595, -0.00607099,  0.00030397,\n",
       "         0.00667893,  0.01305388,  0.01942884,  0.0258038 ,  0.03217876,\n",
       "         0.03855371]),\n",
       " <BarContainer object of 10 artists>)"
      ]
     },
     "execution_count": 244,
     "metadata": {},
     "output_type": "execute_result"
    },
    {
     "data": {
      "image/png": "[encoded data removed]",
      "text/plain": [
       "<Figure size 432x288 with 1 Axes>"
      ]
     },
     "metadata": {
      "needs_background": "light"
     },
     "output_type": "display_data"
    }
   ],
   "source": [
    "plt.hist(c)"
   ]
  },
  {
   "cell_type": "markdown",
   "metadata": {},
   "source": [
    "+ In which case does the classic least-squares linear regression fail?\n",
    "\n",
    "    If it is not possible to compute $(X^T X)^{-1}$\n"
   ]
  },
  {
   "cell_type": "markdown",
   "metadata": {},
   "source": [
    "+ Does Tikhonov regularization solves this problem?\n",
    "\n",
    "    Yes since $(X^T X + \\alpha I)^{-1}$ exists\n"
   ]
  },
  {
   "cell_type": "markdown",
   "metadata": {},
   "source": [
    "+ Set a value $\\delta$ that would illustrate this phenomenon\n"
   ]
  },
  {
   "cell_type": "code",
   "execution_count": 245,
   "metadata": {},
   "outputs": [
    {
     "data": {
      "text/plain": [
       "((10000, 499), 100.0)"
      ]
     },
     "execution_count": 245,
     "metadata": {},
     "output_type": "execute_result"
    }
   ],
   "source": [
    "delta = 0.01\n",
    "X.shape, delta*10000"
   ]
  },
  {
   "cell_type": "markdown",
   "metadata": {},
   "source": [
    "## [Orthogonal Matching Pursuit (OMP)](https://angms.science/doc/RM/OMP.pdf)\n",
    "\n",
    "The OMP is intended to find an approximate solution to the following problem:\n",
    "\n",
    "$min _{c}\\|y -X\\cdot c\\|_{2}^{2} \\quad \\text{ subject to } \\quad \\|c\\|_{0}\\leq N$\n",
    "\n",
    "where $\\|c\\|_{0}$ is the $\\ell_{0}$ pseudo-norm (i.e. the number of nonzero elements of $c$). \n",
    "\n",
    "The concept of OMP is related to statistical projection pursuit, in which \"interesting\" projections are found iteratively.\n",
    "\n",
    "In practice the following algorithm is used:\n",
    "\n",
    "### Algorithm Matching Pursuit\n",
    "__Input__: $y\\in \\mathbb{R}^n$, $X\\in \\mathbb{R}^{n,p}$ \n",
    "+ __Initialization:__ $r \\leftarrow y$, $\\Lambda  \\leftarrow \\emptyset$\n",
    "+ __for__ $k = 1, \\dots, N$:\n",
    "    + $\\lambda  \\leftarrow argmax_{j \\notin \\Lambda} \\; \\frac{|X_j^T \\cdot r |} {\\| X_j \\|_2}$\n",
    "    + $\\Lambda  \\leftarrow \\Lambda \\cup \\{ \\lambda \\}$\n",
    "    + $c^{(i \\in \\Lambda_k)} = argmin_c \\| X_{\\Lambda_{k}}\\cdot c - y \\|_2^2;  \\quad \\text{and} \\quad c^{(i\\notin \\Delta_k)} = 0$\n",
    "    + $\\hat{y}  \\leftarrow X\\cdot c$\n",
    "    + $r \\leftarrow y - \\hat{y}$\n",
    "\n",
    "__Return__ $c$\n",
    "\n",
    "+ Program the OMP algorithm\n",
    "+ Apply it to the Transcription Factors dataset with different values of $N$"
   ]
  },
  {
   "cell_type": "code",
   "execution_count": 262,
   "metadata": {},
   "outputs": [],
   "source": [
    "def OMP(X,y,N):\n",
    "    r = y\n",
    "    Delta = []\n",
    "    X_ = X/np.linalg.norm(X,axis=0)\n",
    "    for k in range(N):\n",
    "        d = np.argmax(np.abs(X_.T.dot(r)))\n",
    "        Delta.append(d)\n",
    "        c = np.zeros(X.shape[1])\n",
    "        c[Delta] = regression_tikhonov(X[:,Delta],y,1)#least_square_coefficients_svd(X[:,Delta],y) # \n",
    "        y_hat = X.dot(c)\n",
    "        r = y - y_hat\n",
    "    c = np.zeros(X.shape[1])\n",
    "    c[Delta] = least_square_coefficients_svd(X[:,Delta],y)\n",
    "    return c"
   ]
  },
  {
   "cell_type": "code",
   "execution_count": 293,
   "metadata": {},
   "outputs": [
    {
     "data": {
      "text/plain": [
       "Text(0, 0.5, '$\\\\hat{y}$')"
      ]
     },
     "execution_count": 293,
     "metadata": {},
     "output_type": "execute_result"
    },
    {
     "data": {
      "image/png": "[encoded data removed]",
      "text/plain": [
       "<Figure size 432x288 with 1 Axes>"
      ]
     },
     "metadata": {
      "needs_background": "light"
     },
     "output_type": "display_data"
    }
   ],
   "source": [
    "c = OMP(X_train, y_train, N=10)\n",
    "y_train_pred = X_train.dot(c)\n",
    "y_test_pred = X_test.dot(c)\n",
    "plt.plot(y_train, y_train_pred,\"X\",alpha=0.5)\n",
    "plt.plot(y_test, y_test_pred,\".\",alpha=0.05)\n",
    "plt.xlabel(\"$y$\")\n",
    "plt.ylabel(\"$\\hat{y}$\")"
   ]
  },
  {
   "cell_type": "code",
   "execution_count": 294,
   "metadata": {},
   "outputs": [],
   "source": [
    "c_omp = pd.Series(c,index=TF_names)"
   ]
  },
  {
   "cell_type": "code",
   "execution_count": 295,
   "metadata": {},
   "outputs": [
    {
     "data": {
      "text/plain": [
       "BCL6B    -0.161275\n",
       "SIM1     -0.150253\n",
       "NKX2-5   -0.128043\n",
       "ANHX      0.098554\n",
       "KLF16     0.146179\n",
       "DEAF1     0.148194\n",
       "TRAFD1    0.165485\n",
       "ESRRA     0.251091\n",
       "NFIX      0.252143\n",
       "MNT       0.529518\n",
       "dtype: float64"
      ]
     },
     "execution_count": 295,
     "metadata": {},
     "output_type": "execute_result"
    }
   ],
   "source": [
    "c_omp[c_omp!=0].sort_values()"
   ]
  },
  {
   "cell_type": "markdown",
   "metadata": {},
   "source": [
    "## Bonus: Lasso Regression\n",
    "+ Read about Lasso Regression, and explain how coefficients $c$ are computed\n",
    "+ Test `scikit-learn` python library Lasso Regression implementation"
   ]
  },
  {
   "cell_type": "code",
   "execution_count": null,
   "metadata": {},
   "outputs": [],
   "source": []
  },
  {
   "cell_type": "code",
   "execution_count": null,
   "metadata": {},
   "outputs": [],
   "source": []
  }
 ],
 "metadata": {
  "kernelspec": {
   "display_name": "Python 3",
   "language": "python",
   "name": "python3"
  },
  "language_info": {
   "codemirror_mode": {
    "name": "ipython",
    "version": 3
   },
   "file_extension": ".py",
   "mimetype": "text/x-python",
   "name": "python",
   "nbconvert_exporter": "python",
   "pygments_lexer": "ipython3",
   "version": "3.7.4"
  }
 },
 "nbformat": 4,
 "nbformat_minor": 2
}
