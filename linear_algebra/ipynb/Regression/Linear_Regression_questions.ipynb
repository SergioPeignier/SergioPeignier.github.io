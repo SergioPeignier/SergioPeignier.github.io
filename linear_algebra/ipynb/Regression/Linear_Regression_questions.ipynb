{
 "cells": [
  {
   "cell_type": "code",
   "execution_count": 1,
   "metadata": {},
   "outputs": [],
   "source": [
    "%matplotlib inline"
   ]
  },
  {
   "cell_type": "code",
   "execution_count": 2,
   "metadata": {},
   "outputs": [],
   "source": [
    "import numpy as np\n",
    "import matplotlib.pyplot as plt"
   ]
  },
  {
   "cell_type": "markdown",
   "metadata": {},
   "source": [
    "## Linear Least-Square Regression\n",
    "+ Write a function that computes the pseudo-inverse of a matrix $X$ \n",
    "\n",
    "(Hint: you can use the `np.linalg.inv` function)\n",
    "\n",
    "$X^+ = (X^T \\cdot X)^{-1} \\cdot X^T$\n"
   ]
  },
  {
   "cell_type": "code",
   "execution_count": 3,
   "metadata": {},
   "outputs": [],
   "source": [
    "def pseudo_inverse(X):\n",
    "    # Write your code"
   ]
  },
  {
   "cell_type": "markdown",
   "metadata": {},
   "source": [
    "+ Write a function that computes the Least-Square coefficients vector $c$ given a matrix $X$ and a vector $y$\n",
    "\n",
    "     $c = X^+ \\cdot y$\n",
    "     \n",
    " \n",
    "+ Write a function that computes the Least-Square coefficients vector $c$ given a matrix $X$ and a vector $y$ using the SVD decomposition $X = U\\cdot \\Sigma \\cdot V^T$\n",
    " \n",
    "    (Hint: you can use the `np.linalg.svd` function)\n",
    "\n",
    "    $c=V \\cdot \\Sigma^{-1} \\cdot U^* \\cdot y$"
   ]
  },
  {
   "cell_type": "code",
   "execution_count": 4,
   "metadata": {},
   "outputs": [],
   "source": [
    "def least_square_coefficients(X,y):\n",
    "    # Write your code"
   ]
  },
  {
   "cell_type": "code",
   "execution_count": 5,
   "metadata": {},
   "outputs": [],
   "source": [
    "def least_square_coefficients_svd(X,y):\n",
    "    # Write your code"
   ]
  },
  {
   "cell_type": "markdown",
   "metadata": {},
   "source": [
    "## Toy dataset\n",
    "+ Generate a toy dataset $x$ and $y$ s.t.:\n",
    "    + $x = (0,0.001,0.002, ..., 1)$ (hint: use the `np.arange` function)\n",
    "    + $y = c_0 + c_1 x + c_2 x^2 + c_3 x^3 + r$ with:\n",
    "        + $c_0 = 2$ \n",
    "        + $c_1 = 20$\n",
    "        + $c_2 = 100$ \n",
    "        + $c_3 = 100$\n",
    "        + $r \\sim \\mathcal{N}(0,10)$ (hint: use the `np.random.randn` function)\n",
    "    + Generate $X = [x^0 | x^1 | x^2 | \\dots | x^k]$ the truncated Vandermonde matrix (for $k$=3) (hint: use the `np.linalg.vander` function)"
   ]
  },
  {
   "cell_type": "code",
   "execution_count": 6,
   "metadata": {},
   "outputs": [],
   "source": [
    "x = np.arange(#write your code) \n",
    "y = #write your code\n",
    "X = np.vander(#write your code)"
   ]
  },
  {
   "cell_type": "markdown",
   "metadata": {},
   "source": [
    "+ Compute the least square vector $c$ with each one of the previous functions\n",
    "+ Compute $\\hat{y} = X^+ \\cdot c$ the least-square model with each vector $c$\n",
    "+ Plot $y = f(\\hat{y})$ for each method\n",
    "+ Test the same experiment for a Vandermonde matrix with $k=30$"
   ]
  },
  {
   "cell_type": "code",
   "execution_count": 7,
   "metadata": {},
   "outputs": [],
   "source": [
    "c = least_square_coefficients(X,y)\n",
    "c_svd = least_square_coefficients_svd(X,y)\n",
    "\n",
    "y_hat = #write your code\n",
    "y_hat_svd = #write your code\n"
   ]
  },
  {
   "cell_type": "code",
   "execution_count": 8,
   "metadata": {},
   "outputs": [
    {
     "data": {
      "text/plain": [
       "Text(0, 0.5, '$\\\\hat{y}$ (pseudo-inverse)')"
      ]
     },
     "execution_count": 8,
     "metadata": {},
     "output_type": "execute_result"
    },
    {
     "data": {
      "image/png": "[encoded data removed]",
      "text/plain": [
       "<Figure size 432x288 with 1 Axes>"
      ]
     },
     "metadata": {
      "needs_background": "light"
     },
     "output_type": "display_data"
    }
   ],
   "source": [
    "plt.plot(y,y_hat,\".\",label=\"Pseudo-Inverse\")\n",
    "plt.xlabel(\"$y$\")\n",
    "plt.ylabel(\"$\\hat{y}$ (pseudo-inverse)\")"
   ]
  },
  {
   "cell_type": "code",
   "execution_count": 9,
   "metadata": {},
   "outputs": [
    {
     "data": {
      "text/plain": [
       "Text(0, 0.5, '$\\\\hat{y}$ (SVD method)')"
      ]
     },
     "execution_count": 9,
     "metadata": {},
     "output_type": "execute_result"
    },
    {
     "data": {
      "image/png": "[encoded data removed]",
      "text/plain": [
       "<Figure size 432x288 with 1 Axes>"
      ]
     },
     "metadata": {
      "needs_background": "light"
     },
     "output_type": "display_data"
    }
   ],
   "source": [
    "plt.plot(y,y_hat_svd,\".\",label=\"SVD\")\n",
    "plt.xlabel(\"$y$\")\n",
    "plt.ylabel(\"$\\hat{y}$ (SVD method)\")"
   ]
  },
  {
   "cell_type": "markdown",
   "metadata": {},
   "source": [
    "+ Compute the runtimes for each method that aims at computing $c$"
   ]
  },
  {
   "cell_type": "code",
   "execution_count": 10,
   "metadata": {},
   "outputs": [
    {
     "name": "stdout",
     "output_type": "stream",
     "text": [
      "135 µs ± 1.57 µs per loop (mean ± std. dev. of 7 runs, 10000 loops each)\n"
     ]
    }
   ],
   "source": [
    "%timeit least_square_coefficients(X,y)\n"
   ]
  },
  {
   "cell_type": "code",
   "execution_count": 11,
   "metadata": {},
   "outputs": [
    {
     "name": "stdout",
     "output_type": "stream",
     "text": [
      "1.13 ms ± 324 µs per loop (mean ± std. dev. of 7 runs, 1000 loops each)\n"
     ]
    }
   ],
   "source": [
    "%timeit least_square_coefficients_svd(X,y)"
   ]
  },
  {
   "cell_type": "code",
   "execution_count": 12,
   "metadata": {},
   "outputs": [
    {
     "name": "stdout",
     "output_type": "stream",
     "text": [
      "1.05 ms ± 341 µs per loop (mean ± std. dev. of 7 runs, 1000 loops each)\n"
     ]
    }
   ],
   "source": [
    "%timeit np.linalg.svd(X, full_matrices=False)"
   ]
  },
  {
   "cell_type": "markdown",
   "metadata": {},
   "source": [
    "# Transcription Factors gene expression"
   ]
  },
  {
   "cell_type": "markdown",
   "metadata": {},
   "source": [
    "## Load dataset"
   ]
  },
  {
   "cell_type": "code",
   "execution_count": 13,
   "metadata": {},
   "outputs": [],
   "source": [
    "import pandas as pd\n",
    "import numpy as np\n",
    "import matplotlib.pyplot as plt"
   ]
  },
  {
   "cell_type": "markdown",
   "metadata": {},
   "source": [
    "+ Load the \"TFs_gene_expression_normalized.csv\" dataset, as a matrix $X$, using the `pd.read_csv` function.\n",
    "\n",
    "Each row represents a condition (groups of cells from a given tissues from different patients), and each column represents a gene encoding a transcription factor, and the value $X_{i,j}$ at row $i$ and column $j$ is simply the gene expression of gene $j$ in condition $i$"
   ]
  },
  {
   "cell_type": "code",
   "execution_count": 14,
   "metadata": {},
   "outputs": [
    {
     "name": "stdout",
     "output_type": "stream",
     "text": [
      "(10000, 500)\n"
     ]
    },
    {
     "data": {
      "text/html": [
       "<div>\n",
       "<style scoped>\n",
       "    .dataframe tbody tr th:only-of-type {\n",
       "        vertical-align: middle;\n",
       "    }\n",
       "\n",
       "    .dataframe tbody tr th {\n",
       "        vertical-align: top;\n",
       "    }\n",
       "\n",
       "    .dataframe thead th {\n",
       "        text-align: right;\n",
       "    }\n",
       "</style>\n",
       "<table border=\"1\" class=\"dataframe\">\n",
       "  <thead>\n",
       "    <tr style=\"text-align: right;\">\n",
       "      <th></th>\n",
       "      <th>ZBTB7A</th>\n",
       "      <th>ZNF248</th>\n",
       "      <th>GTF2IRD2</th>\n",
       "      <th>CENPB</th>\n",
       "      <th>ZNF705G</th>\n",
       "      <th>MYCL</th>\n",
       "      <th>HNF4G</th>\n",
       "      <th>ZNF440</th>\n",
       "      <th>ADNP2</th>\n",
       "      <th>PAX5</th>\n",
       "      <th>...</th>\n",
       "      <th>TFE3</th>\n",
       "      <th>PBX4</th>\n",
       "      <th>GMEB1</th>\n",
       "      <th>FOXI3</th>\n",
       "      <th>ZNF704</th>\n",
       "      <th>ZNF773</th>\n",
       "      <th>NFKB1</th>\n",
       "      <th>ZBTB47</th>\n",
       "      <th>SPIB</th>\n",
       "      <th>MYB</th>\n",
       "    </tr>\n",
       "  </thead>\n",
       "  <tbody>\n",
       "    <tr>\n",
       "      <th>GTEX-1F6RS-0226-SM-9MQKO</th>\n",
       "      <td>0.75</td>\n",
       "      <td>0.55</td>\n",
       "      <td>0.65</td>\n",
       "      <td>0.63</td>\n",
       "      <td>0.44</td>\n",
       "      <td>-0.79</td>\n",
       "      <td>-0.41</td>\n",
       "      <td>0.43</td>\n",
       "      <td>0.51</td>\n",
       "      <td>-0.27</td>\n",
       "      <td>...</td>\n",
       "      <td>1.47</td>\n",
       "      <td>0.53</td>\n",
       "      <td>1.14</td>\n",
       "      <td>-0.29</td>\n",
       "      <td>0.68</td>\n",
       "      <td>0.74</td>\n",
       "      <td>1.01</td>\n",
       "      <td>0.58</td>\n",
       "      <td>-0.48</td>\n",
       "      <td>-0.27</td>\n",
       "    </tr>\n",
       "    <tr>\n",
       "      <th>GTEX-1269C-2826-SM-5EQ5O</th>\n",
       "      <td>0.58</td>\n",
       "      <td>0.63</td>\n",
       "      <td>0.02</td>\n",
       "      <td>-0.49</td>\n",
       "      <td>-0.25</td>\n",
       "      <td>-0.83</td>\n",
       "      <td>-0.45</td>\n",
       "      <td>-1.12</td>\n",
       "      <td>0.17</td>\n",
       "      <td>-0.32</td>\n",
       "      <td>...</td>\n",
       "      <td>0.62</td>\n",
       "      <td>-1.03</td>\n",
       "      <td>-0.29</td>\n",
       "      <td>-0.29</td>\n",
       "      <td>1.59</td>\n",
       "      <td>-1.33</td>\n",
       "      <td>0.37</td>\n",
       "      <td>0.53</td>\n",
       "      <td>-0.32</td>\n",
       "      <td>-0.73</td>\n",
       "    </tr>\n",
       "    <tr>\n",
       "      <th>GTEX-14LZ3-0011-R1a-SM-69LP5</th>\n",
       "      <td>-0.90</td>\n",
       "      <td>-0.63</td>\n",
       "      <td>-1.09</td>\n",
       "      <td>0.62</td>\n",
       "      <td>1.62</td>\n",
       "      <td>-0.59</td>\n",
       "      <td>-0.40</td>\n",
       "      <td>-1.47</td>\n",
       "      <td>-1.68</td>\n",
       "      <td>-0.32</td>\n",
       "      <td>...</td>\n",
       "      <td>-2.24</td>\n",
       "      <td>-0.94</td>\n",
       "      <td>-1.91</td>\n",
       "      <td>-0.29</td>\n",
       "      <td>-0.20</td>\n",
       "      <td>-1.80</td>\n",
       "      <td>-1.67</td>\n",
       "      <td>0.47</td>\n",
       "      <td>-0.50</td>\n",
       "      <td>-0.72</td>\n",
       "    </tr>\n",
       "    <tr>\n",
       "      <th>GTEX-17HG3-2926-SM-79ON8</th>\n",
       "      <td>1.23</td>\n",
       "      <td>0.48</td>\n",
       "      <td>-0.94</td>\n",
       "      <td>-0.13</td>\n",
       "      <td>-0.25</td>\n",
       "      <td>-0.42</td>\n",
       "      <td>-0.14</td>\n",
       "      <td>-0.45</td>\n",
       "      <td>-0.49</td>\n",
       "      <td>-0.26</td>\n",
       "      <td>...</td>\n",
       "      <td>-0.06</td>\n",
       "      <td>-0.17</td>\n",
       "      <td>-0.98</td>\n",
       "      <td>0.08</td>\n",
       "      <td>0.10</td>\n",
       "      <td>-0.31</td>\n",
       "      <td>-1.57</td>\n",
       "      <td>0.63</td>\n",
       "      <td>-0.49</td>\n",
       "      <td>-0.49</td>\n",
       "    </tr>\n",
       "    <tr>\n",
       "      <th>GTEX-147F3-0726-SM-5NQ9U</th>\n",
       "      <td>-0.22</td>\n",
       "      <td>-0.42</td>\n",
       "      <td>0.31</td>\n",
       "      <td>0.61</td>\n",
       "      <td>-0.25</td>\n",
       "      <td>0.40</td>\n",
       "      <td>-0.37</td>\n",
       "      <td>0.88</td>\n",
       "      <td>0.86</td>\n",
       "      <td>-0.03</td>\n",
       "      <td>...</td>\n",
       "      <td>0.29</td>\n",
       "      <td>1.07</td>\n",
       "      <td>0.39</td>\n",
       "      <td>-0.29</td>\n",
       "      <td>0.69</td>\n",
       "      <td>0.41</td>\n",
       "      <td>0.21</td>\n",
       "      <td>-0.18</td>\n",
       "      <td>-0.30</td>\n",
       "      <td>0.13</td>\n",
       "    </tr>\n",
       "  </tbody>\n",
       "</table>\n",
       "<p>5 rows × 500 columns</p>\n",
       "</div>"
      ],
      "text/plain": [
       "                              ZBTB7A  ZNF248  GTF2IRD2  CENPB  ZNF705G  MYCL  \\\n",
       "GTEX-1F6RS-0226-SM-9MQKO        0.75    0.55      0.65   0.63     0.44 -0.79   \n",
       "GTEX-1269C-2826-SM-5EQ5O        0.58    0.63      0.02  -0.49    -0.25 -0.83   \n",
       "GTEX-14LZ3-0011-R1a-SM-69LP5   -0.90   -0.63     -1.09   0.62     1.62 -0.59   \n",
       "GTEX-17HG3-2926-SM-79ON8        1.23    0.48     -0.94  -0.13    -0.25 -0.42   \n",
       "GTEX-147F3-0726-SM-5NQ9U       -0.22   -0.42      0.31   0.61    -0.25  0.40   \n",
       "\n",
       "                              HNF4G  ZNF440  ADNP2  PAX5  ...  TFE3  PBX4  \\\n",
       "GTEX-1F6RS-0226-SM-9MQKO      -0.41    0.43   0.51 -0.27  ...  1.47  0.53   \n",
       "GTEX-1269C-2826-SM-5EQ5O      -0.45   -1.12   0.17 -0.32  ...  0.62 -1.03   \n",
       "GTEX-14LZ3-0011-R1a-SM-69LP5  -0.40   -1.47  -1.68 -0.32  ... -2.24 -0.94   \n",
       "GTEX-17HG3-2926-SM-79ON8      -0.14   -0.45  -0.49 -0.26  ... -0.06 -0.17   \n",
       "GTEX-147F3-0726-SM-5NQ9U      -0.37    0.88   0.86 -0.03  ...  0.29  1.07   \n",
       "\n",
       "                              GMEB1  FOXI3  ZNF704  ZNF773  NFKB1  ZBTB47  \\\n",
       "GTEX-1F6RS-0226-SM-9MQKO       1.14  -0.29    0.68    0.74   1.01    0.58   \n",
       "GTEX-1269C-2826-SM-5EQ5O      -0.29  -0.29    1.59   -1.33   0.37    0.53   \n",
       "GTEX-14LZ3-0011-R1a-SM-69LP5  -1.91  -0.29   -0.20   -1.80  -1.67    0.47   \n",
       "GTEX-17HG3-2926-SM-79ON8      -0.98   0.08    0.10   -0.31  -1.57    0.63   \n",
       "GTEX-147F3-0726-SM-5NQ9U       0.39  -0.29    0.69    0.41   0.21   -0.18   \n",
       "\n",
       "                              SPIB   MYB  \n",
       "GTEX-1F6RS-0226-SM-9MQKO     -0.48 -0.27  \n",
       "GTEX-1269C-2826-SM-5EQ5O     -0.32 -0.73  \n",
       "GTEX-14LZ3-0011-R1a-SM-69LP5 -0.50 -0.72  \n",
       "GTEX-17HG3-2926-SM-79ON8     -0.49 -0.49  \n",
       "GTEX-147F3-0726-SM-5NQ9U     -0.30  0.13  \n",
       "\n",
       "[5 rows x 500 columns]"
      ]
     },
     "execution_count": 14,
     "metadata": {},
     "output_type": "execute_result"
    }
   ],
   "source": [
    "X = pd.read_csv(\"TFs_gene_expression_normalized.csv\",index_col=0)\n",
    "print(X.shape)\n",
    "X.head()\n"
   ]
  },
  {
   "cell_type": "markdown",
   "metadata": {},
   "source": [
    "+ In this work we will extract one of the gene expression vectors from a transcription (for example 'ZBTB7A', the so-called \"pokemon\") to form an observations vector $y$, and we will try to model its expression as a linear combination of the expression levels of other transcription factors in matrix $X$."
   ]
  },
  {
   "cell_type": "code",
   "execution_count": 15,
   "metadata": {},
   "outputs": [],
   "source": [
    "y = X[\"ZBTB7A\"]\n",
    "del X[\"ZBTB7A\"]\n"
   ]
  },
  {
   "cell_type": "code",
   "execution_count": 16,
   "metadata": {},
   "outputs": [],
   "source": [
    "X = X.values\n",
    "y = y.values"
   ]
  },
  {
   "cell_type": "markdown",
   "metadata": {},
   "source": [
    "+ Select randomly:\n",
    "    + A fraction $\\delta$ of the rows as training dataset to infer the coefficients\n",
    "    + The remaining fraction $1-\\delta$  of the rows as test set to compute the prediction error\n",
    "    \n",
    "Hint: use the `np.random.shuffle` function to shuffle a list containing the indexes of rows in $X$, and then simply take the first $2/3$ (respectively the last $1/3$) of this vector to build the training set (respectively the test set)."
   ]
  },
  {
   "cell_type": "code",
   "execution_count": 70,
   "metadata": {},
   "outputs": [],
   "source": [
    "index = list(range(X.shape[0]))\n",
    "np.random.shuffle(#write your code)"
   ]
  },
  {
   "cell_type": "code",
   "execution_count": 71,
   "metadata": {},
   "outputs": [],
   "source": [
    "L = len(index)\n",
    "delta = 2/3\n",
    "\n",
    "y_train = y[#write your code]\n",
    "y_test = y[#write your code]\n",
    "\n",
    "X_train = X[#write your code]\n",
    "X_test = X[#write your code]"
   ]
  },
  {
   "cell_type": "code",
   "execution_count": 72,
   "metadata": {},
   "outputs": [
    {
     "data": {
      "text/plain": [
       "((9900, 499), (100, 499), (10000, 499))"
      ]
     },
     "execution_count": 72,
     "metadata": {},
     "output_type": "execute_result"
    }
   ],
   "source": [
    "X_test.shape,X_train.shape,X.shape"
   ]
  },
  {
   "cell_type": "markdown",
   "metadata": {},
   "source": [
    "## Linear Regression \n"
   ]
  },
  {
   "cell_type": "markdown",
   "metadata": {},
   "source": [
    "+ Compute the linear least-square coefficients for the training set "
   ]
  },
  {
   "cell_type": "code",
   "execution_count": 85,
   "metadata": {},
   "outputs": [],
   "source": [
    "c = least_square_coefficients(X_train, y_train)"
   ]
  },
  {
   "cell_type": "markdown",
   "metadata": {},
   "source": [
    "+ Compute the predictions on the training and test sets and plot them with respect to the real observations"
   ]
  },
  {
   "cell_type": "code",
   "execution_count": 86,
   "metadata": {},
   "outputs": [
    {
     "data": {
      "text/plain": [
       "Text(0, 0.5, '$\\\\hat{y}$')"
      ]
     },
     "execution_count": 86,
     "metadata": {},
     "output_type": "execute_result"
    },
    {
     "data": {
      "image/png": "[encoded data removed]",
      "text/plain": [
       "<Figure size 432x288 with 1 Axes>"
      ]
     },
     "metadata": {
      "needs_background": "light"
     },
     "output_type": "display_data"
    }
   ],
   "source": [
    "y_test_pred = #write your code\n",
    "y_train_pred = #write your code\n",
    "\n",
    "plt.plot(y_train, y_train_pred,\"X\",alpha=0.5)\n",
    "plt.plot(y_test,y_test_pred,'.',alpha=0.1)\n",
    "\n",
    "plt.xlabel(\"$y$\")\n",
    "plt.ylabel(\"$\\hat{y}$\")\n"
   ]
  },
  {
   "cell_type": "markdown",
   "metadata": {},
   "source": [
    "Make a function that returns the prediction error: $||X_{test}\\cdot c− y_{test}||_2^2$"
   ]
  },
  {
   "cell_type": "code",
   "execution_count": 87,
   "metadata": {},
   "outputs": [],
   "source": [
    "def error(X,y,c):\n",
    "   #write your code"
   ]
  },
  {
   "cell_type": "code",
   "execution_count": 88,
   "metadata": {},
   "outputs": [
    {
     "data": {
      "text/plain": [
       "(1981580186.1673427, 1043741.6899341312)"
      ]
     },
     "execution_count": 88,
     "metadata": {},
     "output_type": "execute_result"
    }
   ],
   "source": [
    "error(X_test,y_test,c),error(X_train,y_train,c)"
   ]
  },
  {
   "cell_type": "markdown",
   "metadata": {},
   "source": [
    "+ Plot the distribution of coefficients"
   ]
  },
  {
   "cell_type": "code",
   "execution_count": 89,
   "metadata": {},
   "outputs": [
    {
     "data": {
      "text/plain": [
       "(array([  8.,  14.,  40., 333.,  76.,  21.,   3.,   1.,   2.,   1.]),\n",
       " array([-215.30128387, -156.89014096,  -98.47899805,  -40.06785513,\n",
       "          18.34328778,   76.75443069,  135.16557361,  193.57671652,\n",
       "         251.98785944,  310.39900235,  368.81014526]),\n",
       " <BarContainer object of 10 artists>)"
      ]
     },
     "execution_count": 89,
     "metadata": {},
     "output_type": "execute_result"
    },
    {
     "data": {
      "image/png": "[encoded data removed]",
      "text/plain": [
       "<Figure size 432x288 with 1 Axes>"
      ]
     },
     "metadata": {
      "needs_background": "light"
     },
     "output_type": "display_data"
    }
   ],
   "source": [
    "plt.hist(c)"
   ]
  },
  {
   "cell_type": "markdown",
   "metadata": {},
   "source": [
    "## Tikhonov regularization (ridge regression)\n",
    "\n",
    "\n",
    "In some real world cases, solving the least square linear regression problem by minimizing the residuals squared norm $Argmin_c || Xc - y ||^2_2$, may lead to undesirable solutions due to a tendency of amplifying noise.\n",
    "In this context, a regularization term can be included in the to give preference to a particular solution with desirable properties.\n",
    "\n",
    "$$Argmin_c || Xc - y ||^2_2 + ||\\Gamma c||^2_2$$\n",
    "\n",
    "Here $\\Gamma$ is called the Tikhonov regularization matrix (often $\\Gamma = \\alpha I$).\n",
    "\n",
    "+ Calculate the analytical solution for $c$\n"
   ]
  },
  {
   "cell_type": "code",
   "execution_count": null,
   "metadata": {},
   "outputs": [],
   "source": []
  },
  {
   "cell_type": "markdown",
   "metadata": {},
   "source": [
    "+ Replace the matrix $X$ by its SVD and compute the previous analytical solution"
   ]
  },
  {
   "cell_type": "code",
   "execution_count": null,
   "metadata": {},
   "outputs": [],
   "source": [
    "\n"
   ]
  },
  {
   "cell_type": "markdown",
   "metadata": {},
   "source": [
    "+ Make a function that receives as an input observations $y_{train}$ and conditions $X_{train}$ and compute the coefficients $c$ that minimizes\n",
    "\n",
    "$$||X_{train}\\cdot c - y_{train}||_2^2 + ||\\alpha c||_2^2$$"
   ]
  },
  {
   "cell_type": "code",
   "execution_count": 90,
   "metadata": {},
   "outputs": [],
   "source": [
    "def regression_tikhonov(X, y, alpha):\n",
    "    #write your code\n",
    "    \n",
    "def regression_tikhonov_svd(X, y, alpha):\n",
    "    #write your code"
   ]
  },
  {
   "cell_type": "markdown",
   "metadata": {},
   "source": [
    "+ Run the previous study using the Tikhonov regularization for different values of $\\alpha$"
   ]
  },
  {
   "cell_type": "code",
   "execution_count": 91,
   "metadata": {},
   "outputs": [],
   "source": [
    "c = regression_tikhonov(X_train, y_train, alpha=10)"
   ]
  },
  {
   "cell_type": "code",
   "execution_count": 92,
   "metadata": {},
   "outputs": [
    {
     "data": {
      "text/plain": [
       "Text(0, 0.5, '$\\\\hat{y}$')"
      ]
     },
     "execution_count": 92,
     "metadata": {},
     "output_type": "execute_result"
    },
    {
     "data": {
      "image/png": "[encoded data removed]",
      "text/plain": [
       "<Figure size 432x288 with 1 Axes>"
      ]
     },
     "metadata": {
      "needs_background": "light"
     },
     "output_type": "display_data"
    }
   ],
   "source": [
    "y_train_pred = #write your code\n",
    "y_test_pred = #write your code\n",
    "plt.plot(y_train, y_train_pred,\"X\",alpha=0.5)\n",
    "plt.plot(y_test, y_test_pred,\".\",alpha=0.05)\n",
    "plt.xlabel(\"$y$\")\n",
    "plt.ylabel(\"$\\hat{y}$\")"
   ]
  },
  {
   "cell_type": "code",
   "execution_count": 93,
   "metadata": {},
   "outputs": [
    {
     "data": {
      "text/plain": [
       "(966.6567043413049, 2.643525054340168)"
      ]
     },
     "execution_count": 93,
     "metadata": {},
     "output_type": "execute_result"
    }
   ],
   "source": [
    "error(X_test,y_test,c),error(X_train,y_train,c)"
   ]
  },
  {
   "cell_type": "markdown",
   "metadata": {},
   "source": [
    "+ Plot the distribution of coefficients"
   ]
  },
  {
   "cell_type": "code",
   "execution_count": 94,
   "metadata": {},
   "outputs": [
    {
     "data": {
      "text/plain": [
       "(array([  1.,   2.,  13.,  64., 119., 145.,  94.,  43.,  11.,   7.]),\n",
       " array([-0.03475338, -0.0278782 , -0.02100302, -0.01412784, -0.00725266,\n",
       "        -0.00037748,  0.0064977 ,  0.01337288,  0.02024806,  0.02712324,\n",
       "         0.03399842]),\n",
       " <BarContainer object of 10 artists>)"
      ]
     },
     "execution_count": 94,
     "metadata": {},
     "output_type": "execute_result"
    },
    {
     "data": {
      "image/png": "[encoded data removed]",
      "text/plain": [
       "<Figure size 432x288 with 1 Axes>"
      ]
     },
     "metadata": {
      "needs_background": "light"
     },
     "output_type": "display_data"
    }
   ],
   "source": [
    "plt.hist(c)"
   ]
  },
  {
   "cell_type": "markdown",
   "metadata": {},
   "source": [
    "+ In which case does the classic least-squares linear regression fail?\n",
    "\n"
   ]
  },
  {
   "cell_type": "code",
   "execution_count": null,
   "metadata": {},
   "outputs": [],
   "source": []
  },
  {
   "cell_type": "markdown",
   "metadata": {},
   "source": [
    "+ Does Tikhonov regularization solves this problem?\n"
   ]
  },
  {
   "cell_type": "code",
   "execution_count": null,
   "metadata": {},
   "outputs": [],
   "source": []
  },
  {
   "cell_type": "markdown",
   "metadata": {},
   "source": [
    "+ Set a value $\\delta$ that would illustrate this phenomenon\n"
   ]
  },
  {
   "cell_type": "code",
   "execution_count": null,
   "metadata": {},
   "outputs": [],
   "source": []
  },
  {
   "cell_type": "markdown",
   "metadata": {},
   "source": [
    "## Bonus: Lasso Regression\n",
    "+ Read about Lasso Regression, and explain how coefficients $c$ are computed\n",
    "+ Test `scikit-learn` python library Lasso Regression implementation"
   ]
  },
  {
   "cell_type": "code",
   "execution_count": null,
   "metadata": {},
   "outputs": [],
   "source": []
  }
 ],
 "metadata": {
  "kernelspec": {
   "display_name": "Python 3",
   "language": "python",
   "name": "python3"
  },
  "language_info": {
   "codemirror_mode": {
    "name": "ipython",
    "version": 3
   },
   "file_extension": ".py",
   "mimetype": "text/x-python",
   "name": "python",
   "nbconvert_exporter": "python",
   "pygments_lexer": "ipython3",
   "version": "3.7.4"
  }
 },
 "nbformat": 4,
 "nbformat_minor": 2
}
