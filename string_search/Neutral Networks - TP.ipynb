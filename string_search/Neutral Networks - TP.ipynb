{
 "cells": [
  {
   "cell_type": "code",
   "execution_count": 1,
   "metadata": {},
   "outputs": [],
   "source": [
    "%matplotlib inline"
   ]
  },
  {
   "cell_type": "markdown",
   "metadata": {},
   "source": [
    "# Robustness and Evolvability\n",
    "\n",
    "## RNA string\n",
    "Let an RNA strand be modeled as $T$ a string, with alphabet $A = \\{ A, U, C, G\\}$, such that $T_i$ is the $i$-th letter and let $|T| = N$ be the size of $S$.\n",
    "Two nucleic acid polymers of a single RNA string can undergo basepairing interactions through hydrogen bonds (A with U and C with G)\n",
    "These interactions lead the RNA single stranded string to form intricate 2D and 3D structures, and often the secondary and tertiary structures allow the RNA strand to achieve a specific function (its phenotype).\n",
    "Let the RNA secondary structure be denoted as $S$.\n",
    "\n",
    "Different algorithms have been proposed so far, to find a set of pairs $S$ that maximizes the free energy of the RNA string (objective function). \n",
    "In this work we will use the well-known [Vienna algorithm](https://www.researchgate.net/publication/51828551_ViennaRNA_package_20) to infer the secondary structure of an RNA string.\n",
    "Moreover, the similarity between two strings is assessed here using distance measures such as the Levenshtein distance.\n",
    "\n",
    "\n",
    "\n",
    "A neutral network is a set of genes all  that have equivalent function or fitness.[1] Each node represents a gene sequence and each line represents the mutation connecting two sequences. Neutral networks can be thought of as high, flat plateaus in a fitness landscape. During neutral evolution, genes can randomly move through neutral networks and traverse regions of sequence space which may have consequences for robustness and evolvability.\n",
    "\n",
    "Interestingly, two RNA strings that are very similar (related by point mutations) are likely to have equivalent functions (secondary structures/MFE) and thus replacing one string by the other would not imply a penalty in terms of fitness: the system is __robust__ to point mutations.\n",
    "Let us model be the set of RNA strings as $V$ a set of nodes, and let us consider that $E$ is a set of edges, such that  $E \\subseteq V^2$, and for all $e = {v_i, v_j}\\in E$, $dist(v_i,v_j)=1)$ where $dist$ denotes the Levenshtein distance between strings $v_i$ and $v_j$, then $G=\\rangle V,E\\langle$ is a graph of \"genotypes\" (or RNA strings) and an induced subgraph containing all the nodes leading to the same phenotype would be a [neutral network](https://www.wikiwand.com/en/Neutral_network_(evolution)).\n",
    "In this practical work we will study the importance of [neutral networks](https://www.wikiwand.com/en/Neutral_network_(evolution)) on living organisms' evolvability, taking RNAs and their secondary structures as case study, as in [Wagner 2007](https://www.ncbi.nlm.nih.gov/pmc/articles/PMC2562401/).\n",
    "\n",
    "\n",
    "__Questions:__\n",
    "+ Program a mutation function that takes a sequence as an input, and apply one of the following mutations:\n",
    "    + substitution: pick one random nucleotide and substitute it\n",
    "    + deletion: pick one random nucleotide and  delete it\n",
    "    + insertion: pick one random nucleotide and insert a new random nucleotide next to it\n",
    "\n",
    "Let us assume that each nucleotide has the same probability to be chosen. The function should also receive the probabilities to undergo each kind of mutation.\n",
    "\n",
    "\n",
    "+ Use the ViennaRNA python package (`import RNA`) to compute the secondary structures of the sequences loaded in the previous section.\n",
    "    + Use the `fc = RNA.fold_compound(seq)` function to create an RNA fold object for sequence `seq`\n",
    "    + Then use the `fc.mfe()` method to find the secondary structure that optimizes the Minimal Free Energy (MFE). This methods returns a tuple containing the structure the MFE itself.\n",
    "    + Take a look at the structure, how are the bonds represented?\n",
    "\n",
    "The secondary structure is represented as a string, therefore the Levenshtein distance can be used to compare the secondary structures of the RNA strings as in the previous section.\n",
    "\n",
    "+ Write a function to load the RNA secondary structure as a `NetworkX` graph, and make another function to plot it (hint: use the `nx.kamada_kawai_layout` function to define a suitable layout). Are such graphs planar?\n",
    "+ Write a function that explores the RNA sequence space as well as the corresponding secondary structure space, starting from a single ancestral sequence $T$. The exploration should run for a given number of iterations (set as a parameter), and at each iteration:\n",
    "\n",
    "    + Generate a mutant $T' \\leftarrow Mutate(T)$\n",
    "    + Compute secondary structure $S'$ (here $S'$ is a string)\n",
    "    + The Levenshtein distance $d(T',T)$ between the new sequence and the ancestral one is computed\n",
    "    + The Levenshtein distance $d(S',S)$ between the new RNA's secondary structure and the ancestral's one is computed\n",
    "    + The MFE difference w.r.t. to the ancestral MFE is computed\n",
    "    + If the distance in terms of phenotype is lower than $\\tau$, then we assume that this new instance belongs to the \"neutral network\" of the ancestral string:\n",
    "        + Store the computed values (as well as the sequences) in a \"neutral network\" list\n",
    "        + If you want to explore the neutral network, then update: $T' \\leftarrow Mutate(T)$\n",
    "    + Otherwise the instance does not belongs to the neutral network.\n",
    "        + Store the computed values (as well as the sequences)  in a \"neighborhood\" list\n",
    "\n",
    "+ Pick one sequence from the miRNA database, explore only the chosen string's neighborhood:\n",
    "    + Run the code for $1\\times 10^5$ iterations, how many sequences fall in the neutral network?\n",
    "    + How many kinds of \"phenotypes\" can you reach from the ancestral sequence?\n",
    "    + Represent the neighborhood and the neutral network of the ancestral string (hint: check the `motifs` submodule of `BioPython`)\n",
    "    + Plot the neutral network and the neighborhood MFE and structure distance histograms\n",
    "    + Represent some secondary structures as graphs\n",
    "+ Run the same study but now allowing jumps in the neutral network\n",
    "+ What do you notice? Conclude\n",
    "+ Another important element is the MFE, add a constraint on the MFE to define the neutral network, and run the study again."
   ]
  },
  {
   "cell_type": "code",
   "execution_count": null,
   "metadata": {},
   "outputs": [],
   "source": []
  }
 ],
 "metadata": {
  "kernelspec": {
   "display_name": "Python 3",
   "language": "python",
   "name": "python3"
  },
  "language_info": {
   "codemirror_mode": {
    "name": "ipython",
    "version": 3
   },
   "file_extension": ".py",
   "mimetype": "text/x-python",
   "name": "python",
   "nbconvert_exporter": "python",
   "pygments_lexer": "ipython3",
   "version": "3.7.4"
  }
 },
 "nbformat": 4,
 "nbformat_minor": 2
}
