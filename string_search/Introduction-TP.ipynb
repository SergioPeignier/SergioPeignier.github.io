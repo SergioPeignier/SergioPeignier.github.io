{
 "cells": [
  {
   "cell_type": "code",
   "execution_count": 1,
   "metadata": {},
   "outputs": [],
   "source": [
    "%matplotlib inline"
   ]
  },
  {
   "cell_type": "markdown",
   "metadata": {},
   "source": [
    "# String-searching algorithms - 4 BIM\n",
    "### Sergio Peignier (sergio.peignier@insa-lyon.fr)\n",
    "+ Let $A=\\{a_1,a_2,...\\}$ be an alphabet of letters\n",
    "+ Let  $T=(t_1,t_2,... \\; | \\;\\forall t_i \\in A)$ be a string with size $|T|$\n",
    "+ Let $S=(s_1,s_2,... \\; | \\;\\forall s_i \\in A)$ be a string with size $|M|$\n",
    "+ Let $S[i] = s_i$ being the letter at position $i$ in string $S$\n",
    "+ Let $S[i,j] = (s_i,...s_j)$ being the substring of $S$ between positions $i$ and $j$\n",
    "+ Let $S[1,j] $ being a prefix of $S$\n",
    "+ Let $S[j,n] $ being a suffix of $S$"
   ]
  },
  {
   "cell_type": "markdown",
   "metadata": {},
   "source": [
    "# 1) Impact of alphabet size and sequence length on similarity\n",
    "+ Let $T$ and $S$ be two random strings, let $A$ be their alphabet, and let $|T| = |S|$.\n",
    "+ Let $d(T,S) = |\\{i \\quad \\forall i \\in \\{1,..., |S|\\} \\; | \\; T[i]\\neq S[i])$ be the Hamming distance between $T$ and $S$, i.e., number of positions where both strings differ.  \n",
    "+ Compute the probability that $d(T,S)=k$, given that $T$ and $S$ are two random strings, assuming that the probabilities of drawing the string letters are $i.i.d.$, and assuming equiprobability \n",
    "+ Plot this probability as a function of $|T|$ and $|A|$\n",
    "+ Write down your conclusions and interpretation"
   ]
  },
  {
   "cell_type": "code",
   "execution_count": null,
   "metadata": {},
   "outputs": [],
   "source": []
  },
  {
   "cell_type": "markdown",
   "metadata": {},
   "source": [
    "# 2) String Search Problem Statement - Naive algorithm\n",
    "\n",
    "Given $S$ and $T$ being two strings as defined previously, and assuming $|S| < |T|$\n",
    "\n",
    "**Problem**: is $S$ a sub-string of $T$?\n",
    "\n",
    "+ Write down the mathematical formulation of this problem\n",
    "+ Write another possible problem derived from the aforementioned one\n",
    "\n",
    "The following naive Python code (next box) tackles this problem, and returns the location of the first instance of $S$ in $T$\n",
    "\n",
    "+ Compute its complexity (assuming $n = |S|$ and $m = |T|$)\n",
    "+ Write a function to generate random DNA sequences with a given length. \n",
    "+ Estimate the time taken by the previous algorithm to search a string $S$ in a document $T$, as a function of the sizes $n$ and $m$.\n",
    "+ Compare the algorithm's real behavior w.r.t. its complexity, can you write a new algorithm, that would deliver worse results? \n",
    "\n",
    "+ Let us consider the following simple procedure to compare two large strings $T_1$ and $T_2$:\n",
    "    + Split $T_1$ in $N$ small fragments of size $n$\n",
    "    + Search each one of the $N$ fragments of $T_1$ in $T_2$\n",
    "\n",
    "Given that the human genome contains $~ 3 \\times 10^9$ bps, and the dog genome contains $~ 2.5 \\times 10^9$ bps, and taking $n=50$. How many operations does this procedure need to execute? Evaluate the time taken by a single comparison operation, how long would it take to compare both genomes with this simple procedure?"
   ]
  },
  {
   "cell_type": "code",
   "execution_count": 54,
   "metadata": {},
   "outputs": [],
   "source": [
    "def naive_string_search(T,S):\n",
    "    for i in range(len(T) - len(S)):\n",
    "        j = 0\n",
    "        while j < len(S) and T[i+j] == S[j]:\n",
    "            j += 1\n",
    "        if j == len(S):\n",
    "            return(i)"
   ]
  },
  {
   "cell_type": "code",
   "execution_count": 56,
   "metadata": {},
   "outputs": [
    {
     "data": {
      "text/plain": [
       "23"
      ]
     },
     "execution_count": 56,
     "metadata": {},
     "output_type": "execute_result"
    }
   ],
   "source": [
    "naive_string_search(\"Dans l'herbe noire Les Kobolds vont. Le vent profond Pleure, on veut croire.\",\"Kobold\")"
   ]
  },
  {
   "cell_type": "code",
   "execution_count": 68,
   "metadata": {},
   "outputs": [
    {
     "data": {
      "text/plain": [
       "<seaborn.axisgrid.FacetGrid at 0x7f8cd120e750>"
      ]
     },
     "execution_count": 68,
     "metadata": {},
     "output_type": "execute_result"
    },
    {
     "data": {
      "image/png": "[encoded data removed]",
      "text/plain": [
       "<Figure size 1147.5x360 with 3 Axes>"
      ]
     },
     "metadata": {
      "needs_background": "light"
     },
     "output_type": "display_data"
    }
   ],
   "source": [
    "# To plot the results you can use the following seeaborn function (you should provide \"results\" a dataframe containing n, m and the time as columns\n",
    "sns.relplot(\n",
    "    data=results, x=\"n\", y=\"time\",\n",
    "    col=\"m\", hue=\"m\",\n",
    "    kind=\"line\"\n",
    ")"
   ]
  },
  {
   "cell_type": "markdown",
   "metadata": {},
   "source": [
    "# 2) String Search Problem Statement - Indexation\n",
    "## Searching in a dictionary\n",
    "+ The dictionary analogy: Let $L=(w_1,w_2,\\dots)$ be an ordered list of words (strings), a sort of dictionary\n",
    "+ The algorithm below allows to search a word in a dictionary efficiently\n",
    "+ Compute the complexity of searching a sub-string within a dictionary"
   ]
  },
  {
   "cell_type": "code",
   "execution_count": 107,
   "metadata": {},
   "outputs": [],
   "source": [
    "def dichotomic_search(ordered_list, word, start, stop): \n",
    "    search_position = (start + stop) // 2\n",
    "    if start <= stop:\n",
    "        if ordered_list[search_position] == word: \n",
    "            return search_position \n",
    "        # The element is smaller, then it is in the left part \n",
    "        elif ordered_list[search_position] > word: \n",
    "            return dichotomic_search(ordered_list, word, start, search_position - 1) \n",
    "        else: \n",
    "            return dichotomic_search(ordered_list, word, search_position + 1, stop) \n",
    "    return -1\n"
   ]
  },
  {
   "cell_type": "code",
   "execution_count": 110,
   "metadata": {},
   "outputs": [
    {
     "data": {
      "text/plain": [
       "4"
      ]
     },
     "execution_count": 110,
     "metadata": {},
     "output_type": "execute_result"
    }
   ],
   "source": [
    "dichotomy_search(\"kobols\",[\"abcs\",\"csvsds\",\"dsfsdf\",\"efr\",\"kobols\",\"y\",\"zer\"])"
   ]
  },
  {
   "cell_type": "markdown",
   "metadata": {},
   "source": [
    "## Storing a string as a dictionary\n",
    "+ Let us consider the following naive procedure to detect a substring $S$ in a string $T$ using the dichotomy search (here $T$ could be a genome)\n",
    "    + Extract all the possible substrings contained in the string $T$\n",
    "    + Sort them and store them in a dictionary\n",
    "    + Search the query substring within thee dictionary\n",
    "+ Who many possible substrings does the string $T$ contains?\n",
    "+ Do we need to store all possible substrings?\n",
    "+ In fact, only storing the suffixes of $T$ is sufficient. Why? How many suffixes are there? \n",
    "+ Write a function that extracts all the suffixes of a string $T$, sorts them and returns an ordered list\n",
    "+ Modify the previous code, in order to also output the list of suffixes starting indexes, a.k.a. __suffix table__\n",
    "+ Determine the complexity of the suffix table construction (time) and storage (space)\n",
    "+ Compute the complexity of searching a substring in such a table\n",
    "+ Write a function that searches a substring a in string stored as a suffix table\n",
    "+ Download a virus genome, load it, index it and launch some simple queries (you can load the sequence using the __SeqIO.parse__ function of the BioPython package"
   ]
  },
  {
   "cell_type": "code",
   "execution_count": null,
   "metadata": {},
   "outputs": [],
   "source": []
  }
 ],
 "metadata": {
  "kernelspec": {
   "display_name": "Python 3",
   "language": "python",
   "name": "python3"
  },
  "language_info": {
   "codemirror_mode": {
    "name": "ipython",
    "version": 3
   },
   "file_extension": ".py",
   "mimetype": "text/x-python",
   "name": "python",
   "nbconvert_exporter": "python",
   "pygments_lexer": "ipython3",
   "version": "3.7.4"
  }
 },
 "nbformat": 4,
 "nbformat_minor": 2
}
