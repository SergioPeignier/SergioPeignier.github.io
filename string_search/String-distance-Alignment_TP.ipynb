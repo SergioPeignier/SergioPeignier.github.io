{
 "cells": [
  {
   "cell_type": "code",
   "execution_count": 1,
   "metadata": {},
   "outputs": [],
   "source": [
    "%matplotlib inline\n",
    "import matplotlib.pyplot as plt\n",
    "import numpy as np\n",
    "import seaborn as sns"
   ]
  },
  {
   "cell_type": "markdown",
   "metadata": {},
   "source": [
    "# Comparing distances\n",
    "## 1) String distances\n",
    "### 1.1) Hamming distance\n",
    "Let $S$ and $T$ be two strings of same length. \n",
    "The Hamming distance between these two strings is simply $d(T,S) = |\\{i \\quad \\forall i \\in \\{1,..., |S|\\} \\; | \\; T[i]\\neq S[i])$.\n",
    "This distance represent the number of positions where both strings differ, or in other words, the minimum number of substitutions (e.g., errors) that changed one string into the other.\n",
    "\n",
    "__Questions:__\n",
    "+ Write a program that computes the Hamming distance between two strings\n",
    "+ Compute its complexity\n",
    "+ Describe the limits of this method? Propose an example to explain your point"
   ]
  },
  {
   "cell_type": "code",
   "execution_count": 2,
   "metadata": {},
   "outputs": [],
   "source": [
    "def hamming_distance(S,T):\n",
    "    \"\"\"\n",
    "    Hamming distance\n",
    "    \n",
    "    Args:\n",
    "        S (str): first string\n",
    "        T (str): second string\n",
    "\n",
    "    Returns:\n",
    "        d (int): distance\n",
    "    \"\"\"\n",
    "\n",
    "    #################\n",
    "    # Write your code\n",
    "    #################\n",
    "    \n",
    "    return 0"
   ]
  },
  {
   "cell_type": "markdown",
   "metadata": {},
   "source": [
    "+ Test your code with the following example"
   ]
  },
  {
   "cell_type": "code",
   "execution_count": 3,
   "metadata": {},
   "outputs": [
    {
     "name": "stdout",
     "output_type": "stream",
     "text": [
      "Wrong answer!\n"
     ]
    }
   ],
   "source": [
    "result = hamming_distance(\"dans l'herbe noire les kobolds vont\",\n",
    "                          \"dans l'herbr noird lzs kobolds vont\")\n",
    "if result == 3:\n",
    "    print(\"Well done!\")\n",
    "else:\n",
    "    print(\"Wrong answer!\")"
   ]
  },
  {
   "cell_type": "code",
   "execution_count": 4,
   "metadata": {},
   "outputs": [
    {
     "name": "stdout",
     "output_type": "stream",
     "text": [
      "Wrong answer!\n"
     ]
    }
   ],
   "source": [
    "result = hamming_distance(\"dans l'herbe noire les kobolds vont \",\n",
    "                          \" dans l'herbe noire les kobolds vont\")\n",
    "if result == 36:\n",
    "    print(\"Well done!\")\n",
    "else:\n",
    "    print(\"Wrong answer!\")"
   ]
  },
  {
   "cell_type": "markdown",
   "metadata": {},
   "source": [
    "### 1.2) Levenshtein distance\n",
    "In order to compare strings that have different lengths, or strings that undergo other kinds of modification (e.g., insertions, deletionss), the Levenshtein distance can be used.\n",
    "\n",
    "Let $S$ and $T$ be two strings with possibly $|S| \\neq |T|$, and let $\\mathbb{1}_{S[i] \\neq T[j]}$ be the indicator function that is equal to one when $S[i] \\neq T[j]$ and 0 otherwise.\n",
    "\n",
    "Let $\\mathcal{L}_{S,T}(i,j)$ be the Levenshtein distance between $S[1,i]$ (i.e., the first $i$ characters of $S$) and $T[1,j]$ (i.e., the first $j$ characters of $T$):\n",
    "\n",
    "+ if $min(i,j)=0$: $\\quad \\mathcal{L}_{S,T}(i,j)= max(i,j)$ \n",
    "\n",
    "\n",
    "+ Otherwise:\n",
    "\n",
    "$$\n",
    "    \\mathcal{L}_{S,T}(i,j)= min\n",
    "\\begin{cases}\n",
    "    \\mathcal{L}_{S,T}(i-1,j) + 1\\\\\n",
    "    \\mathcal{L}_{S,T}(i,j-1) + 1\\\\\n",
    "    \\mathcal{L}_{S,T}(i-1,j-1) + \\mathbb{1}_{S[i] \\neq T[j]}\n",
    "\\end{cases}\n",
    "$$\n",
    "\n",
    "The Wagner–Fischer algorithm, can be used to compute the Levenshtein distance between $S$ and $T$. \n",
    "This dynamic programming algorithm, stores a matrix with the Levenshtein distances between all prefixes of both strings.\n",
    "The last value of the matrix (at row $|S|$ and column $|T|$) stores the Levenshtein distance between both strings.\n",
    "\n",
    "__Questions:__\n",
    "\n",
    "+ Compute the complexity of the algorithm that aims at computing this function\n",
    "+ Program this function in Python.\n",
    "+ Compare two strings, and represent the matrix using `sns.heatmap`"
   ]
  },
  {
   "cell_type": "code",
   "execution_count": 11,
   "metadata": {},
   "outputs": [],
   "source": [
    "def Levenshtein_distance(S,T,return_matrix=False):\n",
    "    \"\"\"\n",
    "    Levenshtein distance\n",
    "\n",
    "    Args:\n",
    "        S (str): first string\n",
    "        S (str): second string\n",
    "        return_matrix (bool): If true return matrix, else return distance\n",
    "\n",
    "    Returns:\n",
    "        F (np.array, np.array): If return_matrix is true F is the score matrix \n",
    "        S_aligned, T_aligned (str,str): If return_matrix is false return only the distance\n",
    "        \n",
    "    \"\"\"\n",
    "    L = np.zeros((len(S)+1,len(T)+1))\n",
    "    \n",
    "    #################\n",
    "    # Write your code\n",
    "    #################\n",
    "    if return_matrix:\n",
    "        return L\n",
    "    else:\n",
    "        return L[-1,-1]\n",
    "    return 0"
   ]
  },
  {
   "cell_type": "markdown",
   "metadata": {},
   "source": [
    "+ Test your code"
   ]
  },
  {
   "cell_type": "code",
   "execution_count": 12,
   "metadata": {},
   "outputs": [
    {
     "name": "stdout",
     "output_type": "stream",
     "text": [
      "Wrong answer!\n"
     ]
    }
   ],
   "source": [
    "result = Levenshtein_distance(\"dans l'herbe noire les kobolds vont \",\n",
    "                             \" dans l'herbe noire les kobolds vont le vent profond\")\n",
    "if result == 16:\n",
    "    print(\"Well done!\")\n",
    "else:\n",
    "    print(\"Wrong answer!\")"
   ]
  },
  {
   "cell_type": "code",
   "execution_count": 7,
   "metadata": {},
   "outputs": [],
   "source": [
    "L = Levenshtein_distance(\"dans l'herbe noire les kobolds vont \",\n",
    "                        \" dans l'herbe noire les kobolds vont le vent profond\",\n",
    "                        return_matrix=True)\n"
   ]
  },
  {
   "cell_type": "code",
   "execution_count": null,
   "metadata": {},
   "outputs": [],
   "source": [
    "sns.heatmap(L)"
   ]
  },
  {
   "cell_type": "markdown",
   "metadata": {},
   "source": [
    "You should see this if you execute the cell above"
   ]
  },
  {
   "cell_type": "code",
   "execution_count": 31,
   "metadata": {},
   "outputs": [
    {
     "data": {
      "text/plain": [
       "<matplotlib.axes._subplots.AxesSubplot at 0x7fafa8bfb850>"
      ]
     },
     "execution_count": 31,
     "metadata": {},
     "output_type": "execute_result"
    },
    {
     "data": {
      "image/png": "[encoded data removed]",
      "text/plain": [
       "<Figure size 432x288 with 2 Axes>"
      ]
     },
     "metadata": {
      "needs_background": "light"
     },
     "output_type": "display_data"
    }
   ],
   "source": [
    "# Do not execute this cell"
   ]
  },
  {
   "cell_type": "markdown",
   "metadata": {},
   "source": [
    "## 3) Alignment\n",
    "\n",
    "### 3.1) Needleman-Wunsch - Global Alignment\n",
    "\n",
    "This algorithm performs a global sequence alignment, i.e., it finds the best alignment over the entire length of two sequences $S$ and $T$. Intuitively the algorithm seeks an alignment that maximizes the number of element-to-element matches.\n",
    "This dynamic programming algorithm is similar to the Wagner–Fischer algorithm.\n",
    "The underlying scoring system defined by Needleman and Wunsch is equal to 1 for matches,  -1 for mismatches or indels.\n",
    "Let $F_{S,T}(i,j)$ be the total number of matches scoring between the first $i$ elements of $S$ and the first $j$ elements of $T$:\n",
    "\n",
    "+ If $i=0$ or $j=0$ $F_{S,T}(i,j) = -max(i,j)$ \n",
    "\n",
    "+ Otherwise:\n",
    "\n",
    "$$\n",
    "        \\mathcal{F}_{S,T}(i,j)= max\n",
    "\\begin{cases}\n",
    "    \\mathcal{F}_{S,T}(i-1,j) - 1\\\\\n",
    "    \\mathcal{F}_{S,T}(i,j-1) - 1\\\\\n",
    "    \\mathcal{F}_{S,T}(i-1,j-1) - \\mathbb{1}_{S[i] \\neq T[j]} + \\mathbb{1}_{S[i] = T[j]}\n",
    "\\end{cases}\n",
    "$$\n",
    "\n",
    "+ Record the values of $F_{S,T}(i,j)$ in a matrix\n",
    "\n",
    "+ For each element in the matrix, record the decision that was made to reach this value: \n",
    "    + $\\mathcal{F}_{S,T}(i-1,j)$\n",
    "    + $\\mathcal{F}_{S,T}(i,j-1)$\n",
    "    + or $\\mathcal{F}_{S,T}(i-1,j-1)$).  \n",
    "\n",
    "+ In order to find the best alignment, \n",
    "\n",
    "+ To find the best alignment we start from the last element of the matrix (at row $|S|$ and column $|T|$) and we move backwards until we reach the first one (at row $0$ and column $0$). At each position we check which decision leaded to the actual solution (many solutions are sometimes possible, in this case you can keep all of them).\n",
    "    + If the decision was $F_{S,T}(i-1,j)$ then it means that $S[i]$ is aligned with a gap\n",
    "    + If the decision was $F_{S,T}(i,j-1)$ then $T[j]$ is aligned with a gap\n",
    "    + If it was $F_{S,T}(i-1,j-1)$ then $S[i]$ and $T[j]$ are aligned. You can use the records you made in the previous step or recompute the possibilities ... both are possible.\n",
    "\\end{itemize}\n",
    "\n",
    "__Questions:__\n",
    "+ Program the Needleman-Wunsch algorithm, the function takes two strings as input and should return the decisions matrix, as well as the scores matrix.\n",
    "+ Program a function that receives the strings as well as the decision function and returns an aligned version of both strings (deleted characters being replaced by \"_\")\n",
    "+ Compute the complexity of this algorithm\n"
   ]
  },
  {
   "cell_type": "code",
   "execution_count": 13,
   "metadata": {},
   "outputs": [],
   "source": [
    "import numpy as np\n",
    "def NWmatrix2strings(S,T,D):\n",
    "    \"\"\"\n",
    "    Needleman-Wunch matrix to aligned strings\n",
    "\n",
    "    Args:\n",
    "        S (str): first string\n",
    "        T (str): second string\n",
    "        D (np.array or list of lists): Decision matrix\n",
    "\n",
    "    Returns:\n",
    "        S_aligned (str): first string aligned\n",
    "        T_aligned (str): second string aligned\n",
    "        \n",
    "    \"\"\"\n",
    "    S_aligned = \"\"\n",
    "    T_aligned = \"\"\n",
    "    \n",
    "    #################\n",
    "    # Write your code\n",
    "    #################\n",
    "    \n",
    "    return(S_aligned,T_aligned)\n",
    "    \n",
    "def Needleman_Wunch(S,T,return_matrix=False):\n",
    "    \"\"\"\n",
    "    Needleman-Wunch \n",
    "\n",
    "    Args:\n",
    "        S (str): first string\n",
    "        T (str): second string\n",
    "        return_matrix (bool): If true return matrix, else return the aligned strings\n",
    "\n",
    "    Returns:\n",
    "        F,D (np.array, np.array): If return_matrix is true F is the score matrix and D the decision matrix\n",
    "        S_aligned, T_aligned (str,str): If return_matrix is false first and second strings aligned\n",
    "        \n",
    "    \"\"\"\n",
    "    T_WITH_GAP = 1\n",
    "    S_WITH_GAP = -1\n",
    "    S_T_ALIGN = 0\n",
    "    decision = [T_WITH_GAP,S_WITH_GAP,S_T_ALIGN]\n",
    "    F = np.zeros((len(S)+1,len(T)+1))\n",
    "    D = np.zeros((len(S)+1,len(T)+1))\n",
    "    \n",
    "    #################\n",
    "    # Write your code\n",
    "    #################\n",
    "    \n",
    "    if return_matrix:\n",
    "        return F,D\n",
    "    else:\n",
    "        return NWmatrix2strings(S,T,D)\n",
    " "
   ]
  },
  {
   "cell_type": "code",
   "execution_count": 14,
   "metadata": {},
   "outputs": [
    {
     "name": "stdout",
     "output_type": "stream",
     "text": [
      "wrong result\n"
     ]
    }
   ],
   "source": [
    "S = \"dans l'herbe noire les gros kobolds vont \"\n",
    "T = \" dans l'herbe noire les kobolds vont le vent profond\"\n",
    "S_,T_ = Needleman_Wunch(S,T,False)\n",
    "if S_ == \"_dans l'herbe noire les gros kobolds vont _______________\" and T_ == \" dans l'herbe noire les _____kobolds vont le vent profond\":\n",
    "    print(\"well done!\")\n",
    "else:\n",
    "    print(\"wrong result\")"
   ]
  },
  {
   "cell_type": "code",
   "execution_count": 15,
   "metadata": {},
   "outputs": [],
   "source": [
    "F,D = Needleman_Wunch(S,T,True)\n"
   ]
  },
  {
   "cell_type": "code",
   "execution_count": null,
   "metadata": {},
   "outputs": [],
   "source": []
  },
  {
   "cell_type": "markdown",
   "metadata": {},
   "source": [
    "Matrix F and matrix D should look like this"
   ]
  },
  {
   "cell_type": "code",
   "execution_count": 35,
   "metadata": {},
   "outputs": [
    {
     "data": {
      "text/plain": [
       "<matplotlib.axes._subplots.AxesSubplot at 0x7faf6a560a90>"
      ]
     },
     "execution_count": 35,
     "metadata": {},
     "output_type": "execute_result"
    },
    {
     "data": {
      "image/png": "[encoded data removed]",
      "text/plain": [
       "<Figure size 432x288 with 2 Axes>"
      ]
     },
     "metadata": {
      "needs_background": "light"
     },
     "output_type": "display_data"
    }
   ],
   "source": [
    "# Do not execute this cell"
   ]
  },
  {
   "cell_type": "code",
   "execution_count": 36,
   "metadata": {},
   "outputs": [
    {
     "data": {
      "text/plain": [
       "<matplotlib.axes._subplots.AxesSubplot at 0x7faf3921ae50>"
      ]
     },
     "execution_count": 36,
     "metadata": {},
     "output_type": "execute_result"
    },
    {
     "data": {
      "image/png": "[encoded data removed]",
      "text/plain": [
       "<Figure size 432x288 with 2 Axes>"
      ]
     },
     "metadata": {
      "needs_background": "light"
     },
     "output_type": "display_data"
    }
   ],
   "source": [
    "# Do not execute this cell"
   ]
  },
  {
   "cell_type": "markdown",
   "metadata": {},
   "source": [
    "### 3.2) Smith-Waterman - local Alignment\n",
    "\n",
    "\n",
    "Smith-Waterman algorithm performs local sequence alignment, i.e., it finds alignments shorter than the entire sequences.\n",
    "This kind of alignments is particularly useful when we compare two sequences that are very different, but that may share some local regions with high similarity.\n",
    "The Smith-Waterman algorithm is very similar to the Needleman-Wunsch method.\n",
    "\n",
    "\n",
    "+ If $i=0$ or $j=0$ $F_{S,T}(i,j) = 0$ \n",
    "\n",
    "+ Otherwise:\n",
    "\n",
    "$$\n",
    "        \\mathcal{F}_{S,T}(i,j)= max\n",
    "            \\begin{cases}\n",
    "                \\mathcal{F}_{S,T}(i-1,j) - 1\\\\\n",
    "                \\mathcal{F}_{S,T}(i,j-1) - 1\\\\\n",
    "                \\mathcal{F}_{S,T}(i-1,j-1) - \\mathbb{1}_{S[i] \\neq T[j]} + \\mathbb{1}_{S[i] = T[j]}\\\\\n",
    "                0\n",
    "            \\end{cases}\n",
    "$$\n",
    "\n",
    "Moreover, instead of starting at position $|S|$ and $|T|$ to traceback the alignment, one should start at the maximal position in the matrix. And the traceback stops as soon as we reach a 0.\n",
    "\n",
    "__Questions:__\n",
    "+ Explain the reasons behind the difference between both methods\n",
    "+ Program the Smith-Waterman algorithm, the function should take two strings as input and should return the decisions matrix, as well as the scores matrix\n",
    "+ Program a function that receives the strings as well as the decision and the score matrices and returns an aligned version of both strings (deleted characters being replaced by \"_\")\n",
    "+ Compute the complexity of this algorithm\n"
   ]
  },
  {
   "cell_type": "code",
   "execution_count": 19,
   "metadata": {},
   "outputs": [],
   "source": [
    "def SWmatrix2strings(S,T,D,F):\n",
    "    \"\"\"\n",
    "    Smith-Waterman matrix to aligned strings\n",
    "\n",
    "    Args:\n",
    "        S (str): first string\n",
    "        T (str): second string\n",
    "        D (np.array or list of lists): Decision matrix\n",
    "        F (np.array or list of lists): Scores matrix\n",
    "\n",
    "    Returns:\n",
    "        S_aligned (str): first string aligned\n",
    "        T_aligned (str): second string aligned\n",
    "        \n",
    "    \"\"\"    \n",
    "    S_aligned = \"\"\n",
    "    T_aligned = \"\"\n",
    "    #################\n",
    "    # Write your code\n",
    "    #################\n",
    "    \n",
    "    return(S_aligned,T_aligned)\n",
    "\n",
    "def Smith_Waterman(S,T,return_matrix=False):\n",
    "    \"\"\"\n",
    "    Needleman-Wunch \n",
    "\n",
    "    Args:\n",
    "        S (str): first string\n",
    "        S (str): second string\n",
    "        return_matrix (bool): If true return matrix, else return the aligned strings\n",
    "\n",
    "    Returns:\n",
    "        F,D (np.array, np.array): If return_matrix is true F is the score matrix and D the decision matrix\n",
    "        S_aligned, T_aligned (str,str): If return_matrix is false first and second strings aligned\n",
    "        \n",
    "    \"\"\"\n",
    "    T_WITH_GAP = 1\n",
    "    S_WITH_GAP = -1\n",
    "    S_T_ALIGN = 0\n",
    "    NO_ALIGN = 2\n",
    "    decision = [T_WITH_GAP,S_WITH_GAP,S_T_ALIGN,NO_ALIGN]\n",
    "    F = np.zeros((len(S)+1,len(T)+1))\n",
    "    D = np.zeros((len(S)+1,len(T)+1))\n",
    "    \n",
    "    #################\n",
    "    # Write your code\n",
    "    #################\n",
    "    \n",
    "    if return_matrix:\n",
    "        return F,D\n",
    "    else:\n",
    "        return NWmatrix2strings(S,T,D,F)"
   ]
  },
  {
   "cell_type": "code",
   "execution_count": 17,
   "metadata": {},
   "outputs": [
    {
     "name": "stdout",
     "output_type": "stream",
     "text": [
      "wrong answer\n"
     ]
    }
   ],
   "source": [
    "S = \"un buisson gifle l'oeil au passant. dans l'herbe noir(e les gros kobolds vont \"\n",
    "T = \" dans l'herbe noire les kobolds vont le vent profond pleure on veut croire\"\n",
    "S_,T_ = Smith_Waterman(S,T,False)\n",
    "if S_ == \" dans l'herbe noir(e les gros kobolds vont \" and T_ == \" dans l'herbe noir_e les _____kobolds vont \":\n",
    "    print(\"well done!\")\n",
    "else:\n",
    "    print(\"wrong answer\")"
   ]
  },
  {
   "cell_type": "code",
   "execution_count": 18,
   "metadata": {},
   "outputs": [],
   "source": [
    "F,D = Smith_Waterman(S,T,True)"
   ]
  },
  {
   "cell_type": "code",
   "execution_count": null,
   "metadata": {},
   "outputs": [],
   "source": []
  },
  {
   "cell_type": "markdown",
   "metadata": {},
   "source": [
    "Matrix F an matrix D should look like this"
   ]
  },
  {
   "cell_type": "code",
   "execution_count": 39,
   "metadata": {},
   "outputs": [
    {
     "data": {
      "text/plain": [
       "<matplotlib.axes._subplots.AxesSubplot at 0x7fafa8bbf590>"
      ]
     },
     "execution_count": 39,
     "metadata": {},
     "output_type": "execute_result"
    },
    {
     "data": {
      "image/png": "[encoded data removed]",
      "text/plain": [
       "<Figure size 432x288 with 2 Axes>"
      ]
     },
     "metadata": {
      "needs_background": "light"
     },
     "output_type": "display_data"
    }
   ],
   "source": [
    "# Do not execute this cell"
   ]
  },
  {
   "cell_type": "code",
   "execution_count": 40,
   "metadata": {},
   "outputs": [
    {
     "data": {
      "text/plain": [
       "<matplotlib.axes._subplots.AxesSubplot at 0x7faf6a6f6890>"
      ]
     },
     "execution_count": 40,
     "metadata": {},
     "output_type": "execute_result"
    },
    {
     "data": {
      "image/png": "[encoded data removed]",
      "text/plain": [
       "<Figure size 432x288 with 2 Axes>"
      ]
     },
     "metadata": {
      "needs_background": "light"
     },
     "output_type": "display_data"
    }
   ],
   "source": [
    "# Do not execute this cell"
   ]
  },
  {
   "cell_type": "markdown",
   "metadata": {},
   "source": [
    "# Real World Application\n",
    "## Clustering of microRNA sequences\n",
    "\n",
    "In this section we use the Levenshtein distance to study the similarity between sequences from a database.\n",
    "\n",
    "+ Install the Levenshtein Python library: `pip install python-Levenshtein` (in Colab)\n",
    "+ Download some miRNA sequences from the miRBase database: http://www.mirbase.org/ftp.shtml \n",
    "+ Compute the pairwise distances between the different sequences.\n",
    "+ Use the `clustermap` function from `seaborn` to represent the results, take a look at the documentation and explain the function.\n",
    "\n"
   ]
  },
  {
   "cell_type": "code",
   "execution_count": null,
   "metadata": {},
   "outputs": [],
   "source": []
  },
  {
   "cell_type": "markdown",
   "metadata": {},
   "source": [
    "## More material\n",
    "\n",
    "+ Illustration for Needleman-Wunsch: https://www.wikiwand.com/en/Needleman%E2%80%93Wunsch_algorithm\n",
    "\n",
    "+ Illustration for Smith-Waterman:  https://www.wikiwand.com/en/Smith%E2%80%93Waterman_algorithm"
   ]
  },
  {
   "cell_type": "code",
   "execution_count": null,
   "metadata": {},
   "outputs": [],
   "source": []
  }
 ],
 "metadata": {
  "kernelspec": {
   "display_name": "Python 3",
   "language": "python",
   "name": "python3"
  },
  "language_info": {
   "codemirror_mode": {
    "name": "ipython",
    "version": 3
   },
   "file_extension": ".py",
   "mimetype": "text/x-python",
   "name": "python",
   "nbconvert_exporter": "python",
   "pygments_lexer": "ipython3",
   "version": "3.7.4"
  }
 },
 "nbformat": 4,
 "nbformat_minor": 2
}
