{
 "cells": [
  {
   "cell_type": "code",
   "execution_count": 1,
   "metadata": {},
   "outputs": [],
   "source": [
    "%matplotlib inline\n",
    "import matplotlib.pyplot as plt\n",
    "import numpy as np\n"
   ]
  },
  {
   "cell_type": "markdown",
   "metadata": {},
   "source": [
    "# Comparing distances\n",
    "## 1) String distances\n",
    "### 1.1) Hamming distance\n",
    "Let $S$ and $T$ be two strings of same length. \n",
    "The Hamming distance between these two strings is simply $d(T,S) = |\\{i \\quad \\forall i \\in \\{1,..., |S|\\} \\; | \\; T[i]\\neq S[i])$.\n",
    "This distance represent the number of positions where both strings differ, or in other words, the minimum number of substitutions (e.g., errors) that changed one string into the other.\n",
    "\n",
    "__Questions:__\n",
    "+ Write a program that computes the Hamming distance between two strings\n",
    "+ Compute its complexity\n",
    "+ Describe the limits of this method? Propose an example to explain your point"
   ]
  },
  {
   "cell_type": "code",
   "execution_count": null,
   "metadata": {},
   "outputs": [],
   "source": []
  },
  {
   "cell_type": "markdown",
   "metadata": {},
   "source": [
    "### 1.2) Levenshtein distance\n",
    "In order to compare strings that have different lengths, or strings that undergo other kinds of modification (e.g., insertions, deletionss), the Levenshtein distance can be used.\n",
    "\n",
    "Let $S$ and $T$ be two strings with possibly $|S| \\neq |T|$, and let $\\mathbb{1}_{S[i] \\neq T[j]}$ be the indicator function that is equal to one when $S[i] \\neq T[j]$ and 0 otherwise.\n",
    "\n",
    "Let $\\mathcal{L}_{S,T}(i,j)$ be the Levenshtein distance between the first $i$ characters of $S$ and the first $j$ characters of $T$:\n",
    "\n",
    "+ if $min(i,j)=0$: $\\quad \\mathcal{L}_{S,T}(i,j)= max(i,j)$ \n",
    "\n",
    "\n",
    "+ Otherwise:\n",
    "\n",
    "$$\n",
    "    \\mathcal{L}_{S,T}(i,j)= min\n",
    "\\begin{cases}\n",
    "    \\mathcal{L}_{S,T}(i-1,j) + 1\\\\\n",
    "    \\mathcal{L}_{S,T}(i,j-1) + 1\\\\\n",
    "    \\mathcal{L}_{S,T}(i-1,j-1) + \\mathbb{1}_{S[i] \\neq T[j]}\n",
    "\\end{cases}\n",
    "$$\n",
    "\n",
    "The Wagner–Fischer algorithm, can be used to compute the Levenshtein distance between $S$ and $T$. \n",
    "This dynamic programming algorithm, stores a matrix with the Levenshtein distances between all prefixes of both strings.\n",
    "The last value of the matrix (at row $|S|$ and column $|T|$) stores the Levenshtein distance between both strings.\n",
    "\n",
    "__Questions:__\n",
    "\n",
    "+ Explain each line of the function\n",
    "+ Implicitly, this algorithm assigns a scoring function to each kind of modification, which are these scores?\n",
    "+ Compute the complexity of the algorithm that aims at computing this function\n",
    "+ Program this function in python\n",
    "+ Compare two strings, and represent the matrix using imshow"
   ]
  },
  {
   "cell_type": "code",
   "execution_count": null,
   "metadata": {},
   "outputs": [],
   "source": []
  },
  {
   "cell_type": "markdown",
   "metadata": {},
   "source": [
    "## 3) Alignment\n",
    "\n",
    "### 3.1) Needleman-Wunsch - Global Alignment\n",
    "\n",
    "This algorithm performs a global sequence alignment, i.e., it finds the best alignment over the entire length of two sequences $S$ and $T$. Intuitively the algorithm seeks an alignment that maximizes the number of element-to-element matches.\n",
    "This dynamic programming algorithm is similar to the Wagner–Fischer algorithm.\n",
    "The underlying scoring system defined by Needleman and Wunsch is equal to 1 for matches,  -1 for mismatches or indels.\n",
    "Let $F_{S,T}(i,j)$ be the total number of matches scoring between the first $i$ elements of $S$ and the first $j$ elements of $T$:\n",
    "\n",
    "+ If $i=0$ or $j=0$ $F_{S,T}(i,j) = -max(i,j)$ \n",
    "\n",
    "+ Otherwise:\n",
    "\n",
    "$$\n",
    "        \\mathcal{F}_{S,T}(i,j)= max\n",
    "\\begin{cases}\n",
    "    \\mathcal{F}_{S,T}(i-1,j) - 1\\\\\n",
    "    \\mathcal{F}_{S,T}(i,j-1) - 1\\\\\n",
    "    \\mathcal{F}_{S,T}(i-1,j-1) - \\mathbb{1}_{S[i] \\neq T[j]} + \\mathbb{1}_{S[i] = T[j]}\n",
    "\\end{cases}\n",
    "$$\n",
    "\n",
    "+ Record the values of $F_{S,T}(i,j)$ in a matrix\n",
    "\n",
    "+ For each element in the matrix, record the decision that was made to reach this value: \n",
    "    + $\\mathcal{F}_{S,T}(i-1,j)$\n",
    "    + $\\mathcal{F}_{S,T}(i,j-1)$\n",
    "    + or $\\mathcal{F}_{S,T}(i-1,j-1)$).  \n",
    "\n",
    "+ In order to find the best alignment, \n",
    "\n",
    "+ To find the best alignment we start from the last element of the matrix (at row $|S|$ and column $|T|$) and we move backwards until we reach the first one (at row $0$ and column $0$). At each position we check which decision leaded to the actual solution (many solutions are sometimes possible, in this case you can keep all of them).\n",
    "    + If the decision was $F_{S,T}(i-1,j)$ then it means that $S[i]$ is aligned with a gap\n",
    "    + If the decision was $F_{S,T}(i,j-1)$ then $T[j]$ is aligned with a gap\n",
    "    + If it was $F_{S,T}(i-1,j-1)$ then $S[i]$ and $T[j]$ are aligned. You can use the records you made in the previous step or recompute the possibilities ... both are possible.\n",
    "\\end{itemize}\n",
    "\n",
    "__Questions:__\n",
    "+ Program the Needleman-Wunsch algorithm, the function should take two strings as input and should return the decisions matrix, as well as the scores matrix\n",
    "+ Program a function that receives the strings as well as the decision function and returns an aligned version of both strings (deleted characters being replaced by \"_\")\n",
    "+ Compute the complexity of this algorithm\n",
    "+ Change the underlying scoring parameters, and run some tests to assess the impact"
   ]
  },
  {
   "cell_type": "code",
   "execution_count": null,
   "metadata": {},
   "outputs": [],
   "source": []
  },
  {
   "cell_type": "markdown",
   "metadata": {},
   "source": [
    "### 3.2) Smith-Waterman - local Alignment\n",
    "\n",
    "Smith-Waterman algorithm performs local sequence alignment, i.e., it finds alignments shorter than the entire sequences.\n",
    "This kind of alignments is particularly useful when we compare two sequences that are very different, but that may share some local regions with high similarity.\n",
    "The Smith-Waterman algorithm is very similar to the Needleman-Wunsch method.\n",
    "The only difference in terms of instructions to build the matrix is the following line: \n",
    "\n",
    "+ If $i=0$ or $j=0$ $F_{S,T}(i,j) = -max(i,j)$ (Needleman-Wunch)\n",
    "+ If $i=0$ or $j=0$ $F_{S,T}(i,j) = 0$ (Smith-Waterman)\n",
    "\n",
    "Moreover, instead of starting at position $|S|$ and $|T|$ to track back the alignment, one should start at the maximal position in the matrix\n",
    "\n",
    "__Questions:__\n",
    "+ Explain the reasons behind the difference between both methods\n",
    "+ Program the Smith-Waterman algorithm, the function should take two strings as input and should return the decisions matrix, as well as the scores matrix\n",
    "+ Program a function that receives the strings as well as the decision and the score matrices and returns an aligned version of both strings (deleted characters being replaced by \"_\")\n",
    "+ Compute the complexity of this algorithm\n",
    "+ Change the underlying scoring parameters, and run some tests to assess the impact\n"
   ]
  },
  {
   "cell_type": "code",
   "execution_count": null,
   "metadata": {},
   "outputs": [],
   "source": []
  },
  {
   "cell_type": "markdown",
   "metadata": {},
   "source": [
    "# Real World Application\n",
    "## Clustering of microRNA sequences\n",
    "\n",
    "In this section we use the Levenshtein distance to study the similarity between sequences from a database.\n",
    "\n",
    "+ Install the Levenshtein Python library: `pip install python-Levenshtein` (in Colab)\n",
    "+ Download some miRNA sequences from the miRBase database: http://www.mirbase.org/ftp.shtml \n",
    "+ Compute the pairwise distances between the different sequences.\n",
    "+ Use the `clustermap` function from `seaborn` to represent the results, take a look at the documentation and explain the function.\n",
    "\n"
   ]
  },
  {
   "cell_type": "code",
   "execution_count": null,
   "metadata": {},
   "outputs": [],
   "source": []
  },
  {
   "cell_type": "markdown",
   "metadata": {},
   "source": [
    "## More material\n",
    "\n",
    "+ Illustration for Needleman-Wunsch: https://www.wikiwand.com/en/Needleman%E2%80%93Wunsch_algorithm\n",
    "\n",
    "+ Illustration for Smith-Waterman:  https://www.wikiwand.com/en/Smith%E2%80%93Waterman_algorithm"
   ]
  },
  {
   "cell_type": "code",
   "execution_count": null,
   "metadata": {},
   "outputs": [],
   "source": []
  }
 ],
 "metadata": {
  "kernelspec": {
   "display_name": "Python 3",
   "language": "python",
   "name": "python3"
  },
  "language_info": {
   "codemirror_mode": {
    "name": "ipython",
    "version": 3
   },
   "file_extension": ".py",
   "mimetype": "text/x-python",
   "name": "python",
   "nbconvert_exporter": "python",
   "pygments_lexer": "ipython3",
   "version": "3.7.4"
  }
 },
 "nbformat": 4,
 "nbformat_minor": 2
}
