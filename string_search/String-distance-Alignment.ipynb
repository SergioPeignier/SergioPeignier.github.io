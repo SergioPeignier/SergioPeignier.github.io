{
 "cells": [
  {
   "cell_type": "code",
   "execution_count": 1,
   "metadata": {},
   "outputs": [],
   "source": [
    "%matplotlib inline\n",
    "import matplotlib.pyplot as plt\n",
    "import numpy as np\n"
   ]
  },
  {
   "cell_type": "markdown",
   "metadata": {},
   "source": [
    "# Comparing distances\n",
    "## 1) String distances\n",
    "### 1.1) Hamming distance\n",
    "Let $S$ and $T$ be two strings of same length. \n",
    "The Hamming distance between these two strings is simply $d(T,S) = |\\{i \\quad \\forall i \\in \\{1,..., |S|\\} \\; | \\; T[i]\\neq S[i])$.\n",
    "This distance represent the number of positions where both strings differ, or in other words, the minimum number of substitutions (e.g., errors) that changed one string into the other.\n",
    "\n",
    "__Questions:__\n",
    "+ Write a program that computes the Hamming distance between two strings\n",
    "+ Compute its complexity\n",
    "+ Describe the limits of this method? Propose an example to explain your point"
   ]
  },
  {
   "cell_type": "code",
   "execution_count": 2,
   "metadata": {},
   "outputs": [],
   "source": [
    "def hamming_distance(S,T):\n",
    "    if len(S) != len(T):\n",
    "        return None\n",
    "    d = 0\n",
    "    for i,s in enumerate(S):\n",
    "        d += s != T[i]\n",
    "    return d"
   ]
  },
  {
   "cell_type": "code",
   "execution_count": 3,
   "metadata": {},
   "outputs": [
    {
     "data": {
      "text/plain": [
       "3"
      ]
     },
     "execution_count": 3,
     "metadata": {},
     "output_type": "execute_result"
    }
   ],
   "source": [
    "hamming_distance(\"dans l'herbe noire les kobolds vont\",\n",
    "                 \"dans l'herbr noird lzs kobolds vont\")"
   ]
  },
  {
   "cell_type": "code",
   "execution_count": 4,
   "metadata": {},
   "outputs": [
    {
     "data": {
      "text/plain": [
       "36"
      ]
     },
     "execution_count": 4,
     "metadata": {},
     "output_type": "execute_result"
    }
   ],
   "source": [
    "hamming_distance(\"dans l'herbe noire les kobolds vont \",\n",
    "                 \" dans l'herbe noire les kobolds vont\")"
   ]
  },
  {
   "cell_type": "markdown",
   "metadata": {},
   "source": [
    "### 1.2) Levenshtein distance\n",
    "In order to compare strings that have different lengths, or strings that undergo other kinds of modification (e.g., insertions, deletionss), the Levenshtein distance can be used.\n",
    "\n",
    "Let $S$ and $T$ be two strings with possibly $|S| \\neq |T|$, and let $\\mathbb{1}_{S[i] \\neq T[j]}$ be the indicator function that is equal to one when $S[i] \\neq T[j]$ and 0 otherwise.\n",
    "\n",
    "Let $\\mathcal{L}_{S,T}(i,j)$ be the Levenshtein distance between the first $i$ characters of $S$ and the first $j$ characters of $T$:\n",
    "\n",
    "+ if $min(i,j)=0$: $\\quad \\mathcal{L}_{S,T}(i,j)= max(i,j)$ \n",
    "\n",
    "\n",
    "+ Otherwise:\n",
    "\n",
    "$$\n",
    "    \\mathcal{L}_{S,T}(i,j)= min\n",
    "\\begin{cases}\n",
    "    \\mathcal{L}_{S,T}(i-1,j) + 1\\\\\n",
    "    \\mathcal{L}_{S,T}(i,j-1) + 1\\\\\n",
    "    \\mathcal{L}_{S,T}(i-1,j-1) + \\mathbb{1}_{S[i] \\neq T[j]}\n",
    "\\end{cases}\n",
    "$$\n",
    "\n",
    "The Wagner–Fischer algorithm, can be used to compute the Levenshtein distance between $S$ and $T$. \n",
    "This dynamic programming algorithm, stores a matrix with the Levenshtein distances between all prefixes of both strings.\n",
    "The last value of the matrix (at row $|S|$ and column $|T|$) stores the Levenshtein distance between both strings.\n",
    "\n",
    "__Questions:__\n",
    "\n",
    "+ Explain each line of the function\n",
    "+ Implicitly, this algorithm assigns a scoring function to each kind of modification, which are these scores?\n",
    "+ Compute the complexity of the algorithm that aims at computing this function\n",
    "+ Program this function in python\n",
    "+ Compare two strings, and represent the matrix using imshow"
   ]
  },
  {
   "cell_type": "code",
   "execution_count": 5,
   "metadata": {},
   "outputs": [
    {
     "data": {
      "text/plain": [
       "array([[0., 1., 2., 3., 4.],\n",
       "       [1., 0., 1., 2., 3.],\n",
       "       [2., 1., 0., 1., 2.],\n",
       "       [3., 2., 1., 1., 1.]])"
      ]
     },
     "execution_count": 5,
     "metadata": {},
     "output_type": "execute_result"
    }
   ],
   "source": [
    "def Levenstein_distance(S,T,return_matrix=False):\n",
    "    L = np.zeros((len(S)+1,len(T)+1))\n",
    "    L[0,:] = range(len(T)+1)\n",
    "    L[:,0] = range(len(S)+1)\n",
    "    for i in range(1,len(S)+1):\n",
    "        for j in range(1,len(T)+1):\n",
    "            comparison = int(S[i-1]!=T[j-1])\n",
    "            L[i,j] = min([L[i-1,j] + 1, L[i,j-1] + 1, L[i-1,j-1] + comparison])\n",
    "    if return_matrix:\n",
    "        return L\n",
    "    return(L[-1,-1])\n",
    "Levenstein_distance(\"abc\",\"abdc\",True)"
   ]
  },
  {
   "cell_type": "code",
   "execution_count": 6,
   "metadata": {},
   "outputs": [
    {
     "data": {
      "text/plain": [
       "16.0"
      ]
     },
     "execution_count": 6,
     "metadata": {},
     "output_type": "execute_result"
    }
   ],
   "source": [
    "Levenstein_distance(\"dans l'herbe noire les kobolds vont \",\n",
    "                   \" dans l'herbe noire les kobolds vont le vent profond\")"
   ]
  },
  {
   "cell_type": "code",
   "execution_count": 7,
   "metadata": {},
   "outputs": [],
   "source": [
    "L = Levenstein_distance(\"dans l'herbe noire les kobolds vont \",\n",
    "                        \" dans l'herbe noire les kobolds vont le vent profond\",\n",
    "                        return_matrix=True)\n"
   ]
  },
  {
   "cell_type": "code",
   "execution_count": 8,
   "metadata": {},
   "outputs": [
    {
     "data": {
      "text/plain": [
       "<matplotlib.image.AxesImage at 0x7f8ba8fbb850>"
      ]
     },
     "execution_count": 8,
     "metadata": {},
     "output_type": "execute_result"
    },
    {
     "data": {
      "image/png": "[encoded data removed]",
      "text/plain": [
       "<Figure size 432x288 with 1 Axes>"
      ]
     },
     "metadata": {
      "needs_background": "light"
     },
     "output_type": "display_data"
    }
   ],
   "source": [
    "plt.imshow(L)"
   ]
  },
  {
   "cell_type": "markdown",
   "metadata": {},
   "source": [
    "## 3) Alignment\n",
    "\n",
    "### 3.1) Needleman-Wunsch - Global Alignment\n",
    "\n",
    "This algorithm performs a global sequence alignment, i.e., it finds the best alignment over the entire length of two sequences $S$ and $T$. Intuitively the algorithm seeks an alignment that maximizes the number of element-to-element matches.\n",
    "This dynamic programming algorithm is similar to the Wagner–Fischer algorithm.\n",
    "The underlying scoring system defined by Needleman and Wunsch is equal to 1 for matches,  -1 for mismatches or indels.\n",
    "Let $F_{S,T}(i,j)$ be the total number of matches scoring between the first $i$ elements of $S$ and the first $j$ elements of $T$:\n",
    "\n",
    "+ If $i=0$ or $j=0$ $F_{S,T}(i,j) = -max(i,j)$ \n",
    "\n",
    "+ Otherwise:\n",
    "\n",
    "$$\n",
    "        \\mathcal{F}_{S,T}(i,j)= max\n",
    "\\begin{cases}\n",
    "    \\mathcal{F}_{S,T}(i-1,j) - 1\\\\\n",
    "    \\mathcal{F}_{S,T}(i,j-1) - 1\\\\\n",
    "    \\mathcal{F}_{S,T}(i-1,j-1) - \\mathbb{1}_{S[i] \\neq T[j]} + \\mathbb{1}_{S[i] = T[j]}\n",
    "\\end{cases}\n",
    "$$\n",
    "\n",
    "+ Record the values of $F_{S,T}(i,j)$ in a matrix\n",
    "\n",
    "+ For each element in the matrix, record the decision that was made to reach this value: \n",
    "    + $\\mathcal{F}_{S,T}(i-1,j)$\n",
    "    + $\\mathcal{F}_{S,T}(i,j-1)$\n",
    "    + or $\\mathcal{F}_{S,T}(i-1,j-1)$).  \n",
    "\n",
    "+ In order to find the best alignment, \n",
    "\n",
    "+ To find the best alignment we start from the last element of the matrix (at row $|S|$ and column $|T|$) and we move backwards until we reach the first one (at row $0$ and column $0$). At each position we check which decision leaded to the actual solution (many solutions are sometimes possible, in this case you can keep all of them).\n",
    "    + If the decision was $F_{S,T}(i-1,j)$ then it means that $S[i]$ is aligned with a gap\n",
    "    + If the decision was $F_{S,T}(i,j-1)$ then $T[j]$ is aligned with a gap\n",
    "    + If it was $F_{S,T}(i-1,j-1)$ then $S[i]$ and $T[j]$ are aligned. You can use the records you made in the previous step or recompute the possibilities ... both are possible.\n",
    "\\end{itemize}\n",
    "\n",
    "__Questions:__\n",
    "+ Program the Needleman-Wunsch algorithm, the function should take two strings as input and should return the decisions matrix, as well as the scores matrix\n",
    "+ Program a function that receives the strings as well as the decision function and returns an aligned version of both strings (deleted characters being replaced by \"_\")\n",
    "+ Compute the complexity of this algorithm\n",
    "+ Change the underlying scoring parameters, and run some tests to assess the impact"
   ]
  },
  {
   "cell_type": "code",
   "execution_count": 9,
   "metadata": {},
   "outputs": [],
   "source": [
    "def NWmatrix2strings(S,T,D):\n",
    "    S_WITH_GAP = -1\n",
    "    T_WITH_GAP = 1\n",
    "    S_T_ALIGN = 0\n",
    "    i = D.shape[0]-1\n",
    "    j = D.shape[1]-1\n",
    "    S_aligned = \"\"\n",
    "    T_aligned = \"\"\n",
    "    while i > 0 or j > 0:\n",
    "        #print(i,j,T[j-1],S[i-1],D[i,j])\n",
    "        if D[i,j] == S_WITH_GAP:\n",
    "            S_aligned = S[i-1]+S_aligned\n",
    "            T_aligned = \"_\"+T_aligned\n",
    "            #print(S_aligned,T_aligned)\n",
    "            i -= 1\n",
    "        elif D[i,j] == T_WITH_GAP:\n",
    "            T_aligned = T[j-1]+ T_aligned\n",
    "            S_aligned = \"_\"+S_aligned\n",
    "            #print(S_aligned,T_aligned)\n",
    "            j -= 1\n",
    "        elif D[i,j] == S_T_ALIGN:\n",
    "            S_aligned = S[i-1] + S_aligned\n",
    "            T_aligned = T[j-1] + T_aligned\n",
    "            #print(S_aligned,T_aligned)\n",
    "            j -= 1\n",
    "            i -= 1\n",
    "    return(S_aligned,T_aligned)\n",
    "    \n",
    "def Needleman_Wunch(S,T,return_matrix=False):\n",
    "    T_WITH_GAP = 1\n",
    "    S_WITH_GAP = -1\n",
    "    S_T_ALIGN = 0\n",
    "    decision = [T_WITH_GAP,S_WITH_GAP,S_T_ALIGN]\n",
    "    F = np.zeros((len(S)+1,len(T)+1))\n",
    "    F[0,:] = range(len(T)+1)\n",
    "    F[:,0] = range(len(S)+1)\n",
    "    F *= -1\n",
    "    D = np.zeros((len(S)+1,len(T)+1))\n",
    "    D[0,1:] = T_WITH_GAP \n",
    "    D[1:,0] = S_WITH_GAP \n",
    "    for i in range(1,len(S)+1):\n",
    "        for j in range(1,len(T)+1):\n",
    "            comparison = int(S[i-1]==T[j-1])*2-1 # * 10\n",
    "            options = [F[i,j-1] - 1, F[i-1,j] - 1, F[i-1,j-1] + comparison]\n",
    "            F[i,j] = options[0]\n",
    "            D[i,j] = T_WITH_GAP\n",
    "            for o,val in enumerate(options):\n",
    "                if val > F[i,j]:\n",
    "                    F[i,j] = val\n",
    "                    D[i,j] = decision[o]\n",
    "    if return_matrix:\n",
    "        return F,D"
   ]
  },
  {
   "cell_type": "code",
   "execution_count": 10,
   "metadata": {},
   "outputs": [
    {
     "data": {
      "text/plain": [
       "(\"_dans l'herbe noire les gros kobolds vont _______________\",\n",
       " \" dans l'herbe noire les _____kobolds vont le vent profond\")"
      ]
     },
     "execution_count": 10,
     "metadata": {},
     "output_type": "execute_result"
    }
   ],
   "source": [
    "S = \"dans l'herbe noire les gros kobolds vont \"\n",
    "T = \" dans l'herbe noire les kobolds vont le vent profond\"\n",
    "F,D = Needleman_Wunch(S,T,True)\n",
    "NWmatrix2strings(S,T,D)"
   ]
  },
  {
   "cell_type": "code",
   "execution_count": 11,
   "metadata": {},
   "outputs": [
    {
     "data": {
      "text/plain": [
       "<matplotlib.image.AxesImage at 0x7f8ba9491790>"
      ]
     },
     "execution_count": 11,
     "metadata": {},
     "output_type": "execute_result"
    },
    {
     "data": {
      "image/png": "[encoded data removed]",
      "text/plain": [
       "<Figure size 432x288 with 1 Axes>"
      ]
     },
     "metadata": {
      "needs_background": "light"
     },
     "output_type": "display_data"
    }
   ],
   "source": [
    "plt.imshow(F)"
   ]
  },
  {
   "cell_type": "markdown",
   "metadata": {},
   "source": [
    "### 3.2) Smith-Waterman - local Alignment\n",
    "\n",
    "Smith-Waterman algorithm performs local sequence alignment, i.e., it finds alignments shorter than the entire sequences.\n",
    "This kind of alignments is particularly useful when we compare two sequences that are very different, but that may share some local regions with high similarity.\n",
    "The Smith-Waterman algorithm is very similar to the Needleman-Wunsch method.\n",
    "The only difference in terms of instructions to build the matrix is the following line: \n",
    "\n",
    "+ If $i=0$ or $j=0$ $F_{S,T}(i,j) = -max(i,j)$ (Needleman-Wunch)\n",
    "+ + If $i=0$ or $j=0$ $F_{S,T}(i,j) = 0$ (Smith-Waterman)\n",
    "\n",
    "Moreover, instead of starting at position $|S|$ and $|T|$ to track back the alignment, one should start at the maximal position in the matrix\n",
    "\n",
    "__Questions:__\n",
    "+ Explain the reasons behind the difference between both methods\n",
    "+ Program the Smith-Waterman algorithm, the function should take two strings as input and should return the decisions matrix, as well as the scores matrix\n",
    "+ Program a function that receives the strings as well as the decision and the score matrices and returns an aligned version of both strings (deleted characters being replaced by \"_\")\n",
    "+ Compute the complexity of this algorithm\n",
    "+ Change the underlying scoring parameters, and run some tests to assess the impact\n"
   ]
  },
  {
   "cell_type": "code",
   "execution_count": 15,
   "metadata": {},
   "outputs": [],
   "source": [
    "def SWmatrix2strings(S,T,D,F):\n",
    "    S_WITH_GAP = -1\n",
    "    T_WITH_GAP = 1\n",
    "    S_T_ALIGN = 0\n",
    "    i,j = np.unravel_index(F.argmax(),F.shape)\n",
    "    print(i,j)\n",
    "    S_aligned = \"\"\n",
    "    T_aligned = \"\"\n",
    "    while i > 0 and j > 0:\n",
    "        #print(i,j,T[j-1],S[i-1],D[i,j])\n",
    "        if D[i,j] == S_WITH_GAP:\n",
    "            S_aligned = S[i-1]+S_aligned\n",
    "            T_aligned = \"_\"+T_aligned\n",
    "            #print(S_aligned,T_aligned)\n",
    "            i -= 1\n",
    "        elif D[i,j] == T_WITH_GAP:\n",
    "            T_aligned = T[j-1]+ T_aligned\n",
    "            S_aligned = \"_\"+S_aligned\n",
    "            #print(S_aligned,T_aligned)\n",
    "            j -= 1\n",
    "        elif D[i,j] == S_T_ALIGN:\n",
    "            S_aligned = S[i-1] + S_aligned\n",
    "            T_aligned = T[j-1] + T_aligned\n",
    "            #print(S_aligned,T_aligned)\n",
    "            j -= 1\n",
    "            i -= 1\n",
    "    return(S_aligned,T_aligned)\n",
    "\n",
    "def Smith_Waterman(S,T,return_matrix=False):\n",
    "    T_WITH_GAP = 1\n",
    "    S_WITH_GAP = -1\n",
    "    S_T_ALIGN = 0\n",
    "    decision = [T_WITH_GAP,S_WITH_GAP,S_T_ALIGN]\n",
    "    F = np.zeros((len(S)+1,len(T)+1))\n",
    "    D = np.zeros((len(S)+1,len(T)+1))\n",
    "    D[0,1:] = T_WITH_GAP \n",
    "    D[1:,0] = S_WITH_GAP \n",
    "    for i in range(1,len(S)+1):\n",
    "        for j in range(1,len(T)+1):\n",
    "            comparison = int(S[i-1]==T[j-1])*2-1\n",
    "            options = [F[i,j-1] - 1, F[i-1,j] - 1, F[i-1,j-1] + comparison]\n",
    "            F[i,j] = options[0]\n",
    "            D[i,j] = T_WITH_GAP\n",
    "            for o,val in enumerate(options):\n",
    "                if val > F[i,j]:\n",
    "                    F[i,j] = val\n",
    "                    D[i,j] = decision[o]\n",
    "    if return_matrix:\n",
    "        return F,D"
   ]
  },
  {
   "cell_type": "code",
   "execution_count": 16,
   "metadata": {},
   "outputs": [
    {
     "name": "stdout",
     "output_type": "stream",
     "text": [
      "73 37\n"
     ]
    },
    {
     "data": {
      "text/plain": [
       "(\" dans l'herbe noir(e les kobolds vont \",\n",
       " \" dans l'herbe noir_e les kobolds vont \")"
      ]
     },
     "execution_count": 16,
     "metadata": {},
     "output_type": "execute_result"
    }
   ],
   "source": [
    "S = \"un buisson gifle l'oeil au passant. dans l'herbe noir(e les kobolds vont \"\n",
    "T = \" dans l'herbe noire les kobolds vont le vent profond pleure on veut croire\"\n",
    "F,D = Smith_Waterman(S,T,True)\n",
    "SWmatrix2strings(S,T,D,F)"
   ]
  },
  {
   "cell_type": "code",
   "execution_count": 17,
   "metadata": {},
   "outputs": [
    {
     "data": {
      "text/plain": [
       "<matplotlib.image.AxesImage at 0x7f8ba9429510>"
      ]
     },
     "execution_count": 17,
     "metadata": {},
     "output_type": "execute_result"
    },
    {
     "data": {
      "image/png": "[encoded data removed]",
      "text/plain": [
       "<Figure size 432x288 with 1 Axes>"
      ]
     },
     "metadata": {
      "needs_background": "light"
     },
     "output_type": "display_data"
    }
   ],
   "source": [
    "plt.imshow(F)"
   ]
  },
  {
   "cell_type": "markdown",
   "metadata": {},
   "source": [
    "# Real World Application\n",
    "## Clustering of microRNA sequences\n",
    "\n",
    "In this section we use the Levenshtein distance to study the similarity between sequences from a database.\n",
    "\n",
    "+ Install the Levenshtein Python library: `pip install python-Levenshtein` (in Colab)\n",
    "+ Download some miRNA sequences from the miRBase database: http://www.mirbase.org/ftp.shtml \n",
    "+ Compute the pairwise distances between the different sequences.\n",
    "+ Use the `clustermap` function from `seaborn` to represent the results, take a look at the documentation and explain the function.\n",
    "\n"
   ]
  },
  {
   "cell_type": "code",
   "execution_count": null,
   "metadata": {},
   "outputs": [],
   "source": []
  },
  {
   "cell_type": "markdown",
   "metadata": {},
   "source": [
    "## More material\n",
    "\n",
    "+ Illustration for Needleman-Wunsch: https://www.wikiwand.com/en/Needleman%E2%80%93Wunsch_algorithm\n",
    "\n",
    "+ Illustration for Smith-Waterman:  https://www.wikiwand.com/en/Smith%E2%80%93Waterman_algorithm"
   ]
  },
  {
   "cell_type": "code",
   "execution_count": null,
   "metadata": {},
   "outputs": [],
   "source": []
  }
 ],
 "metadata": {
  "kernelspec": {
   "display_name": "Python 3",
   "language": "python",
   "name": "python3"
  },
  "language_info": {
   "codemirror_mode": {
    "name": "ipython",
    "version": 3
   },
   "file_extension": ".py",
   "mimetype": "text/x-python",
   "name": "python",
   "nbconvert_exporter": "python",
   "pygments_lexer": "ipython3",
   "version": "3.7.4"
  }
 },
 "nbformat": 4,
 "nbformat_minor": 2
}
